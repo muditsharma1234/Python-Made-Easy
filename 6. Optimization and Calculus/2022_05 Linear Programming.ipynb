{
 "cells": [
  {
   "cell_type": "markdown",
   "id": "74a64808",
   "metadata": {},
   "source": [
    "### Linear Programming Problems\n",
    "Linear programming problems are type of problems where both of our constraint and objective function equations are linear in nature. There are multiple ways to solve a linear programming problem, we can either use graphical method or use algebric methods to solve these problems. \n",
    "<br>We will not be covering graphical methods here. But an essential thing to remember is that the solution of a linear programming problem when solved graphically the solution resides in ***VERTICES OF THE GRAPH***. Also, graphical methods can be used for equations in 2 variables (at max 3) otherwise plotting those points might not be possible. \n",
    "<br>An example of the LPP can be taken as:\n",
    "<br>Z = 4x + 6y $\\to$ this is our objective function we need to either maximize or minimize this\n",
    "<br>-x+y $\\leq$ 11\n",
    "<br> x+y $\\leq$ 27\n",
    "<br> 2x + 5y $\\leq$ 90\n",
    "<br>Each one of these are constraint equations. "
   ]
  },
  {
   "cell_type": "code",
   "execution_count": 36,
   "id": "6edbf76d",
   "metadata": {},
   "outputs": [
    {
     "data": {
      "image/png": "[encoded data removed]",
      "text/plain": [
       "<Figure size 432x288 with 1 Axes>"
      ]
     },
     "metadata": {
      "needs_background": "light"
     },
     "output_type": "display_data"
    }
   ],
   "source": [
    "import numpy as np\n",
    "import matplotlib.pyplot as plt\n",
    "x = np.linspace(0,20,10000) \n",
    "y1 = 11.0 + x\n",
    "y2 = 27.0 - x\n",
    "y3 = (90-2*x)/5.0\n",
    "plt.plot(x,y1,label = r'$-x+y\\leq11$')\n",
    "plt.plot(x,y2,label = r'$x+y\\leq27$')\n",
    "plt.plot(x,y3,label = r'$2x+5y\\leq90$')\n",
    "#plt.xlim((0, 20))\n",
    "#plt.ylim((0, 40))\n",
    "plt.xlabel(r'$x$')\n",
    "plt.ylabel(r'$y$')\n",
    "y5 = np.minimum(y1, y2)\n",
    "plt.fill_between(x, y3, y5, where=y3<y5, color='grey', alpha=0.5)\n",
    "plt.legend(bbox_to_anchor=(1.05, 1), loc=2, borderaxespad=0.)\n",
    "plt.show()"
   ]
  },
  {
   "cell_type": "markdown",
   "id": "8ad68f83",
   "metadata": {},
   "source": [
    "Now, we know for a linear programming problem the solution resides at one of the vertex. We can compute the z value for the solution of each of the vertex and check which is the maximum. \n",
    "However, there is one rule of thumb:\n",
    "- If the problem is a maximization point furthest away from the origin is the maximum\n",
    "- If the problem is for minimization point closest to the origin is the minimum\n",
    "\n",
    "<br>This rule will undergo change if the feasible region has origin inside or the plot is on the negative side. \n",
    "<br>Also, this solution can be applied only in the case when there are two variables more than that god help us in plotting the function. "
   ]
  },
  {
   "cell_type": "code",
   "execution_count": 41,
   "id": "d79d9e39",
   "metadata": {},
   "outputs": [
    {
     "name": "stdout",
     "output_type": "stream",
     "text": [
      "{x: 8, y: 19}\n",
      "{x: 5, y: 16}\n",
      "{x: 15, y: 12}\n"
     ]
    }
   ],
   "source": [
    "import sympy as sp\n",
    "x,y = sp.symbols('x y')\n",
    "eqn = [y-x-11,x+y-27]\n",
    "print(sp.solve(eqn,[x,y]))\n",
    "eqn = [y-x-11,2*x+5*y-90]\n",
    "print(sp.solve(eqn,[x,y]))\n",
    "eqn = [y+x-27,2*x+5*y-90]\n",
    "print(sp.solve(eqn,[x,y]))"
   ]
  },
  {
   "cell_type": "markdown",
   "id": "351c4507",
   "metadata": {},
   "source": [
    "You can check 15,12 will give us the maximum value of the objective function and therefore that is our answer for X,Y and corresponding objective function. "
   ]
  },
  {
   "cell_type": "markdown",
   "id": "ed192964",
   "metadata": {},
   "source": [
    "#### Simplex Algorithm \n",
    "Simplex algorithm was developed in 1947, the original idea of the algorithm was to use steepest descent by George Bernard Dantzig towards the optimal solution. However, the original idea was to move along the edges. Which from the above example is evident would have been very inefficient because of $\\infty$ points. Thus this idea was immediately rejected. \n",
    "<br>Therefore he started working towards vertex to vertex optimization and therefore the simplex algorithm was born. \n",
    "<br>Enough of history let us go to the evaluation of the algorithm:\n",
    "<br>Optimize - <center>$c_1x_1$ + $c_2x_2$ + $c_3x_3$ ... + $c_nx_n$</center>\n",
    "<br>Subject to constraints:\n",
    "<br> <center>$a_{11}x_1 + a_{12}x_2 + a_{13}x_3 + ... + a_{1n}x_n \\leq b_1$</center>\n",
    "<br> <center>$a_{21}x_1 + a_{22}x_2 + a_{23}x_3 + ... + a_{2n}x_n \\leq b_1$</center>\n",
    "<br><center>.</center>\n",
    "<br><center>.</center>\n",
    "<br><center>.</center>\n",
    "<br> <center>$a_{m1}x_1 + a_{m2}x_2 + a_{m3}x_3 + ... + a_{mn}x_n \\leq b_1$</center>"
   ]
  },
  {
   "cell_type": "markdown",
   "id": "43775742",
   "metadata": {},
   "source": [
    "**STEPS FOR SIMPLEX ALGORITHM**\n",
    "There are some set of defined set of steps to solve a linear programming problem using simplex problem. There can be set into different format based on how we set the simplex problem (the end result is not going to vary). The steps of the simplex algorithm is:\n",
    "- Set the problem in standard (correct) format\n",
    "    - Set the objective function as maximum problem (if you have minimum problem multiply the objective function by -1\n",
    "    - Set all the constraints as $\\leq$ format (if there is a $\\geq$ constraint multiply constraint by -1\n",
    "    - All the variables should be positive\n",
    "- Add requisite slack variables (these variables are added to make $\\geq$ constraint into = type\n",
    "- Create the initial simplex tableau\n",
    "- Identify the Original Basis Solution corresponding to the basis variables\n",
    "- Find the maximum -ve value in the last row (this will become our Pivot Column) - this will be entering variable\n",
    "- Find the minimum-non-negative ratio of RHS with the Pivot Column (this becomes exiting basis variable\n",
    "- Use Gauss-Jordan elimination to make other elements (apart from entering variable) as Zero\n",
    "- Find the next maximum -ve value in the last row\n",
    "- Stop when there are no -ve values in the last row\n",
    "\n",
    "<br>This will become clear using an example. Let us solve the same problem we solved using graphical method.\n",
    "\n",
    "*EXAMPLE 1:*\n",
    "<br> Maximize 4$x_1$+6$x_2$\n",
    "<br> Subject to constraint:\n",
    "<br> -$x_1 + x_2 \\leq 11$\n",
    "<br> $x_1 + x_2 \\leq 27$\n",
    "<br> $2x_1 + 5x_2 \\leq 90$\n",
    "<br> $x_1$,$x_2$ $\\geq $ 0"
   ]
  },
  {
   "cell_type": "markdown",
   "id": "2b4611d7",
   "metadata": {},
   "source": [
    "**Implementation of Simplex Algorithm - Solution by Hand**\n",
    "<br>*SOLUTION*\n",
    "<br>**STEP 1**: Set the problem in standard form\n",
    "<br>For setting in standard form we need to do two things:\n",
    "- Make the Objective function in Maximization form (Here we have the objective function already in the maximization form so we don't need to do anything\n",
    "- Convert all constraints in $\\leq$ format here again all the constraints are already in $\\leq$ format so we don't need to do anything\n",
    "\n",
    "<br>Our Problem in standard form becomes:\n",
    "<br> Maximize <center>4$x_1$ + 6$x_2$</center>\n",
    "<br> Subject to constraint:\n",
    "<br> <center>-$x_1 + x_2 \\leq 11$</center>\n",
    "<br> <center>$x_1 + x_2 \\leq 27$</center>\n",
    "<br> <center>$2x_1 + 5x_2 \\leq 90$</center>\n",
    "<br> <center>$x_1$,$x_2$ $\\geq $ 0</center>\n",
    "\n",
    "**STEP 2**: Addition of Slack Variables\n",
    "<br> Maximize <center>4$x_1$ + 6$x_2$</center>\n",
    "<br><br> <center>-$x_1 + x_2 + s_1 = 11$</center>\n",
    "<br> <center>$x_1 + x_2      + s_2 = 27$</center>\n",
    "<br> <center>$2x_1 + 5x_2    + s_3 = 90$</center>\n",
    "\n",
    "**STEP 3**: Setting up of Simplex Tableau\n",
    "<img src=\"Images/Step 1.jpeg\" width=\"800\">\n",
    "\n",
    "<br>Following are the elements of this table:\n",
    "- Top row is the coefficients of the variables in Objective Function\n",
    "- Second row is the names of all variables (including the slack variables)\n",
    "- Third row is the coefficients of variables in $1{st}$ constraint\n",
    "- Fourth row is the coefficients of variables in $1{nd}$ constraint\n",
    "- Fifth row is the coefficients of variables in $3{rd}$ constraint\n",
    "- Sixth row is the Negative Values of coefficient of respective variables in objective function\n",
    "\n",
    "<br>If we set $x_1$, $x_2$ & $x_3$ as Zero we can get values of $s_1 = 11$, $s_2 = 27$ & $s_3 = 90$ and corresponding value of the objective function is Zero because all variables determining objective function ($x_1$ & $x_2$) are Zero. \n",
    "\n",
    "<br>This is called the Initial Basic Feasible Solution $(x_1,x_2,s_1,s_2,s_3) = (0,0,11,27,90)$"
   ]
  },
  {
   "cell_type": "markdown",
   "id": "bca4f4d5",
   "metadata": {},
   "source": [
    "**STEP 4**: Choosing the maximum Negative Value from the last row and determine entering and exiting variable\n",
    "<img src=\"Images/Step 2.jpeg\" width=\"800\">\n",
    "<br>Here we have -6 as the most negative value $\\to$ $x_2$ becomes the entering variable and RHS/1 is minimum for 11 so $s_1$ becomes the exiting variable. Now we will perform Gaussian Elimination to alter the rows."
   ]
  },
  {
   "cell_type": "markdown",
   "id": "5f30290e",
   "metadata": {},
   "source": [
    "**STEP 5**: Gaussian Elimination to make the pivot element 1 and remaining elements in pivot column as Zero\n",
    "<img src=\"Images/Step 3.jpeg\" width=\"800\">"
   ]
  },
  {
   "cell_type": "markdown",
   "id": "95b38896",
   "metadata": {},
   "source": [
    "**STEP 6**: Continue with the same steps if there is a negative value in the last row.\n",
    "<img src=\"Images/Step 4.jpeg\" width=\"800\">\n",
    "<img src=\"Images/Step 5.jpeg\" width=\"800\">"
   ]
  },
  {
   "cell_type": "markdown",
   "id": "124690e4",
   "metadata": {},
   "source": [
    "There is still a negative value in the bottom row we need to repeat the step. (Gaussian Elimination and Pivot Element Identification)\n",
    "<img src=\"Images/Step 6.jpeg\" width=\"800\">"
   ]
  },
  {
   "cell_type": "markdown",
   "id": "b3be0a0f",
   "metadata": {},
   "source": [
    "As we can see in the last table, all the values in bottom row are Non-Negative. \n",
    "<br>Also, the variables which have entered the table (and not left) are listed in first column $x_2, s_1$ and $x_1$.\n",
    "<br>These become the basis variable and we can equate each one of them equal to RHS and remaining values are Zero. \n",
    "<br>This is also the solution we found in our Graphical Method, last value 132 is the maximum value the function can take. \n",
    "<br>Final solution becomes ($x_1$,$x_2$,$s_1$,$s_2$,$s_3$) = (15,12,14,0,0)"
   ]
  },
  {
   "cell_type": "markdown",
   "id": "58233592",
   "metadata": {},
   "source": [
    "*NOTE 1*: Ignore the side calculations that is rough work\n",
    "<br>*NOTE 2*: I would have solved more questions, but it is difficult to write so much in proper handwriting !!! \n",
    "\n",
    "<br>We will solve some questions using the ```scipy``` package (It won't give individual steps) but will solve the problem for us quickly. \n",
    "<br>Just remember standard format of solution in Simplex was maximize. However, in ```scipy``` standard format is **MINIMIZE**\n",
    "<br>Our Objective Function $4x_1$ + $6x_2$ $\\to$ -$4x_1$ + -$6x_2$ for ```SCIPY STANDARDIZATION```\n",
    "<br>Remaining standardizations are same as Simplex so no change required for our constraints."
   ]
  },
  {
   "cell_type": "code",
   "execution_count": 2,
   "id": "63ccd2e4",
   "metadata": {},
   "outputs": [],
   "source": [
    "import numpy as np\n",
    "from scipy.optimize import linprog\n",
    "obj = [-4,-6] #These are coefficients of our objective function\n",
    "lhs = [[-1,1],[1,1],[2,5]] #LHS Inequalities\n",
    "rhs = [11,27,90]\n",
    "#lhs_eq = [[x1,x2],[y1,y2]] This will be required if there is an equality constraint not required here\n",
    "#rhs_eq = [[a1,a2]] This will be required if there is an equality constraint RHS value of the same\n",
    "bnd = [(0,float('inf')),(0,float('inf'))] #This is boundary of our decision variables used because positive"
   ]
  },
  {
   "cell_type": "code",
   "execution_count": 4,
   "id": "e29613c1",
   "metadata": {},
   "outputs": [],
   "source": [
    "#optimization = linprog(c = obj,\n",
    "#                       A_ub = lhs,\n",
    "#                      b_ub = rhs,\n",
    "#                      bounds = bnd,\n",
    "#                      A_eq = lhs_eq,\n",
    "#                      b_eq = rhs_eq\n",
    "#                      method = 'simplex')\n",
    "\n",
    "#If we had equality constraints we would've used the A_eq and b_eq variables. \n",
    "\n",
    "optimization = linprog(c = obj,\n",
    "                       A_ub = lhs,\n",
    "                      b_ub = rhs,\n",
    "                      bounds = bnd,\n",
    "                      method = 'simplex')"
   ]
  },
  {
   "cell_type": "code",
   "execution_count": 6,
   "id": "aba3fa03",
   "metadata": {},
   "outputs": [
    {
     "data": {
      "text/plain": [
       "     con: array([], dtype=float64)\n",
       "     fun: -132.0\n",
       " message: 'Optimization terminated successfully.'\n",
       "     nit: 4\n",
       "   slack: array([14.,  0.,  0.])\n",
       "  status: 0\n",
       " success: True\n",
       "       x: array([15., 12.])"
      ]
     },
     "execution_count": 6,
     "metadata": {},
     "output_type": "execute_result"
    }
   ],
   "source": [
    "optimization"
   ]
  },
  {
   "cell_type": "markdown",
   "id": "5ef17b1d",
   "metadata": {},
   "source": [
    "As we can see we got the same solution as the above two methods (SURPRISE SURPRISE) we should not have expected otherwise. This completes the simplex method.\n",
    "\n",
    "---"
   ]
  },
  {
   "cell_type": "markdown",
   "id": "bc934138",
   "metadata": {},
   "source": [
    "**CLASS EXERCISE**:\n",
    "<br> Objective: Maximize: 5$x_1$ - 3$x_2$ - 4$x_3$ + 7$x_4$\n",
    "<br>Subject to:\n",
    "<br>$x_1 + x_2 + x_3 + x_4 \\leq 14$\n",
    "<br>$x_1 + x_3 \\leq 7$\n",
    "<br>$2x_1 + x_2 + x_3 \\leq 13$\n",
    "<br>$x_1$, $x_2$ ... $x_4$ $\\geq$ 0\n",
    "\n",
    "<br>This being a maximization problem we will convert it to minimization to use in ```scipy```. \n",
    "<br>Objective: Maximize: 5$x_1$ - 3$x_2$ - 4$x_3$ + 7$x_4$ $\\to$ Minimize: -5$x_1$ + 3$x_2$ + 4$x_3$ - 7$x_4$\n",
    "<br>Constraints are all ok"
   ]
  },
  {
   "cell_type": "code",
   "execution_count": 8,
   "id": "5210eb22",
   "metadata": {},
   "outputs": [
    {
     "data": {
      "text/plain": [
       "     con: array([], dtype=float64)\n",
       "     fun: -98.0\n",
       " message: 'Optimization terminated successfully.'\n",
       "     nit: 7\n",
       "   slack: array([ 0.,  7., 13.])\n",
       "  status: 0\n",
       " success: True\n",
       "       x: array([ 0.,  0.,  0., 14.])"
      ]
     },
     "execution_count": 8,
     "metadata": {},
     "output_type": "execute_result"
    }
   ],
   "source": [
    "import numpy as np\n",
    "from scipy.optimize import linprog\n",
    "obj = [-5,3,4,-7]\n",
    "lhs = [[1,1,1,1],\n",
    "      [1,0,1,0],\n",
    "      [2,1,1,0]]\n",
    "rhs = [14,7,13]\n",
    "bnd = [(0,float('inf')),(0,float('inf')),(0,float('inf')),(0,float('inf'))] #There are 4 bounds because 4 variables\n",
    "\n",
    "optimize = linprog(c = obj,\n",
    "                  A_ub = lhs,\n",
    "                  b_ub = rhs,\n",
    "                  bounds = bnd,\n",
    "                  method = 'simplex')\n",
    "optimize"
   ]
  },
  {
   "cell_type": "markdown",
   "id": "301bac14",
   "metadata": {},
   "source": [
    "This gives the optimal basis as ($x_1$,$x_2$,$x_3$,$x_4$) = $(0,0,0,14)$"
   ]
  },
  {
   "cell_type": "code",
   "execution_count": 1,
   "id": "22ba4cfa",
   "metadata": {},
   "outputs": [
    {
     "name": "stdout",
     "output_type": "stream",
     "text": [
      "Optimal Value -16.19999999998804 \n",
      " [[1.20000000e+00]\n",
      " [4.30630311e-13]\n",
      " [3.40000000e+00]\n",
      " [2.02115516e-12]\n",
      " [2.22165400e-11]]\n"
     ]
    }
   ],
   "source": [
    "import numpy as np\n",
    "from scipy.optimize import linprog\n",
    "A = np.array([[1,2,2,1,0],[3,4,1,0,1]])\n",
    "b = np.array([8,7])\n",
    "c = np.array([-5,-2,-3,1,-1])\n",
    "res = linprog(c,A_ub = A,b_ub = b,bounds=(0,None))\n",
    "print(\"Optimal Value\", res.fun,\"\\n\",np.array([res.x]).T)"
   ]
  },
  {
   "cell_type": "code",
   "execution_count": 8,
   "id": "1c2005e3",
   "metadata": {},
   "outputs": [
    {
     "name": "stdout",
     "output_type": "stream",
     "text": [
      "Optimal Solution: 3.9999999999969558 \n",
      " [[2.00000000e+00]\n",
      " [6.25054235e-14]]\n"
     ]
    }
   ],
   "source": [
    "import numpy as np\n",
    "from scipy.optimize import linprog\n",
    "A = np.array([[-1,-1],\n",
    "             [2,3],\n",
    "             [-1,0],\n",
    "             [0,-1]])\n",
    "b = np.array([-2,12,0,0])\n",
    "c = np.array([2,3])\n",
    "res = linprog(c,A_ub = A, b_ub = b,bounds=(0,None))\n",
    "print(\"Optimal Solution:\", res.fun, \"\\n\", np.array([res.x]).T)"
   ]
  },
  {
   "cell_type": "code",
   "execution_count": null,
   "id": "32303e84",
   "metadata": {},
   "outputs": [],
   "source": []
  }
 ],
 "metadata": {
  "kernelspec": {
   "display_name": "Python 3 (ipykernel)",
   "language": "python",
   "name": "python3"
  },
  "language_info": {
   "codemirror_mode": {
    "name": "ipython",
    "version": 3
   },
   "file_extension": ".py",
   "mimetype": "text/x-python",
   "name": "python",
   "nbconvert_exporter": "python",
   "pygments_lexer": "ipython3",
   "version": "3.9.12"
  }
 },
 "nbformat": 4,
 "nbformat_minor": 5
}
