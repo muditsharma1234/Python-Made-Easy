{
 "cells": [
  {
   "cell_type": "markdown",
   "id": "cd221b03",
   "metadata": {},
   "source": [
    "### Introduction to Optimization:\n",
    "Optimization has been a very important field of mathematics and physics where people have been trying to find out most efficient solution to a particular problem. (By efficient I don't mean which takes minimum resources). \n",
    "<br>History of optimization problems goes long back in time:\n",
    "1. Greek mathematicians used optimization to solve for geometric studies\n",
    "        a.Euclid tried to compute minimum distance between a point and line also proved square has the greatest area for a given length of total edges (compared to rectangles)\n",
    "        b. Heron proved that light travels through two points which has the shortest path\n",
    "2. Humanity took a Real stride in this area happened when Newton invented calculus (along with Leibniz):\n",
    "        a. We could compute hosts of things using calculus - body of minimum resistance\n",
    "        b. What is the minimum value of cone for a given surface area\n",
    "3. Use in Machine Learning:\n",
    "        a. With advancement in modern computing we are able to leverage the mathematical concepts in machine learning it has hosts of applications - Gradient Descent; Genetic Algorithm; Particle Swarm Optimization; Conjugate Gradient Method etc. \n",
    "        \n",
    "#### Typical Use optimization in Machine Learning:\n",
    "Optimization in machine learning is typically used for minimizing the errors or maximizing some particular values. This is a typical formulation of the optimization problems:\n",
    "<br>**INPUT VARIABLES**: Say there are certain set of input variables $X = (X_1,X_2,X_3,...X_n) \\in Real Numbers$ are called decision variables. \n",
    "<br>**OBJECTIVE FUNCTION**: Then there is a function $f \\to Real Number$ a function such that $f(X_1,X_2,...X_n) = Y$ where Y is our output variable. This function is called the ***OBJECTIVE FUNCTION***\n",
    "<br>**CONSTRAINTS**: Each of the variables $X_1,X_2,....X_n$ are subject to some constraints (say each $x \\ge 0$) \\\n",
    "\n",
    "#### Types of Optimization problems:\n",
    "There are generally two types of Optimization problems:\n",
    "1. Linear Programming Problems (LPP): Where objective function and the constraints are in form of linear functions\n",
    "2. Non Linear Programming Problems (NLP): Where the objective functions or constraints are in form on non-linear functions\n",
    "<br>Before we jump to optimization problems and their solutions, we would need to understand calculus first. We will try to understand some of the calculus techniques in python ```sympy``` is an important package which can be used for calculus in Python. "
   ]
  },
  {
   "cell_type": "code",
   "execution_count": 2,
   "id": "6b842652",
   "metadata": {},
   "outputs": [],
   "source": [
    "import sympy as sp"
   ]
  },
  {
   "cell_type": "code",
   "execution_count": 3,
   "id": "a24a6ca2",
   "metadata": {},
   "outputs": [
    {
     "name": "stdout",
     "output_type": "stream",
     "text": [
      "cos(x)\n"
     ]
    }
   ],
   "source": [
    "x = sp.symbols('x')\n",
    "derivative1 = sp.diff(sp.sin(x),x)\n",
    "print(derivative1)"
   ]
  },
  {
   "cell_type": "code",
   "execution_count": null,
   "id": "9e3c48d6",
   "metadata": {},
   "outputs": [],
   "source": []
  }
 ],
 "metadata": {
  "kernelspec": {
   "display_name": "Python 3 (ipykernel)",
   "language": "python",
   "name": "python3"
  },
  "language_info": {
   "codemirror_mode": {
    "name": "ipython",
    "version": 3
   },
   "file_extension": ".py",
   "mimetype": "text/x-python",
   "name": "python",
   "nbconvert_exporter": "python",
   "pygments_lexer": "ipython3",
   "version": "3.9.11"
  }
 },
 "nbformat": 4,
 "nbformat_minor": 5
}
