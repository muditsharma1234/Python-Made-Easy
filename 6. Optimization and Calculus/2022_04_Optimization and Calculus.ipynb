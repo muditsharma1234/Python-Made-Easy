{
 "cells": [
  {
   "cell_type": "markdown",
   "id": "cbecf169",
   "metadata": {},
   "source": [
    "### Introduction to Optimization:\n",
    "Optimization has been a very important field of mathematics and physics where people have been trying to find out most efficient solution to a particular problem. (By efficient I don't mean which takes minimum resources). \n",
    "<br>History of optimization problems goes long back in time:\n",
    "1. Greek mathematicians used optimization to solve for geometric studies\n",
    "        a.Euclid tried to compute minimum distance between a point and line also proved square has the greatest area for a given length of total edges (compared to rectangles)\n",
    "        b. Heron proved that light travels through two points which has the shortest path\n",
    "2. Humanity took a Real stride in this area happened when Newton invented calculus (along with Leibniz):\n",
    "        a. We could compute hosts of things using calculus - body of minimum resistance\n",
    "        b. What is the minimum value of cone for a given surface area\n",
    "3. Use in Machine Learning:\n",
    "        a. With advancement in modern computing we are able to leverage the mathematical concepts in machine learning it has hosts of applications - Gradient Descent; Genetic Algorithm; Particle Swarm Optimization; Conjugate Gradient Method etc. \n",
    "        \n",
    "#### Typical Use optimization in Machine Learning:\n",
    "Optimization in machine learning is typically used for minimizing the errors or maximizing some particular values. This is a typical formulation of the optimization problems:\n",
    "<br>**INPUT VARIABLES**: Say there are certain set of input variables $X = (X_1,X_2,X_3,...X_n) \\in Real Numbers$ are called decision variables. \n",
    "<br>**OBJECTIVE FUNCTION**: Then there is a function $f \\to Real Number$ a function such that $f(X_1,X_2,...X_n) = Y$ where Y is our output variable. This function is called the ***OBJECTIVE FUNCTION***\n",
    "<br>**CONSTRAINTS**: Each of the variables $X_1,X_2,....X_n$ are subject to some constraints (say each $x \\ge 0$) \\\n",
    "\n",
    "#### Types of Optimization problems:\n",
    "There are generally two types of Optimization problems:\n",
    "1. Linear Programming Problems (LPP): Where objective function and the constraints are in form of linear functions\n",
    "2. Non Linear Programming Problems (NLP): Where the objective functions or constraints are in form on non-linear functions\n",
    "\n",
    "##### Calculus in Python\n",
    "<br>Before we jump to optimization problems and their solutions, we would need to understand calculus first. We will try to understand some of the calculus techniques in python ```sympy``` is an important package which can be used for calculus in Python. \n",
    "<br>There are a couple of core concepts in calculus:\n",
    "1. Derivatives\n",
    "2. Integration\n",
    "3. Partial Derivatives\n",
    "4. Limits\n",
    "<br>For the below notebook I will assume you understand what a derivative is and how to compute it. However, I am attaching a small concept summary of derivatives in the image below. For formulas of derivative you can use this [derivative formula](https://byjus.com/maths/differentiation-formulas/). Link taken from BYJUS's website. \n",
    "<img src=\"1. Derivatives.JPEG\" width=\"1000\">\n",
    "<br>Apologies for my handwriting. "
   ]
  },
  {
   "cell_type": "code",
   "execution_count": 16,
   "id": "7b81bdd4",
   "metadata": {},
   "outputs": [],
   "source": [
    "import sympy as sp\n",
    "#import sympy \n",
    "#x = sp.symbols('x')"
   ]
  },
  {
   "cell_type": "code",
   "execution_count": 17,
   "id": "44ae7978",
   "metadata": {},
   "outputs": [
    {
     "data": {
      "text/latex": [
       "$\\displaystyle \\sin{\\left(Y \\right)}$"
      ],
      "text/plain": [
       "sin(Y)"
      ]
     },
     "execution_count": 17,
     "metadata": {},
     "output_type": "execute_result"
    }
   ],
   "source": [
    "y = sp.symbols('Y')\n",
    "y\n",
    "sp.sin(y)"
   ]
  },
  {
   "cell_type": "code",
   "execution_count": 18,
   "id": "0069063f",
   "metadata": {},
   "outputs": [
    {
     "name": "stdout",
     "output_type": "stream",
     "text": [
      "cos(x)\n"
     ]
    }
   ],
   "source": [
    "x = sp.symbols('x')\n",
    "a = sp.symbols('a')\n",
    "derivative1 = sp.diff(sp.sin(x))\n",
    "print(derivative1)"
   ]
  },
  {
   "cell_type": "code",
   "execution_count": 19,
   "id": "7746ce8e",
   "metadata": {},
   "outputs": [
    {
     "name": "stdout",
     "output_type": "stream",
     "text": [
      "3*sin(x)**2*cos(x)\n"
     ]
    }
   ],
   "source": [
    "derivative1 = sp.diff(sp.sin(x)**3,x)\n",
    "print(derivative1)"
   ]
  },
  {
   "cell_type": "code",
   "execution_count": 20,
   "id": "1ee4c88e",
   "metadata": {},
   "outputs": [
    {
     "data": {
      "text/latex": [
       "$\\displaystyle 3 \\sin^{2}{\\left(x \\right)} \\cos{\\left(x \\right)}$"
      ],
      "text/plain": [
       "3*sin(x)**2*cos(x)"
      ]
     },
     "execution_count": 20,
     "metadata": {},
     "output_type": "execute_result"
    }
   ],
   "source": [
    "sp.diff(sp.sin(x)**3,x)"
   ]
  },
  {
   "cell_type": "markdown",
   "id": "a9de77fe",
   "metadata": {},
   "source": [
    "In this manner you can compute derivative of any functions. Let us try to compute some basic derivatives using sympy. \n",
    "1. $\\frac{d }{d {x}}(sin(x))$\n",
    "2. $ \\frac {d }{d {x}}(cos(x))$\n",
    "3. $ \\frac {d }{d {x}}(a^x)$\n",
    "4. $\\frac {d }{d {x}}(ln(x))$\n",
    "5. $\\frac {d }{ d {x}}\\sqrt{x^2 + 2x + 2}$\n",
    "6. $\\frac {d }{d {x}} (\\frac {cos(x)-1}{x})$\n"
   ]
  },
  {
   "cell_type": "code",
   "execution_count": 21,
   "id": "f08c048c",
   "metadata": {},
   "outputs": [
    {
     "data": {
      "text/latex": [
       "$\\displaystyle - \\sin{\\left(x \\right)}$"
      ],
      "text/plain": [
       "-sin(x)"
      ]
     },
     "execution_count": 21,
     "metadata": {},
     "output_type": "execute_result"
    }
   ],
   "source": [
    "#1st we already solved let us start solving from second\n",
    "#2:\n",
    "sp.diff(sp.cos(x))\n"
   ]
  },
  {
   "cell_type": "code",
   "execution_count": 22,
   "id": "63b1062c",
   "metadata": {},
   "outputs": [
    {
     "data": {
      "text/latex": [
       "$\\displaystyle a^{x} \\log{\\left(a \\right)}$"
      ],
      "text/plain": [
       "a**x*log(a)"
      ]
     },
     "execution_count": 22,
     "metadata": {},
     "output_type": "execute_result"
    }
   ],
   "source": [
    "sp.diff(a**x,x) #We have to provide with respect to what we are differentiating"
   ]
  },
  {
   "cell_type": "code",
   "execution_count": 23,
   "id": "73c8f95f",
   "metadata": {},
   "outputs": [
    {
     "data": {
      "text/latex": [
       "$\\displaystyle \\frac{1}{x}$"
      ],
      "text/plain": [
       "1/x"
      ]
     },
     "execution_count": 23,
     "metadata": {},
     "output_type": "execute_result"
    }
   ],
   "source": [
    "sp.diff(sp.ln(x),x) "
   ]
  },
  {
   "cell_type": "code",
   "execution_count": 24,
   "id": "fd2d042c",
   "metadata": {},
   "outputs": [
    {
     "data": {
      "text/latex": [
       "$\\displaystyle - \\frac{\\sin{\\left(x \\right)}}{x} - \\frac{\\cos{\\left(x \\right)} - 1}{x^{2}}$"
      ],
      "text/plain": [
       "-sin(x)/x - (cos(x) - 1)/x**2"
      ]
     },
     "execution_count": 24,
     "metadata": {},
     "output_type": "execute_result"
    }
   ],
   "source": [
    "sp.diff((sp.cos(x)-1)/x)"
   ]
  },
  {
   "cell_type": "code",
   "execution_count": 25,
   "id": "2f7d8b1e",
   "metadata": {},
   "outputs": [
    {
     "data": {
      "text/latex": [
       "$\\displaystyle 2 x + 2$"
      ],
      "text/plain": [
       "2*x + 2"
      ]
     },
     "execution_count": 25,
     "metadata": {},
     "output_type": "execute_result"
    }
   ],
   "source": [
    "sp.diff(x**2 + 2*x + 2)"
   ]
  },
  {
   "cell_type": "code",
   "execution_count": 26,
   "id": "be8337b1",
   "metadata": {},
   "outputs": [],
   "source": [
    "#Declare the variables \n",
    "#First print that function \n",
    "# SP.diff"
   ]
  },
  {
   "cell_type": "markdown",
   "id": "5de4098d",
   "metadata": {},
   "source": [
    "5. $\\frac {d }{ d {x}}\\sqrt{x^2 + 2x + 2}$"
   ]
  },
  {
   "cell_type": "code",
   "execution_count": 27,
   "id": "f119cc22",
   "metadata": {},
   "outputs": [
    {
     "data": {
      "text/latex": [
       "$\\displaystyle \\frac{x + 1}{\\sqrt{x^{2} + 2 x + 2}}$"
      ],
      "text/plain": [
       "(x + 1)/sqrt(x**2 + 2*x + 2)"
      ]
     },
     "execution_count": 27,
     "metadata": {},
     "output_type": "execute_result"
    }
   ],
   "source": [
    "func = sp.sqrt(x**2 + 2*x + 2)\n",
    "func\n",
    "sp.diff(func,x)"
   ]
  },
  {
   "cell_type": "markdown",
   "id": "0c1ee20a",
   "metadata": {},
   "source": [
    "Some of these derivatives you could calculate by your own hand. However, good to know you can compute derivatives using a computer this will save you a lot of time. Let us try to compute derivatives of one of the functions given in the notes.\n",
    "We had following variables there:\n",
    "<br>$\\large Q = \\frac{(T - T_0)}{\\frac{ln(r_1/r_2)}{2LK\\pi} + \\frac{1}{h(L r_2 2\\pi )}}$\n",
    "<br>Now to solve this in sympy we need to declare each of the variables:\n",
    "<br>T, T0, r2,r1,L,k,h\n",
    "<br>So let us try to first create the variable"
   ]
  },
  {
   "cell_type": "code",
   "execution_count": 28,
   "id": "001bcda2",
   "metadata": {},
   "outputs": [
    {
     "data": {
      "text/latex": [
       "$\\displaystyle r_{2}$"
      ],
      "text/plain": [
       "r2"
      ]
     },
     "execution_count": 28,
     "metadata": {},
     "output_type": "execute_result"
    }
   ],
   "source": [
    "#Declare the variables\n",
    "T0 = sp.symbols('T0')\n",
    "#We can declare multiple symbols in one line as follows\n",
    "T, r2, r1, L,k,h = sp.symbols('T r2 r1 L k h')\n",
    "T\n",
    "r2"
   ]
  },
  {
   "cell_type": "markdown",
   "id": "09714403",
   "metadata": {},
   "source": [
    "As you can see you can declare all the variables in a single line. Now let us try to create the expression we are looking for first. I have used $T_0$ instead of $T_{\\inf}$ because it is easier to type it. "
   ]
  },
  {
   "cell_type": "code",
   "execution_count": 29,
   "id": "e6db93d3",
   "metadata": {},
   "outputs": [
    {
     "data": {
      "text/latex": [
       "$\\displaystyle \\frac{T - T_{0}}{\\frac{\\log{\\left(\\frac{r_{2}}{r_{1}} \\right)}}{2 \\pi L k} + \\frac{1}{2 \\pi L h r_{2}}}$"
      ],
      "text/plain": [
       "(T - T0)/(log(r2/r1)/(2*pi*L*k) + 1/(2*pi*L*h*r2))"
      ]
     },
     "execution_count": 29,
     "metadata": {},
     "output_type": "execute_result"
    }
   ],
   "source": [
    "#Now let us print the expression\n",
    "(T-T0)/(sp.log(r2/r1)/(2*L*k*sp.pi) + (1/(h*L*r2*2*sp.pi)))"
   ]
  },
  {
   "cell_type": "code",
   "execution_count": 30,
   "id": "9e476a34",
   "metadata": {},
   "outputs": [
    {
     "data": {
      "text/latex": [
       "$\\displaystyle \\frac{\\left(T - T_{0}\\right) \\left(- \\frac{1}{2 \\pi L k r_{2}} + \\frac{1}{2 \\pi L h r_{2}^{2}}\\right)}{\\left(\\frac{\\log{\\left(\\frac{r_{2}}{r_{1}} \\right)}}{2 \\pi L k} + \\frac{1}{2 \\pi L h r_{2}}\\right)^{2}}$"
      ],
      "text/plain": [
       "(T - T0)*(-1/(2*pi*L*k*r2) + 1/(2*pi*L*h*r2**2))/(log(r2/r1)/(2*pi*L*k) + 1/(2*pi*L*h*r2))**2"
      ]
     },
     "execution_count": 30,
     "metadata": {},
     "output_type": "execute_result"
    }
   ],
   "source": [
    "sp.diff((T-T0)/(sp.log(r2/r1)/(2*L*k*sp.pi) + (1/(h*L*r2*2*sp.pi))),r2)"
   ]
  },
  {
   "cell_type": "markdown",
   "id": "f18cc00a",
   "metadata": {},
   "source": [
    "Now that we have defined the expression let us differentiate it. We also know except for $r_2$ everything is a parameter of the model so we need to differentiate w.r.t $r_2$. We simply copy the above expression and put it in ```sp.diff()```. Let us try that. \n",
    "<br>Note when there are too many symbols you also need to tell the ```sympy``` with respect to what you are differentiating. "
   ]
  },
  {
   "cell_type": "code",
   "execution_count": 31,
   "id": "009f7430",
   "metadata": {},
   "outputs": [],
   "source": [
    "#sp.solve(sp.Eq(sp.diff((T-T0)/(sp.log(r2/r1)/(2*L*k*sp.pi) + (1/(h*L*r2*2*sp.pi))),L),100))"
   ]
  },
  {
   "cell_type": "markdown",
   "id": "9c3a5335",
   "metadata": {},
   "source": [
    "Because $2\\pi$ is in denominator of the $2^{nd}$ expression in numerator it can go to to numerator of overall expression and you get exactly what you were looking for in the notes. \n",
    "<br>How to solve the equation by putting this = 0. We will see subsequently. \n",
    "<br>However, what we have proved is ```sympy``` can take pretty much any sort of complexity while solving derivatives and gives a result which is pretty neat. \n",
    "<br>Just to be sure let us add our cone example also here. We will be doing pretty much everything in a couple of lines:\n",
    "1. Declare the variables\n",
    "2. Write the expression (Just to check if it matches with the expression you are looking at)\n",
    "3. Differentiate and voilla!!! "
   ]
  },
  {
   "cell_type": "code",
   "execution_count": 32,
   "id": "25d371d4",
   "metadata": {},
   "outputs": [
    {
     "data": {
      "text/latex": [
       "$\\displaystyle \\frac{\\pi x_{2} \\left(10 - x_{2}\\right)^{2}}{3}$"
      ],
      "text/plain": [
       "pi*x2*(10 - x2)**2/3"
      ]
     },
     "execution_count": 32,
     "metadata": {},
     "output_type": "execute_result"
    }
   ],
   "source": [
    "x1,x2 = sp.symbols('x1 x2') #Actually we don't need to declare both X1 and X2 because X1 = 10-X2\n",
    "(sp.pi*x2*(10-x2)**2)/3 #This is the expression we were looking at now let us try to differentiate it"
   ]
  },
  {
   "cell_type": "code",
   "execution_count": 33,
   "id": "7574e945",
   "metadata": {},
   "outputs": [
    {
     "data": {
      "text/latex": [
       "$\\displaystyle \\frac{\\pi x_{2} \\cdot \\left(2 x_{2} - 20\\right)}{3} + \\frac{\\pi \\left(10 - x_{2}\\right)^{2}}{3}$"
      ],
      "text/plain": [
       "pi*x2*(2*x2 - 20)/3 + pi*(10 - x2)**2/3"
      ]
     },
     "execution_count": 33,
     "metadata": {},
     "output_type": "execute_result"
    }
   ],
   "source": [
    "sp.diff((sp.pi*x2*(10-x2)**2)/3)"
   ]
  },
  {
   "cell_type": "markdown",
   "id": "33c1e6e8",
   "metadata": {},
   "source": [
    "In-fact the form in which we got this expression is a lot easier to solve we can take $(10-x_2)$ common to see one of the roots is $(10-x_2)$ which means $x_2 = 10$. Subsequently we will be left with $-2{\\pi}x_2 + {\\pi}(10-x_2)$, which will result in value of $x_2$ to be $\\frac{10}{3}$ \n",
    "\n",
    "#### Solving equations using ```sympy```"
   ]
  },
  {
   "cell_type": "code",
   "execution_count": 34,
   "id": "1a3eea60",
   "metadata": {},
   "outputs": [
    {
     "data": {
      "text/plain": [
       "[10/3, 10]"
      ]
     },
     "execution_count": 34,
     "metadata": {},
     "output_type": "execute_result"
    }
   ],
   "source": [
    "sp.solve(sp.Eq(sp.diff((sp.pi*x2*(10-x2)**2)/3),0))"
   ]
  },
  {
   "cell_type": "markdown",
   "id": "2b25af7b",
   "metadata": {},
   "source": [
    "## Polynomial Optimization"
   ]
  },
  {
   "cell_type": "code",
   "execution_count": 35,
   "id": "6e278d04",
   "metadata": {},
   "outputs": [],
   "source": [
    "import numpy as np\n",
    "x = np.array([[2,4],[4,16],[6,36],[8,64]])\n",
    "y = np.array([[0.078,0.111,0.153,0.209]]).T\n",
    "#NP.Array is also used to declare lists []"
   ]
  },
  {
   "cell_type": "code",
   "execution_count": 36,
   "id": "b84ccecc",
   "metadata": {},
   "outputs": [
    {
     "name": "stdout",
     "output_type": "stream",
     "text": [
      "[[ 2  4]\n",
      " [ 4 16]\n",
      " [ 6 36]\n",
      " [ 8 64]]\n"
     ]
    }
   ],
   "source": [
    "print(x)"
   ]
  },
  {
   "cell_type": "code",
   "execution_count": 37,
   "id": "1c12910a",
   "metadata": {},
   "outputs": [
    {
     "name": "stdout",
     "output_type": "stream",
     "text": [
      "[[ 120  800]\n",
      " [ 800 5664]]\n",
      "[[ 3.19 ]\n",
      " [20.972]]\n"
     ]
    }
   ],
   "source": [
    "#z = (x.T,x) and a= (x.T,y)\n",
    "#(x.T,x)-1 = np.linalg.in(z)\n",
    "z = np.dot(x.T,x)\n",
    "a = np.dot(x.T,y)\n",
    "print(z)\n",
    "print(a)"
   ]
  },
  {
   "cell_type": "code",
   "execution_count": 38,
   "id": "67669de5",
   "metadata": {},
   "outputs": [],
   "source": [
    "theta = np.dot(np.linalg.inv(z),a)"
   ]
  },
  {
   "cell_type": "code",
   "execution_count": 39,
   "id": "04183b2d",
   "metadata": {},
   "outputs": [
    {
     "name": "stdout",
     "output_type": "stream",
     "text": [
      "[[ 0.03252419]\n",
      " [-0.00089113]]\n"
     ]
    }
   ],
   "source": [
    "print(theta)\n",
    "#print(theta[0])"
   ]
  },
  {
   "cell_type": "code",
   "execution_count": 40,
   "id": "f7561f8b",
   "metadata": {},
   "outputs": [
    {
     "data": {
      "text/plain": [
       "[<matplotlib.lines.Line2D at 0x1987d2065e0>]"
      ]
     },
     "execution_count": 40,
     "metadata": {},
     "output_type": "execute_result"
    },
    {
     "data": {
      "image/png": "[encoded data removed]",
      "text/plain": [
       "<Figure size 720x576 with 1 Axes>"
      ]
     },
     "metadata": {
      "needs_background": "light"
     },
     "output_type": "display_data"
    }
   ],
   "source": [
    "y = [0.078,0.111,0.153,0.209]\n",
    "x = [2,4,6,8]\n",
    "import matplotlib.pyplot as plt\n",
    "ax,plt = plt.subplots(figsize = (10,8))\n",
    "z = theta[0]*x + theta[1]*[i**2 for i in x]\n",
    "plt.scatter(x,y,color = 'red')\n",
    "plt.plot(x,z)"
   ]
  },
  {
   "cell_type": "markdown",
   "id": "784dea4e",
   "metadata": {},
   "source": [
    "Solving the second equation which is given as:\n",
    "$a_0 + a_{1}e^{2x} + a_{2}e^{-2x}$"
   ]
  },
  {
   "cell_type": "code",
   "execution_count": 41,
   "id": "39045d25",
   "metadata": {},
   "outputs": [
    {
     "name": "stdout",
     "output_type": "stream",
     "text": [
      "[[7.38905610e+00 1.35335283e-01]\n",
      " [5.45981500e+01 1.83156389e-02]\n",
      " [4.03428793e+02 2.47875218e-03]\n",
      " [2.98095799e+03 3.35462628e-04]]\n",
      "[[8.54354060e-04]\n",
      " [1.88184005e+01]]\n"
     ]
    }
   ],
   "source": [
    "import math\n",
    "x = np.array([[math.exp(1*2),math.exp(-1*2)],\n",
    "              [math.exp(2*2),math.exp(-2*2)],\n",
    "              [math.exp(3*2),math.exp(-3*2)],\n",
    "              [math.exp(4*2),math.exp(-4*2)]])\n",
    "print(x)\n",
    "y = np.array([[2,4,4,2]]).T\n",
    "z = np.dot(x.T,x)\n",
    "a = np.dot(x.T,y)\n",
    "theta = np.dot(np.linalg.inv(z),a)\n",
    "print(theta)"
   ]
  },
  {
   "cell_type": "code",
   "execution_count": 42,
   "id": "ab5d1a72",
   "metadata": {},
   "outputs": [],
   "source": [
    "#import sympy as sp\n",
    "#k = sp.symbols('k')\n",
    "#sp.exp(2*k)\n",
    "#math.exp(2*2)"
   ]
  },
  {
   "cell_type": "code",
   "execution_count": 43,
   "id": "278d20ed",
   "metadata": {},
   "outputs": [
    {
     "data": {
      "text/plain": [
       "<matplotlib.collections.PathCollection at 0x1987d2932b0>"
      ]
     },
     "execution_count": 43,
     "metadata": {},
     "output_type": "execute_result"
    },
    {
     "data": {
      "image/png": "[encoded data removed]",
      "text/plain": [
       "<Figure size 720x576 with 1 Axes>"
      ]
     },
     "metadata": {
      "needs_background": "light"
     },
     "output_type": "display_data"
    }
   ],
   "source": [
    "import matplotlib.pyplot as plt\n",
    "import math\n",
    "plt,ax = plt.subplots(figsize = (10,8))\n",
    "xdash = np.arange(1,4,0.01)\n",
    "x = [1,2,3,4]\n",
    "y = [2,4,4,2]\n",
    "z = [theta[0]*math.exp(2*i) + 10*math.exp(-2*i) for i in xdash] \n",
    "ax.plot(xdash,z)\n",
    "ax.scatter(x,y,color = 'red')"
   ]
  },
  {
   "cell_type": "markdown",
   "id": "42afee7c",
   "metadata": {},
   "source": [
    "Pretty bad fitting as you can see, but the graph looks like a smile which is good !! "
   ]
  },
  {
   "cell_type": "markdown",
   "id": "335c21f8",
   "metadata": {},
   "source": [
    "### Incorrect way to solve - will put text later"
   ]
  },
  {
   "cell_type": "code",
   "execution_count": 44,
   "id": "466c30a8",
   "metadata": {},
   "outputs": [
    {
     "name": "stdout",
     "output_type": "stream",
     "text": [
      "[[ 1.          0.         -1.        ]\n",
      " [ 1.          0.69314718 -2.        ]\n",
      " [ 1.          1.09861229 -3.        ]\n",
      " [ 1.          1.38629436 -4.        ]]\n"
     ]
    }
   ],
   "source": [
    "x = np.array([[1,math.log(1),-1],[1,math.log(2),-2],[1,math.log(3),-3],[1,math.log(4),-4]])\n",
    "print(x)"
   ]
  },
  {
   "cell_type": "code",
   "execution_count": 45,
   "id": "4f61667b",
   "metadata": {},
   "outputs": [],
   "source": [
    "y = np.array([[math.log(2),math.log(4),math.log(4),math.log(2)]]).T"
   ]
  },
  {
   "cell_type": "code",
   "execution_count": 46,
   "id": "ddf808aa",
   "metadata": {},
   "outputs": [],
   "source": [
    "z = np.dot(x.T,x)\n",
    "a = np.dot(x.T,y)"
   ]
  },
  {
   "cell_type": "code",
   "execution_count": 47,
   "id": "e46e00ec",
   "metadata": {},
   "outputs": [
    {
     "name": "stdout",
     "output_type": "stream",
     "text": [
      "[[2.18446489]\n",
      " [3.30303331]\n",
      " [1.50761941]]\n"
     ]
    }
   ],
   "source": [
    "answer = np.dot(np.linalg.inv(z),a)\n",
    "print(answer)"
   ]
  },
  {
   "cell_type": "code",
   "execution_count": 48,
   "id": "d9f8a5fb",
   "metadata": {},
   "outputs": [
    {
     "name": "stdout",
     "output_type": "stream",
     "text": [
      "[[0.66135115]\n",
      " [1.        ]\n",
      " [0.45643482]]\n",
      "1.9374082985421757\n",
      "8.885892310742\n"
     ]
    }
   ],
   "source": [
    "fin_answer = answer/answer[1]\n",
    "print(fin_answer)\n",
    "print(math.exp(fin_answer[0]))\n",
    "print(math.exp(answer[0]))"
   ]
  },
  {
   "cell_type": "code",
   "execution_count": 71,
   "id": "e2c36521",
   "metadata": {},
   "outputs": [
    {
     "name": "stdout",
     "output_type": "stream",
     "text": [
      "1.9374082985421757\n",
      "[0.45643482]\n"
     ]
    }
   ],
   "source": [
    "b1 = math.exp(fin_answer[0])\n",
    "b2 = fin_answer[2]\n",
    "print(b1)\n",
    "print(b2)"
   ]
  },
  {
   "cell_type": "code",
   "execution_count": 72,
   "id": "f3cbbeb9",
   "metadata": {},
   "outputs": [
    {
     "data": {
      "text/plain": [
       "<matplotlib.collections.PathCollection at 0x1987e3a8d00>"
      ]
     },
     "execution_count": 72,
     "metadata": {},
     "output_type": "execute_result"
    },
    {
     "data": {
      "image/png": "[encoded data removed]",
      "text/plain": [
       "<Figure size 720x576 with 1 Axes>"
      ]
     },
     "metadata": {
      "needs_background": "light"
     },
     "output_type": "display_data"
    }
   ],
   "source": [
    "import matplotlib.pyplot as plt\n",
    "xdash = np.arange(1,4,0.01)\n",
    "ydash = [b1*i*math.exp(-b2*i) for i in xdash]\n",
    "y = [2,4,4,2]\n",
    "x = [1,2,3,4]\n",
    "plt,ax = plt.subplots(figsize = (10,8))\n",
    "ax.plot(xdash,ydash)\n",
    "ax.scatter(x,y)"
   ]
  },
  {
   "cell_type": "markdown",
   "id": "80828317",
   "metadata": {},
   "source": [
    "We were committing a mistake above which we will discuss later let us solve the problem first. "
   ]
  },
  {
   "cell_type": "markdown",
   "id": "f913502d",
   "metadata": {},
   "source": [
    "### Correct Solution"
   ]
  },
  {
   "cell_type": "code",
   "execution_count": 51,
   "id": "ec273cb9",
   "metadata": {},
   "outputs": [],
   "source": [
    "x = np.array([[1,-1],[1,-2],[1,-3],[1,-4]])\n",
    "y = np.array([[math.log(2/1),math.log(4/2),math.log(4/3),math.log(2/4)]]).T"
   ]
  },
  {
   "cell_type": "code",
   "execution_count": 52,
   "id": "f7249df9",
   "metadata": {},
   "outputs": [],
   "source": [
    "z = np.dot(x.T,x)\n",
    "a = np.dot(x.T,y)"
   ]
  },
  {
   "cell_type": "code",
   "execution_count": 53,
   "id": "76bd4589",
   "metadata": {},
   "outputs": [
    {
     "name": "stdout",
     "output_type": "stream",
     "text": [
      "[[1.38629436]\n",
      " [0.45643482]]\n"
     ]
    }
   ],
   "source": [
    "answer = np.dot(np.linalg.inv(z),a)\n",
    "print(answer)"
   ]
  },
  {
   "cell_type": "code",
   "execution_count": 54,
   "id": "d0821b8e",
   "metadata": {},
   "outputs": [
    {
     "name": "stdout",
     "output_type": "stream",
     "text": [
      "3.9999999999999973\n"
     ]
    }
   ],
   "source": [
    "b1 = math.exp(answer[0])\n",
    "print(b1)\n",
    "b2 = answer[1]"
   ]
  },
  {
   "cell_type": "code",
   "execution_count": 55,
   "id": "dcb240c5",
   "metadata": {},
   "outputs": [
    {
     "data": {
      "text/plain": [
       "<matplotlib.collections.PathCollection at 0x1987d5ba490>"
      ]
     },
     "execution_count": 55,
     "metadata": {},
     "output_type": "execute_result"
    },
    {
     "data": {
      "image/png": "[encoded data removed]",
      "text/plain": [
       "<Figure size 720x576 with 1 Axes>"
      ]
     },
     "metadata": {
      "needs_background": "light"
     },
     "output_type": "display_data"
    }
   ],
   "source": [
    "import matplotlib.pyplot as plt\n",
    "plt,ax = plt.subplots(figsize = (10,8))\n",
    "xdash = np.arange(1,4,0.01)\n",
    "ydash = [b1*i*math.exp(-b2*i) for i in xdash]\n",
    "y = [2,4,4,2]\n",
    "x = [1,2,3,4]\n",
    "ax.plot(xdash,ydash)\n",
    "ax.scatter(x,y)"
   ]
  },
  {
   "cell_type": "markdown",
   "id": "446a81b9",
   "metadata": {},
   "source": [
    "##### Solving for the inventory problem\n",
    "The inventory problem gives following information:\n",
    "1. Q = 100,000 units are sold through out the year where the demand is spread evenly across the year\n",
    "2. Cost of production is a linear function of number of units produced (example: $F + K \\times D$ where F is the fixed cost of production, K is the factor for per unit production and D is the number of units produced in every run. \n",
    "3. Inventory cost is a proportional function of number of units produced (unsold at that point in time?) (example: $L\\times D$)\n",
    "<br>Here we have two basic elements Cost of keeping the inventory and Cost of producing the units. \n",
    "\n",
    "**Taking example of extreme cases**:\n",
    "<br>Say we produce all the material on day 1 in a single run we will have 100,000 units produced this will reduce the production cost, but will incur huge inventory cost (depends on value of L). \n",
    "<br>Or we produce 1 unit every run and keep no inventory where in our production costs can balloon due to the factor F and K. \n",
    "\n",
    "<br>Solving the problem numerically:\n",
    "1. Let there be n runs producing D units per run $ \\to $ our Production cost = $n \\times (F + K \\times D) $\n",
    "2. Our inventory cost will be $L \\times D$ we are assuming by the time next run starts our inventory is sold-off \n",
    "3. Here $ Q = n \\times D $ total production = Number of Runs $\\times$ Number of units produced per run\n",
    "\n",
    "<br>So now our objective function is:\n",
    "<br> $Total Cost = L \\times D + n \\times (F + K \\times D)$ and we know $n = \\frac{Q}{D}$ we can substitute value of n in the equation to get\n",
    "<br> $Total Cost = LD + \\frac{Q}{D}(F + KD)$ $\\to$ $Total Cost = LD + F\\times\\frac{Q}{D} + KQ$\n",
    "<br>Here everything L, Q, F, K are fixed (these are parameters of the equation) only variable is D so we try to minimize Total Cost by differentiating with respect to D. Again ```sympy``` comes to rescue. \n",
    "<br>As we have done in previous examples steps are as follows:\n",
    "1. Define the symbols\n",
    "2. Find the derivative\n",
    "3. Find value of D for which the function gives derivative = 0\n",
    "<br>Yes import ```sympy``` step 0 !!! Let us solve this."
   ]
  },
  {
   "cell_type": "code",
   "execution_count": 56,
   "id": "68aa7569",
   "metadata": {},
   "outputs": [
    {
     "name": "stdout",
     "output_type": "stream",
     "text": [
      "D*L + K*Q + F*Q/D\n"
     ]
    },
    {
     "data": {
      "text/latex": [
       "$\\displaystyle L - \\frac{F Q}{D^{2}}$"
      ],
      "text/plain": [
       "L - F*Q/D**2"
      ]
     },
     "execution_count": 56,
     "metadata": {},
     "output_type": "execute_result"
    }
   ],
   "source": [
    "import sympy as sp\n",
    "#Declare the symbols\n",
    "L,D,Q,F,K = sp.symbols('L D Q F K')\n",
    "#Create the objective function\n",
    "func = L*D + Q*F/D + Q*K\n",
    "print(func)\n",
    "#Now differentiate\n",
    "sp.diff(func,D)\n"
   ]
  },
  {
   "cell_type": "code",
   "execution_count": 57,
   "id": "5121d1d1",
   "metadata": {},
   "outputs": [
    {
     "data": {
      "text/latex": [
       "$\\displaystyle \\frac{2 F Q}{D^{3}}$"
      ],
      "text/plain": [
       "2*F*Q/D**3"
      ]
     },
     "execution_count": 57,
     "metadata": {},
     "output_type": "execute_result"
    }
   ],
   "source": [
    "#You can differentiate a function twice also by defining the parameter\n",
    "sp.diff(func,D,2)\n",
    "#Now we can see the second derivative is positive means the value for D using first derivative = 0 is indeed the minimum\n",
    "#Because none of the parameters F,Q,D can be negative. "
   ]
  },
  {
   "cell_type": "code",
   "execution_count": 58,
   "id": "6c1a37df",
   "metadata": {},
   "outputs": [
    {
     "data": {
      "text/plain": [
       "[(-sqrt(F*Q/L), 0), (sqrt(F*Q/L), 0)]"
      ]
     },
     "execution_count": 58,
     "metadata": {},
     "output_type": "execute_result"
    }
   ],
   "source": [
    "#Solve for value = 0 using differentiation\n",
    "sp.solve(sp.diff(func,D),D,0)"
   ]
  },
  {
   "cell_type": "markdown",
   "id": "806d2ac4",
   "metadata": {},
   "source": [
    "```Sympy``` being a mathematical function doesn't care about us humans !!! It will give us mathematically most accurate answers possible. So we got two solutions $\\sqrt{\\frac{F\\times Q}{L}}$ and  $-\\sqrt{\\frac{F\\times Q}{L}}$.\n",
    "<br>Which is natural as a quadratic equation will always give us two solutions. As we can see for us the physical solution is the positive one means we can say the production in each run $D = \\sqrt{\\frac{F\\times Q}{L}}$. "
   ]
  },
  {
   "cell_type": "markdown",
   "id": "6d2461f4",
   "metadata": {},
   "source": [
    "***SOLVING FOR THE SPECIFIC CASE TO CHECK IF THE SOLUTION IS OPTIMUM***:\n",
    "<br>Next we are given a numerical condition - \n",
    "1. Fixed cost for production cost is 10,000 $\\to$ F = 10,000 \n",
    "2. Variable cost factor for production is 4 $\\to$ K = 4\n",
    "3. Cost factor for inventory is 1 $\\to$ L = 1\n",
    "4. Q is already given to us as 100,000\n",
    "<br>Compute number of units produced per run.\n",
    "<br> We can substitute values in ```sympy``` expression using ```sp.subs``` parameter to compute the value. "
   ]
  },
  {
   "cell_type": "code",
   "execution_count": 59,
   "id": "a2e30f18",
   "metadata": {},
   "outputs": [
    {
     "data": {
      "text/latex": [
       "$\\displaystyle 10000 \\sqrt{10}$"
      ],
      "text/plain": [
       "10000*sqrt(10)"
      ]
     },
     "execution_count": 59,
     "metadata": {},
     "output_type": "execute_result"
    }
   ],
   "source": [
    "func = sp.sqrt(F*Q/L)\n",
    "func\n",
    "##Now we substitute \n",
    "func.subs([(F,10000),(K,4),(L,1),(Q,100000)])\n",
    "#This gives us a nice mathematical expression. However, we need an absolute value\n"
   ]
  },
  {
   "cell_type": "code",
   "execution_count": 60,
   "id": "28eac37b",
   "metadata": {},
   "outputs": [
    {
     "name": "stdout",
     "output_type": "stream",
     "text": [
      "31622.776601683792\n",
      "31623.0\n"
     ]
    }
   ],
   "source": [
    "print(float(func.subs([(F,10000),(K,4),(L,1),(Q,100000)])))\n",
    "#We can round this value to produce an integer value. \n",
    "print(round(float(func.subs([(F,10000),(K,4),(L,1),(Q,100000)])),0))"
   ]
  },
  {
   "cell_type": "markdown",
   "id": "54a6642c",
   "metadata": {},
   "source": [
    "#### Optimization using numerical methods\n",
    "Optimization using python. Numerical methods there are three types of numerical methods:\n",
    "1. Newton's Method - $x_{k+1} = x_k - \\frac{f^`(x)}{f^{``}(x)}$ stopping condition is when $f^`(x_k) = 0$\n",
    "<br>Now we are using recursion technique where we try to resolve the value of $x_k$ till it is accurate to 0.000001 levels. We return the final value of the $x_k$\n",
    "<br>Let us understand the operation of this function:\n",
    "##### Operation of our function - introduction to recursion:\n",
    "Recursion is a very powerful technique and used very frequently in computer science. In recursion we re-use the function with some input. To take an example say we want to compute factorial of a number say n, which essentially is n x (n-1) x (n-2) ... 1. Here we can use recursion the logical steps of the algorithm as:\n",
    "1. Return n x factorial(n-1) if n > 1\n",
    "2. Else return 1\n",
    "<br>Let us create an algorithm for factorial computation. "
   ]
  },
  {
   "cell_type": "code",
   "execution_count": 61,
   "id": "c62aa029",
   "metadata": {},
   "outputs": [
    {
     "name": "stdout",
     "output_type": "stream",
     "text": [
      "24\n",
      "120\n",
      "3628800\n"
     ]
    }
   ],
   "source": [
    "def factorial(n):\n",
    "    if n == 1:\n",
    "        return 1\n",
    "    else:\n",
    "        return n*factorial(n-1)\n",
    "print(factorial(4))\n",
    "print(factorial(5))\n",
    "print(factorial(10))"
   ]
  },
  {
   "cell_type": "markdown",
   "id": "99dd6557",
   "metadata": {},
   "source": [
    "We will use similar recursion technique here. We will compute $x_{k+1} = x_k - \\frac{f^`(x)}{f^{``}(x)}$ where we will be recursively calling the computation of $x_k$ till we achieve either of the following:\n",
    "1. Maximum runs cross the desired count defined by maxiter\n",
    "2. Our desired level of accuracy is reached we define it to be 0.000001 \n",
    "<br>Either of these happen we return the final value (just as we returned 1 in our factorial example)\n",
    "<br>The function is defined as ```newton(f, a, counter = 1, maxiter = -1)```, let us define each of these as following:\n",
    "1. f is the function we will be using for optimization in class that was given as $x^2 + \\frac{25}{x}$.\n",
    "2. a is the value around which we want to optimize, 3 in our example \n",
    "3. counter is the counter variable to count the number of iterations we have to define it as 1 always because we want to start counting from 1\n",
    "4. maxiter is the maximum iteration -1 means it will run till the value reaches 0.00001 level of accuracy (maximum possible) if given any other value it will run till those many iterations\n",
    "<br>Let us run the code with maxiter = 2 and then run it till the end to see the value of the function"
   ]
  },
  {
   "cell_type": "code",
   "execution_count": 62,
   "id": "c95ac405",
   "metadata": {},
   "outputs": [],
   "source": [
    "def newton(f,a,counter = 1,maxiter = 201):\n",
    "    print(f\"Performing Iteration {counter}\")\n",
    "    counter+=1\n",
    "    fdash = sp.diff(f,x).subs(x,a)\n",
    "    print(f\"Fash is {round(float(fdash),4)}\")\n",
    "    fddash = sp.diff(f,x,2).subs(x,a)\n",
    "    print(f\"F double dash is {round(float(fddash),4)}\")\n",
    "    xnew = a - fdash/fddash\n",
    "    print(f\"xnew is {round(float(xnew),4)}\")\n",
    "    \n",
    "    if abs(fdash) <= 0.000001 or counter > maxiter:\n",
    "        return float(xnew)\n",
    "    else:\n",
    "        return newton(f,xnew,counter,maxiter)"
   ]
  },
  {
   "cell_type": "markdown",
   "id": "cd0d74e2",
   "metadata": {},
   "source": [
    "In order to define the function we will again leverage ```sympy``` library, and define our function using ```sp.symbols```. \n",
    "<br>One more thing you should be aware is in ```sympy``` when we use ```sp.diff(f,x,n)``` function x gets differentiated with-respect-to x n number of times. If we want to evaluate the differential at a certain point we can use ```.subs(x,k)``` where post differentiation the function will be evaluated at ```x = k```. A simple example is given below. \n",
    "<br>***NOTE*** Python's recursive functions iterate over 200 iterations post which it will throw an error for avoiding infinite loop (this I read somewhere therefore putting default value as 200 so as to reach the value at desired level)"
   ]
  },
  {
   "cell_type": "code",
   "execution_count": 63,
   "id": "9363495a",
   "metadata": {},
   "outputs": [
    {
     "data": {
      "text/latex": [
       "$\\displaystyle 4$"
      ],
      "text/plain": [
       "4"
      ]
     },
     "execution_count": 63,
     "metadata": {},
     "output_type": "execute_result"
    }
   ],
   "source": [
    "import sympy as sp\n",
    "x= sp.symbols('x')\n",
    "sp.diff(x**2,x,1).subs(x,2)"
   ]
  },
  {
   "cell_type": "markdown",
   "id": "b0bb31b9",
   "metadata": {},
   "source": [
    "###### Calling with the iterations = 2"
   ]
  },
  {
   "cell_type": "code",
   "execution_count": 64,
   "id": "573faceb",
   "metadata": {},
   "outputs": [
    {
     "name": "stdout",
     "output_type": "stream",
     "text": [
      "Performing Iteration 1\n",
      "Fash is 3.2222\n",
      "F double dash is 3.8519\n",
      "xnew is 2.1635\n",
      "Performing Iteration 2\n",
      "Fash is -1.0143\n",
      "F double dash is 6.9377\n",
      "xnew is 2.3097\n"
     ]
    },
    {
     "data": {
      "text/plain": [
       "2.3096649201607855"
      ]
     },
     "execution_count": 64,
     "metadata": {},
     "output_type": "execute_result"
    }
   ],
   "source": [
    "newton(f = x**2 + 25/x,a = 3,counter = 1,maxiter = 2)\n",
    "#As we can see that the post 2nd iteration the code stops and results in value as 2.3097"
   ]
  },
  {
   "cell_type": "code",
   "execution_count": 65,
   "id": "f06c6a6e",
   "metadata": {},
   "outputs": [
    {
     "name": "stdout",
     "output_type": "stream",
     "text": [
      "Performing Iteration 1\n",
      "Fash is 3.2222\n",
      "F double dash is 3.8519\n",
      "xnew is 2.1635\n",
      "Performing Iteration 2\n",
      "Fash is -1.0143\n",
      "F double dash is 6.9377\n",
      "xnew is 2.3097\n",
      "Performing Iteration 3\n",
      "Fash is -0.0671\n",
      "F double dash is 6.0581\n",
      "xnew is 2.3207\n"
     ]
    },
    {
     "data": {
      "text/plain": [
       "2.320740874476577"
      ]
     },
     "execution_count": 65,
     "metadata": {},
     "output_type": "execute_result"
    }
   ],
   "source": [
    "newton(f = x**2 + 25/x,a = 3,counter = 1,maxiter = 3)\n",
    "#As we can see that the post 3rd iteration the code stops and results in value as 2.3097"
   ]
  },
  {
   "cell_type": "code",
   "execution_count": 66,
   "id": "d8bc7596",
   "metadata": {},
   "outputs": [
    {
     "name": "stdout",
     "output_type": "stream",
     "text": [
      "Performing Iteration 1\n",
      "Fash is 3.2222\n",
      "F double dash is 3.8519\n",
      "xnew is 2.1635\n",
      "Performing Iteration 2\n",
      "Fash is -1.0143\n",
      "F double dash is 6.9377\n",
      "xnew is 2.3097\n",
      "Performing Iteration 3\n",
      "Fash is -0.0671\n",
      "F double dash is 6.0581\n",
      "xnew is 2.3207\n",
      "Performing Iteration 4\n",
      "Fash is -0.0003\n",
      "F double dash is 6.0003\n",
      "xnew is 2.3208\n",
      "Performing Iteration 5\n",
      "Fash is -0.0\n",
      "F double dash is 6.0\n",
      "xnew is 2.3208\n"
     ]
    },
    {
     "data": {
      "text/plain": [
       "2.3207944168063896"
      ]
     },
     "execution_count": 66,
     "metadata": {},
     "output_type": "execute_result"
    }
   ],
   "source": [
    "newton(f = x**2 + 25/x,a = 3)\n",
    "#As we can see that the post 3rd iteration the code stops and results in value as 2.3097"
   ]
  },
  {
   "cell_type": "markdown",
   "id": "62da88bd",
   "metadata": {},
   "source": [
    "We can check the same using ```sympy's``` solve function and putting value = 0 as the function is differentiable. "
   ]
  },
  {
   "cell_type": "code",
   "execution_count": 67,
   "id": "e5629f44",
   "metadata": {},
   "outputs": [
    {
     "data": {
      "text/plain": [
       "[10**(2/3)/2,\n",
       " -10**(2/3)/4 - 10**(2/3)*sqrt(3)*I/4,\n",
       " -10**(2/3)/4 + 10**(2/3)*sqrt(3)*I/4]"
      ]
     },
     "execution_count": 67,
     "metadata": {},
     "output_type": "execute_result"
    }
   ],
   "source": [
    "sp.solve(sp.Eq(sp.diff(x**2 + 25/x),0))"
   ]
  },
  {
   "cell_type": "markdown",
   "id": "c223b50b",
   "metadata": {},
   "source": [
    "Now we get 3 solutions from the equation of 3 degrees, two of which are complex. We use first value and convert it to float."
   ]
  },
  {
   "cell_type": "code",
   "execution_count": 68,
   "id": "32bb61c9",
   "metadata": {},
   "outputs": [
    {
     "data": {
      "text/plain": [
       "2.3207944168063896"
      ]
     },
     "execution_count": 68,
     "metadata": {},
     "output_type": "execute_result"
    }
   ],
   "source": [
    "float(sp.solve(sp.Eq(sp.diff(x**2 + 25/x),0))[0])"
   ]
  },
  {
   "cell_type": "markdown",
   "id": "feb88fc5",
   "metadata": {},
   "source": [
    "##### Supplementary material"
   ]
  },
  {
   "cell_type": "code",
   "execution_count": 69,
   "id": "3f60ee20",
   "metadata": {},
   "outputs": [
    {
     "name": "stdout",
     "output_type": "stream",
     "text": [
      "16\n",
      "-12\n",
      "     fun: 17.01401724563517\n",
      "     jac: array([14.57227015,  1.37940764,  2.37940764,  9.56415057])\n",
      " message: 'Optimization terminated successfully'\n",
      "    nfev: 25\n",
      "     nit: 5\n",
      "    njev: 5\n",
      "  status: 0\n",
      " success: True\n",
      "       x: array([1.        , 4.7429961 , 3.82115462, 1.37940765])\n",
      "(4, 2)\n",
      "[-1.00e+00 -1.00e+00]\n",
      "[ 2.00e+00  3.00e+00]\n",
      "[-1.00e+00  0.00e+00]\n",
      "[ 0.00e+00 -1.00e+00]\n",
      "\n",
      "(4, 1)\n",
      "[-2.00e+00]\n",
      "[ 1.20e+01]\n",
      "[ 0.00e+00]\n",
      "[ 0.00e+00]\n",
      "\n",
      "(2, 1)\n",
      "[ 2.00e+00]\n",
      "[ 3.00e+00]\n",
      "\n",
      "     pcost       dcost       gap    pres   dres   k/t\n",
      " 0:  1.0471e+01 -7.7647e+00  1e+01  0e+00  5e-01  1e+00\n",
      " 1:  8.4116e+00  2.4976e+00  5e+00  2e-16  2e-01  5e-01\n",
      " 2:  4.5406e+00  3.5762e+00  9e-01  3e-17  3e-02  2e-01\n",
      " 3:  4.0080e+00  3.9869e+00  2e-02  3e-17  7e-04  5e-03\n",
      " 4:  4.0001e+00  3.9999e+00  2e-04  2e-17  7e-06  5e-05\n",
      " 5:  4.0000e+00  4.0000e+00  2e-06  2e-16  7e-08  5e-07\n",
      "Optimal solution found.\n",
      "{'x': <2x1 matrix, tc='d'>, 'y': <0x1 matrix, tc='d'>, 's': <4x1 matrix, tc='d'>, 'z': <4x1 matrix, tc='d'>, 'status': 'optimal', 'gap': 2.113956999094818e-06, 'relative gap': 5.284894231366823e-07, 'primal objective': 4.000000801817514, 'dual objective': 3.99999868786038, 'primal infeasibility': 1.9792346829855774e-16, 'dual infeasibility': 6.82771287641018e-08, 'primal slack': 1.3166679337339984e-07, 'dual slack': 9.311233703253566e-08, 'residual as primal infeasibility certificate': None, 'residual as dual infeasibility certificate': None, 'iterations': 5}\n",
      "[ 2.00e+00]\n",
      "[ 5.38e-07]\n",
      "\n",
      "     pcost       dcost       gap    pres   dres   k/t\n",
      " 0:  1.0471e+01 -7.7647e+00  1e+01  0e+00  5e-01  1e+00\n",
      " 1:  8.4116e+00  2.4976e+00  5e+00  2e-16  2e-01  5e-01\n",
      " 2:  4.5406e+00  3.5762e+00  9e-01  3e-17  3e-02  2e-01\n",
      "Terminated (maximum number of iterations reached).\n",
      "[ 1.50e+00]\n",
      "[ 5.12e-01]\n",
      "\n",
      "     2\n",
      "1.3 x + 4 x + 0.6\n",
      "Optimization terminated successfully.\n",
      "         Current function value: -2.476923\n",
      "         Iterations: 20\n",
      "         Function evaluations: 40\n",
      "Solved: X = [-1.53845215]\n"
     ]
    }
   ],
   "source": [
    "import numpy as np\n",
    "from scipy.optimize import minimize\n",
    "def objective(x):\n",
    "    x1 = x[0]\n",
    "    x2 = x[1]\n",
    "    x3 = x[2]\n",
    "    x4 = x[3]\n",
    "    return x1*x4*(x1+x2+x3) + x3\n",
    "def constraint1(x):\n",
    "    return x[0]*x[1]*x[2]*x[3] - 25.0\n",
    "\n",
    "def constraint2(x):\n",
    "    sum_sq = 40\n",
    "    for i in range(4):\n",
    "        sum_sq = sum_sq - x[i]**2\n",
    "    return sum_sq\n",
    "x0 = [1,5,5,1]\n",
    "print(objective(x0))\n",
    "b = (1.0,5.0)\n",
    "bnds = (b,b,b,b)\n",
    "print(constraint2(x0))\n",
    "con1 = {'type':'ineq','fun':constraint1}\n",
    "con2 = {'type':'eq','fun':constraint2}\n",
    "cons = [con1,con2]\n",
    "sol = minimize(objective,x0,method = 'SLSQP',bounds = bnds,constraints = cons)\n",
    "print(sol)\n",
    "\n",
    "##Convex optimization cvxopt\n",
    "from cvxopt import matrix,solvers\n",
    "from cvxopt import matrix,solvers\n",
    "A = matrix([[-1.0,2.0,-1.0,0.0],[-1.0,3.0,0.0,-1.0]]) #This is declared columnwise\n",
    "print(A.size)\n",
    "print(A)\n",
    "b = matrix([[-2.0,12.0,0.0,0.0]])\n",
    "print(b.size)\n",
    "print(b)\n",
    "c = matrix([[2.0,3.0]])\n",
    "print(c.size)\n",
    "print(c)\n",
    "sol = solvers.lp(c,A,b)\n",
    "print(sol)\n",
    "print(sol['x'])\n",
    "sol = solvers.lp(c,A,b,options = {'maxiters':2})\n",
    "print(sol['x'])\n",
    "objective = np.poly1d([1.3,4.0,0.6])\n",
    "print(objective)\n",
    "import scipy.optimize as opt\n",
    "x_ = opt.fmin(objective,[3])\n",
    "print(\"Solved: X = {}\".format(x_))"
   ]
  },
  {
   "cell_type": "code",
   "execution_count": 70,
   "id": "464c1cd5",
   "metadata": {},
   "outputs": [
    {
     "data": {
      "text/plain": [
       "Text([3.46154785], [7.52307692], 'Minimum Point')"
      ]
     },
     "execution_count": 70,
     "metadata": {},
     "output_type": "execute_result"
    },
    {
     "data": {
      "image/png": "[encoded data removed]",
      "text/plain": [
       "<Figure size 1080x720 with 1 Axes>"
      ]
     },
     "metadata": {
      "needs_background": "light"
     },
     "output_type": "display_data"
    }
   ],
   "source": [
    "import matplotlib.pyplot as plt\n",
    "fig,ax = plt.subplots(figsize = (15,10))\n",
    "x = np.arange(-10,10,0.1)\n",
    "ax.plot(x,objective(x))\n",
    "ax.annotate(\"Minimum Point\",\n",
    "           xy = (x_,objective(x_)),\n",
    "           xytext = (x_ + 5,objective(x_)+10),\n",
    "           arrowprops = dict(arrowstyle = \"->\"))"
   ]
  },
  {
   "cell_type": "code",
   "execution_count": 76,
   "id": "79b7a03e",
   "metadata": {},
   "outputs": [
    {
     "data": {
      "text/plain": [
       "[-sqrt(2)/2, sqrt(2)/2]"
      ]
     },
     "execution_count": 76,
     "metadata": {},
     "output_type": "execute_result"
    }
   ],
   "source": [
    "x = sp.symbols('x')\n",
    "sp.solve(sp.Eq(sp.diff(2*x*sp.exp(-x**2)),0))"
   ]
  },
  {
   "cell_type": "code",
   "execution_count": null,
   "id": "42b0d218",
   "metadata": {},
   "outputs": [],
   "source": []
  }
 ],
 "metadata": {
  "kernelspec": {
   "display_name": "Python 3 (ipykernel)",
   "language": "python",
   "name": "python3"
  },
  "language_info": {
   "codemirror_mode": {
    "name": "ipython",
    "version": 3
   },
   "file_extension": ".py",
   "mimetype": "text/x-python",
   "name": "python",
   "nbconvert_exporter": "python",
   "pygments_lexer": "ipython3",
   "version": "3.9.12"
  }
 },
 "nbformat": 4,
 "nbformat_minor": 5
}
