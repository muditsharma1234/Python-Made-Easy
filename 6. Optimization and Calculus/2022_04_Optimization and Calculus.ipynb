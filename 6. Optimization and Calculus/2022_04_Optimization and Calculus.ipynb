{
 "cells": [
  {
   "cell_type": "markdown",
   "id": "cbecf169",
   "metadata": {},
   "source": [
    "### Introduction to Optimization:\n",
    "Optimization has been a very important field of mathematics and physics where people have been trying to find out most efficient solution to a particular problem. (By efficient I don't mean which takes minimum resources). \n",
    "<br>History of optimization problems goes long back in time:\n",
    "1. Greek mathematicians used optimization to solve for geometric studies\n",
    "        a.Euclid tried to compute minimum distance between a point and line also proved square has the greatest area for a given length of total edges (compared to rectangles)\n",
    "        b. Heron proved that light travels through two points which has the shortest path\n",
    "2. Humanity took a Real stride in this area happened when Newton invented calculus (along with Leibniz):\n",
    "        a. We could compute hosts of things using calculus - body of minimum resistance\n",
    "        b. What is the minimum value of cone for a given surface area\n",
    "3. Use in Machine Learning:\n",
    "        a. With advancement in modern computing we are able to leverage the mathematical concepts in machine learning it has hosts of applications - Gradient Descent; Genetic Algorithm; Particle Swarm Optimization; Conjugate Gradient Method etc. \n",
    "        \n",
    "#### Typical Use optimization in Machine Learning:\n",
    "Optimization in machine learning is typically used for minimizing the errors or maximizing some particular values. This is a typical formulation of the optimization problems:\n",
    "<br>**INPUT VARIABLES**: Say there are certain set of input variables $X = (X_1,X_2,X_3,...X_n) \\in Real Numbers$ are called decision variables. \n",
    "<br>**OBJECTIVE FUNCTION**: Then there is a function $f \\to Real Number$ a function such that $f(X_1,X_2,...X_n) = Y$ where Y is our output variable. This function is called the ***OBJECTIVE FUNCTION***\n",
    "<br>**CONSTRAINTS**: Each of the variables $X_1,X_2,....X_n$ are subject to some constraints (say each $x \\ge 0$) \\\n",
    "\n",
    "#### Types of Optimization problems:\n",
    "There are generally two types of Optimization problems:\n",
    "1. Linear Programming Problems (LPP): Where objective function and the constraints are in form of linear functions\n",
    "2. Non Linear Programming Problems (NLP): Where the objective functions or constraints are in form on non-linear functions\n",
    "\n",
    "##### Calculus in Python\n",
    "<br>Before we jump to optimization problems and their solutions, we would need to understand calculus first. We will try to understand some of the calculus techniques in python ```sympy``` is an important package which can be used for calculus in Python. \n",
    "<br>There are a couple of core concepts in calculus:\n",
    "1. Derivatives\n",
    "2. Integration\n",
    "3. Partial Derivatives\n",
    "4. Limits\n",
    "<br>For the below notebook I will assume you understand what a derivative is and how to compute it. However, I am attaching a small concept summary of derivatives in the image below. For formulas of derivative you can use this [derivative formula](https://byjus.com/maths/differentiation-formulas/). Link taken from BYJUS's website. \n",
    "<img src=\"1. Derivatives.JPEG\" width=\"1000\">\n",
    "<br>Apologies for my handwriting. "
   ]
  },
  {
   "cell_type": "code",
   "execution_count": 1,
   "id": "7b81bdd4",
   "metadata": {},
   "outputs": [],
   "source": [
    "import sympy as sp"
   ]
  },
  {
   "cell_type": "code",
   "execution_count": 7,
   "id": "0069063f",
   "metadata": {},
   "outputs": [
    {
     "name": "stdout",
     "output_type": "stream",
     "text": [
      "cos(x)\n"
     ]
    }
   ],
   "source": [
    "x = sp.symbols('x')\n",
    "a = sp.symbols('a')\n",
    "derivative1 = sp.diff(sp.sin(x),x)\n",
    "print(derivative1)"
   ]
  },
  {
   "cell_type": "code",
   "execution_count": 7,
   "id": "7746ce8e",
   "metadata": {},
   "outputs": [
    {
     "name": "stdout",
     "output_type": "stream",
     "text": [
      "3*sin(x)**2*cos(x)\n"
     ]
    }
   ],
   "source": [
    "derivative1 = sp.diff(sp.sin(x)**3,x)\n",
    "print(derivative1)"
   ]
  },
  {
   "cell_type": "markdown",
   "id": "a9de77fe",
   "metadata": {},
   "source": [
    "In this manner you can compute derivative of any functions. Let us try to compute some basic derivatives using sympy. \n",
    "1. $\\frac{d }{d {x}}(sin(x))$\n",
    "2. $ \\frac {d }{d {x}}(cos(x))$\n",
    "3. $ \\frac {d }{d {x}}(a^x)$\n",
    "4. $\\frac {d }{d {x}}(ln(x))$\n",
    "5. $\\frac {d }{ d {x}}\\sqrt{x^2 + 2x + 2}$\n",
    "6. $\\frac {d }{d {x}} (\\frac {cos(x)-1}{x})$\n"
   ]
  },
  {
   "cell_type": "code",
   "execution_count": 25,
   "id": "f08c048c",
   "metadata": {},
   "outputs": [
    {
     "data": {
      "image/png": "[encoded data removed]",
      "text/latex": [
       "$\\displaystyle - \\sin{\\left(x \\right)}$"
      ],
      "text/plain": [
       "-sin(x)"
      ]
     },
     "execution_count": 25,
     "metadata": {},
     "output_type": "execute_result"
    }
   ],
   "source": [
    "#1st we already solved let us start solving from second\n",
    "#2:\n",
    "sp.diff(sp.cos(x))\n"
   ]
  },
  {
   "cell_type": "code",
   "execution_count": 26,
   "id": "63b1062c",
   "metadata": {},
   "outputs": [
    {
     "data": {
      "image/png": "[encoded data removed]",
      "text/latex": [
       "$\\displaystyle a^{x} \\log{\\left(a \\right)}$"
      ],
      "text/plain": [
       " x       \n",
       "a ⋅log(a)"
      ]
     },
     "execution_count": 26,
     "metadata": {},
     "output_type": "execute_result"
    }
   ],
   "source": [
    "sp.diff(a**x,x) #We have to provide with respect to what we are differentiating"
   ]
  },
  {
   "cell_type": "code",
   "execution_count": 27,
   "id": "73c8f95f",
   "metadata": {},
   "outputs": [
    {
     "data": {
      "image/png": "[encoded data removed]",
      "text/latex": [
       "$\\displaystyle \\frac{1}{x}$"
      ],
      "text/plain": [
       "1\n",
       "─\n",
       "x"
      ]
     },
     "execution_count": 27,
     "metadata": {},
     "output_type": "execute_result"
    }
   ],
   "source": [
    "sp.diff(sp.ln(x),x) "
   ]
  },
  {
   "cell_type": "code",
   "execution_count": 30,
   "id": "fd2d042c",
   "metadata": {},
   "outputs": [
    {
     "data": {
      "image/png": "[encoded data removed]",
      "text/latex": [
       "$\\displaystyle - \\frac{\\sin{\\left(x \\right)}}{x} - \\frac{\\cos{\\left(x \\right)} - 1}{x^{2}}$"
      ],
      "text/plain": [
       "  sin(x)   cos(x) - 1\n",
       "- ────── - ──────────\n",
       "    x           2    \n",
       "               x     "
      ]
     },
     "execution_count": 30,
     "metadata": {},
     "output_type": "execute_result"
    }
   ],
   "source": [
    "sp.diff((sp.cos(x)-1)/x)"
   ]
  },
  {
   "cell_type": "code",
   "execution_count": 36,
   "id": "2f7d8b1e",
   "metadata": {},
   "outputs": [
    {
     "data": {
      "image/png": "[encoded data removed]",
      "text/latex": [
       "$\\displaystyle 2 x + 2$"
      ],
      "text/plain": [
       "2⋅x + 2"
      ]
     },
     "execution_count": 36,
     "metadata": {},
     "output_type": "execute_result"
    }
   ],
   "source": [
    "sp.diff(x**2 + 2*x + 2)"
   ]
  },
  {
   "cell_type": "markdown",
   "id": "0c1ee20a",
   "metadata": {},
   "source": [
    "Some of these derivatives you could calculate by your own hand. However, good to know you can compute derivatives using a computer this will save you a lot of time. Let us try to compute derivatives of one of the functions given in the notes.\n",
    "We had following variables there:\n",
    "<br>$\\large Q = \\frac{(T - T_0)}{\\frac{ln(r_1/r_2)}{2LK\\pi} + \\frac{1}{h(L r_2 2\\pi )}}$\n",
    "<br>Now to solve this in sympy we need to declare each of the variables:\n",
    "<br>T, T0, r2,r1,L,k,h\n",
    "<br>So let us try to first create the variable"
   ]
  },
  {
   "cell_type": "code",
   "execution_count": 39,
   "id": "001bcda2",
   "metadata": {},
   "outputs": [
    {
     "data": {
      "image/png": "[encoded data removed]",
      "text/latex": [
       "$\\displaystyle T$"
      ],
      "text/plain": [
       "T"
      ]
     },
     "execution_count": 39,
     "metadata": {},
     "output_type": "execute_result"
    }
   ],
   "source": [
    "T0 = sp.symbols('T0')\n",
    "#We can declare multiple symbols in one line as follows\n",
    "T, r2, r1, L,k,h = sp.symbols('T r2 r1 L k h')\n",
    "T"
   ]
  },
  {
   "cell_type": "markdown",
   "id": "09714403",
   "metadata": {},
   "source": [
    "As you can see you can declare all the variables in a single line. Now let us try to create the expression we are looking for first. I have used $T_0$ instead of $T_{\\inf}$ because it is easier to type it. "
   ]
  },
  {
   "cell_type": "code",
   "execution_count": 44,
   "id": "e6db93d3",
   "metadata": {},
   "outputs": [
    {
     "data": {
      "image/png": "[encoded data removed]",
      "text/latex": [
       "$\\displaystyle \\frac{T - T_{0}}{\\frac{\\log{\\left(\\frac{r_{2}}{r_{1}} \\right)}}{2 \\pi L k} + \\frac{1}{2 \\pi L h r_{2}}}$"
      ],
      "text/plain": [
       "       T - T₀       \n",
       "────────────────────\n",
       "   ⎛r₂⎞             \n",
       "log⎜──⎟             \n",
       "   ⎝r₁⎠       1     \n",
       "─────── + ──────────\n",
       "2⋅π⋅L⋅k   2⋅π⋅L⋅h⋅r₂"
      ]
     },
     "execution_count": 44,
     "metadata": {},
     "output_type": "execute_result"
    }
   ],
   "source": [
    "#Now let us print the expression\n",
    "(T-T0)/(sp.log(r2/r1)/(2*L*k*sp.pi) + (1/(h*L*r2*2*sp.pi)))"
   ]
  },
  {
   "cell_type": "markdown",
   "id": "f18cc00a",
   "metadata": {},
   "source": [
    "Now that we have defined the expression let us differentiate it. We also know except for $r_2$ everything is a parameter of the model so we need to differentiate w.r.t $r_2$. We simply copy the above expression and put it in ```sp.diff()```. Let us try that. \n",
    "<br>Note when there are too many symbols you also need to tell the ```sympy``` with respect to what you are differentiating. "
   ]
  },
  {
   "cell_type": "code",
   "execution_count": 45,
   "id": "009f7430",
   "metadata": {},
   "outputs": [
    {
     "data": {
      "image/png": "[encoded data removed]",
      "text/latex": [
       "$\\displaystyle \\frac{\\left(T - T_{0}\\right) \\left(- \\frac{1}{2 \\pi L k r_{2}} + \\frac{1}{2 \\pi L h r_{2}^{2}}\\right)}{\\left(\\frac{\\log{\\left(\\frac{r_{2}}{r_{1}} \\right)}}{2 \\pi L k} + \\frac{1}{2 \\pi L h r_{2}}\\right)^{2}}$"
      ],
      "text/plain": [
       "         ⎛      1             1     ⎞\n",
       "(T - T₀)⋅⎜- ────────── + ───────────⎟\n",
       "         ⎜  2⋅π⋅L⋅k⋅r₂             2⎟\n",
       "         ⎝               2⋅π⋅L⋅h⋅r₂ ⎠\n",
       "─────────────────────────────────────\n",
       "                             2       \n",
       "       ⎛   ⎛r₂⎞             ⎞        \n",
       "       ⎜log⎜──⎟             ⎟        \n",
       "       ⎜   ⎝r₁⎠       1     ⎟        \n",
       "       ⎜─────── + ──────────⎟        \n",
       "       ⎝2⋅π⋅L⋅k   2⋅π⋅L⋅h⋅r₂⎠        "
      ]
     },
     "execution_count": 45,
     "metadata": {},
     "output_type": "execute_result"
    }
   ],
   "source": [
    "sp.diff((T-T0)/(sp.log(r2/r1)/(2*L*k*sp.pi) + (1/(h*L*r2*2*sp.pi))),r2)"
   ]
  },
  {
   "cell_type": "markdown",
   "id": "9c3a5335",
   "metadata": {},
   "source": [
    "Because $2\\pi$ is in denominator of the $2^{nd}$ expression in numerator it can go to to numerator of overall expression and you get exactly what you were looking for in the notes. \n",
    "<br>How to solve the equation by putting this = 0. We will see subsequently. \n",
    "<br>However, what we have proved is ```sympy``` can take pretty much any sort of complexity while solving derivatives and gives a result which is pretty neat. \n",
    "<br>Just to be sure let us add our cone example also here. We will be doing pretty much everything in a couple of lines:\n",
    "1. Declare the variables\n",
    "2. Write the expression (Just to check if it matches with the expression you are looking at)\n",
    "3. Differentiate and voilla!!! "
   ]
  },
  {
   "cell_type": "code",
   "execution_count": 49,
   "id": "25d371d4",
   "metadata": {},
   "outputs": [
    {
     "data": {
      "image/png": "[encoded data removed]",
      "text/latex": [
       "$\\displaystyle \\frac{\\pi x_{2} \\left(10 - x_{2}\\right)^{2}}{3}$"
      ],
      "text/plain": [
       "              2\n",
       "π⋅x₂⋅(10 - x₂) \n",
       "───────────────\n",
       "       3       "
      ]
     },
     "execution_count": 49,
     "metadata": {},
     "output_type": "execute_result"
    }
   ],
   "source": [
    "x1,x2 = sp.symbols('x1 x2') #Actually we don't need to declare both X1 and X2 because X1 = 10-X2\n",
    "(sp.pi*x2*(10-x2)**2)/3 #This is the expression we were looking at now let us try to differentiate it"
   ]
  },
  {
   "cell_type": "code",
   "execution_count": 48,
   "id": "7574e945",
   "metadata": {},
   "outputs": [
    {
     "data": {
      "image/png": "[encoded data removed]",
      "text/latex": [
       "$\\displaystyle \\frac{\\pi x_{2} \\cdot \\left(2 x_{2} - 20\\right)}{3} + \\frac{\\pi \\left(10 - x_{2}\\right)^{2}}{3}$"
      ],
      "text/plain": [
       "                              2\n",
       "π⋅x₂⋅(2⋅x₂ - 20)   π⋅(10 - x₂) \n",
       "──────────────── + ────────────\n",
       "       3                3      "
      ]
     },
     "execution_count": 48,
     "metadata": {},
     "output_type": "execute_result"
    }
   ],
   "source": [
    "sp.diff((sp.pi*x2*(10-x2)**2)/3)"
   ]
  },
  {
   "cell_type": "markdown",
   "id": "33c1e6e8",
   "metadata": {},
   "source": [
    "In-fact the form in which we got this expression is a lot easier to solve we can take $(10-x_2)$ common to see one of the roots is $(10-x_2)$ which means $x_2 = 10$. Subsequently we will be left with $-2{\\pi}x_2 + {\\pi}(10-x_2)$, which will result in value of $x_2$ to be $\\frac{10}{3}$ \n",
    "\n",
    "#### Solving equations using ```sympy```"
   ]
  },
  {
   "cell_type": "code",
   "execution_count": 52,
   "id": "1a3eea60",
   "metadata": {},
   "outputs": [
    {
     "data": {
      "image/png": "[encoded data removed]",
      "text/latex": [
       "$\\displaystyle \\left[ \\frac{10}{3}, \\  10\\right]$"
      ],
      "text/plain": [
       "[10/3, 10]"
      ]
     },
     "execution_count": 52,
     "metadata": {},
     "output_type": "execute_result"
    }
   ],
   "source": [
    "sp.solve(sp.Eq(sp.diff((sp.pi*x2*(10-x2)**2)/3),0))"
   ]
  },
  {
   "cell_type": "code",
   "execution_count": null,
   "id": "ab594c1d",
   "metadata": {},
   "outputs": [],
   "source": []
  }
 ],
 "metadata": {
  "kernelspec": {
   "display_name": "Python 3 (ipykernel)",
   "language": "python",
   "name": "python3"
  },
  "language_info": {
   "codemirror_mode": {
    "name": "ipython",
    "version": 3
   },
   "file_extension": ".py",
   "mimetype": "text/x-python",
   "name": "python",
   "nbconvert_exporter": "python",
   "pygments_lexer": "ipython3",
   "version": "3.9.12"
  }
 },
 "nbformat": 4,
 "nbformat_minor": 5
}
