{
 "cells": [
  {
   "cell_type": "markdown",
   "id": "39be271b",
   "metadata": {},
   "source": [
    "### Fundamentals of Constrained Optimization\n",
    "Constrained optimization has a lot more real-life utility viz. a viz. unconstrained optimization given most of the real values will have some or the other constraint associated with them. We will look a couple of examples and try to understand the physical significance of the methods being used here. \n",
    "<br>Remember we had solved the problem of unconstrained optimizations using the Hessian Matrix, here we will get something similar. However, the methodology at arriving the optimal might be a bit different. \n",
    "<br>However, what we should be aware of is that the fundamental method of finding optimum:\n",
    "1. Find the critical point (where the first derivative of the function becomes Zero)\n",
    "2. Find the direction in which the function is changing at the points in vicinity of the critical point\n",
    "3. If the function is increaseing from here (Second Derivative is > 0) means this is a minima. If the function is decreaseing in the vicinity (Second Derivative is < 0) means it is a maximia. \n",
    "\n",
    "<br>Will always stay unchanged, given this is the fundamental intuition behind the entire process of finding the optimal solution. \n",
    "\n",
    "<br>One more thing that doesn't change is the *Quadratic Approximation* which again has a fundamental rationale:\n",
    "1. The function in vicinity of the critical point is very very close after 3$^{rd}$ derivative and thus we can ignore higher than 2$^{nd}$ order derivative terms\n",
    "2. 2$^{nd}$ order derivative forms a parabolid which has a definitive minima/ maxima and therefore is more mathematically tractable.\n"
   ]
  },
  {
   "cell_type": "code",
   "execution_count": 1,
   "id": "3556cfde",
   "metadata": {},
   "outputs": [],
   "source": [
    "!jt -t grade3 -tfs 10 -nfs 9 -ofs 10 -fs 10"
   ]
  },
  {
   "cell_type": "code",
   "execution_count": 1,
   "id": "f979b284",
   "metadata": {},
   "outputs": [
    {
     "name": "stdout",
     "output_type": "stream",
     "text": [
      "Hello World\n"
     ]
    }
   ],
   "source": [
    "print(\"Hello World\")"
   ]
  },
  {
   "cell_type": "code",
   "execution_count": null,
   "id": "035b2c27",
   "metadata": {},
   "outputs": [],
   "source": []
  }
 ],
 "metadata": {
  "kernelspec": {
   "display_name": "Python 3 (ipykernel)",
   "language": "python",
   "name": "python3"
  },
  "language_info": {
   "codemirror_mode": {
    "name": "ipython",
    "version": 3
   },
   "file_extension": ".py",
   "mimetype": "text/x-python",
   "name": "python",
   "nbconvert_exporter": "python",
   "pygments_lexer": "ipython3",
   "version": "3.9.10"
  }
 },
 "nbformat": 4,
 "nbformat_minor": 5
}
