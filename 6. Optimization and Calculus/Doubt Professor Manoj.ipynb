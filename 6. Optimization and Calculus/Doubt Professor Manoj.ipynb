{
 "cells": [
  {
   "cell_type": "markdown",
   "id": "b2dd3e3b",
   "metadata": {},
   "source": [
    "***Question Given***\n",
    "<br>Fit y = $b_1xe^{-b_2x}$\n",
    "<br>For the following values:\n",
    "<br>$x_i$ = 1,2,3,4</center>\n",
    "<br>$y_i$ = 2,4,4,2\n",
    "<br>In order to solve this I took following approach:\n",
    "<br> log(y) = log($b_1$) +log(x) -$b_2$x\n",
    "\n",
    "<br>So I will have the matrix form as follows:\n",
    "<br>Y = $\\begin{bmatrix} log(2) \\\\ log(4) \\\\ log(4) \\\\ log(2) \\end{bmatrix}$\n",
    "<br>\n",
    "<br>X = $\\begin{bmatrix} 1 & log(1) & 1  \\\\ 1 & log(2) & 2 \\\\ 1 & log(3) & 3 \\\\ 1 & log(4) & 4 \\end{bmatrix}$\n",
    "<br>\n",
    "<br>$\\theta$ = $\\begin{bmatrix} b_1 \\\\ b_2 \\\\ b_3 \\end{bmatrix}$\n",
    "\n",
    "<br>Now my argument for this method was because we know in advance that $b_2$ is 1 which is coefficient of X so once I get the value of $\\theta$ I will divide it by scalar $b_2$ and that should give me the value of $b_1$ and $b_3$."
   ]
  },
  {
   "cell_type": "code",
   "execution_count": 1,
   "id": "0b9fcae7",
   "metadata": {},
   "outputs": [],
   "source": [
    "import numpy as np\n",
    "X = np.array([[1,np.log(1),1],[1,np.log(2),2],[1,np.log(3),3],[1,np.log(4),4]])\n",
    "Y = np.array([[np.log(2),np.log(4),np.log(4),np.log(2)]]).T"
   ]
  },
  {
   "cell_type": "code",
   "execution_count": 2,
   "id": "f1849f03",
   "metadata": {},
   "outputs": [
    {
     "name": "stdout",
     "output_type": "stream",
     "text": [
      "[[1.         0.         1.        ]\n",
      " [1.         0.69314718 2.        ]\n",
      " [1.         1.09861229 3.        ]\n",
      " [1.         1.38629436 4.        ]]\n",
      "[[0.69314718]\n",
      " [1.38629436]\n",
      " [1.38629436]\n",
      " [0.69314718]]\n"
     ]
    }
   ],
   "source": [
    "print(X)\n",
    "print(Y)"
   ]
  },
  {
   "cell_type": "code",
   "execution_count": 3,
   "id": "e43e4b34",
   "metadata": {},
   "outputs": [],
   "source": [
    "Z = np.dot(X.T,X)\n",
    "A = np.dot(X.T,Y)\n",
    "answer = np.dot(np.linalg.inv(Z),A)"
   ]
  },
  {
   "cell_type": "code",
   "execution_count": 4,
   "id": "5c5996d4",
   "metadata": {},
   "outputs": [
    {
     "data": {
      "text/plain": [
       "array([[ 2.18446489],\n",
       "       [ 3.30303331],\n",
       "       [-1.50761941]])"
      ]
     },
     "execution_count": 4,
     "metadata": {},
     "output_type": "execute_result"
    }
   ],
   "source": [
    "answer"
   ]
  },
  {
   "cell_type": "code",
   "execution_count": 5,
   "id": "67ad04f7",
   "metadata": {},
   "outputs": [],
   "source": [
    "answer_scaled = answer/answer[1]"
   ]
  },
  {
   "cell_type": "code",
   "execution_count": 6,
   "id": "96336864",
   "metadata": {},
   "outputs": [
    {
     "data": {
      "text/plain": [
       "array([[ 0.66135115],\n",
       "       [ 1.        ],\n",
       "       [-0.45643482]])"
      ]
     },
     "execution_count": 6,
     "metadata": {},
     "output_type": "execute_result"
    }
   ],
   "source": [
    "answer_scaled"
   ]
  },
  {
   "cell_type": "markdown",
   "id": "cc518064",
   "metadata": {},
   "source": [
    "Now I can compute $\\large e^{b_1}$, I should get value of $b_1$ and $b_3$ is already the $3^{rd}$ element of the answer_scaled array above. However, I do get the right value of $b_3$ from above method. \n",
    "\n",
    "**My Questions is why I am not getting the correct value of $b_1$ from this method$"
   ]
  },
  {
   "cell_type": "code",
   "execution_count": null,
   "id": "c1d61a0f",
   "metadata": {},
   "outputs": [],
   "source": []
  }
 ],
 "metadata": {
  "kernelspec": {
   "display_name": "Python 3 (ipykernel)",
   "language": "python",
   "name": "python3"
  },
  "language_info": {
   "codemirror_mode": {
    "name": "ipython",
    "version": 3
   },
   "file_extension": ".py",
   "mimetype": "text/x-python",
   "name": "python",
   "nbconvert_exporter": "python",
   "pygments_lexer": "ipython3",
   "version": "3.9.12"
  }
 },
 "nbformat": 4,
 "nbformat_minor": 5
}
