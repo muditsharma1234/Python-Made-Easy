{
 "cells": [
  {
   "cell_type": "code",
   "execution_count": 1,
   "id": "bc2b160f",
   "metadata": {},
   "outputs": [],
   "source": [
    "import pandas as pd\n",
    "import numpy as np\n",
    "##We load the requisite repositories for running our codes"
   ]
  },
  {
   "cell_type": "markdown",
   "id": "d130c733",
   "metadata": {},
   "source": [
    "**What is hypothesis testing?** <br> Hypothesis testing is a statistical technique where you make mutually exclusive statements about the population and test which of these statements are true. These mutually exclusive statements are called **Null** and **Alternate** Hypothesis. \n",
    "\n",
    "**What is null and alternate hypothesis?** <br> These are essentially the claims you make about the population and end up testing. Null Hypothesis is also called status-quo or research hypothesis. Example in our case Null Hypothesis will be *Smoking Causes Cancer* or *New Medicine leads to lower sugar levels*. Alternate hypothesis by definition will be a mutually exlusive event *Smoking doesn't cause cancer* or *New medicine doesn't reduce sugar levels*. \n",
    "\n",
    "**Null hypothesis is represented as H0** and **Alternate hypothesis is represented by H1**\n",
    "\n",
    "---\n",
    "\n",
    "Some more statistical examples of hypothesis testing can be: <br>\n",
    "a. Men are taller than women in general. **H0**: Average height of Men >= Average Height of Women **H1**: Average Height of Men < Average Height of Women\n",
    "<br>b. Average number of stars in Galaxy is $10^{100}$ Stars. **H0**: Galaxy has $10^{100}$ Stars. **H1**: Galaxy doesn't have $10^{100}$ Stars. \n",
    "<br> *Simple enough? This will start getting technical soon.*\n",
    "\n",
    "---\n",
    "As you would've guessed first step in performing any hypothesis is creating a Null and Alternate Hypothesis. Null hypothesis can be of the following categories:\n",
    "\n",
    "**a. Status Quo** - When you are trying to disprove a claim. (Say a smoker friend tells you Smoking doesn't cause cancer and you want to disprove the \"status-quo\" knowledge that smoking indeed causes cancer). \n",
    "\n",
    "**b. Researcher** - You have done some research and want to establish the veracity of the same. (Say you came up with a medicine which reduces blood sugar level and you want to proove it indeed does it)\n",
    "\n",
    "---\n",
    "**What is the need for hypothesis testing?**\n",
    "We generally don't have access to the Population data and therefore saying anything with certainity is impossible about the population. For instance in two examples we took above:\n",
    "> We will not have access to data of all smokers to establish the claim with certainity\n",
    "\n",
    "> We will not be able to administer your test medicine to entire population. (May be not even to a single person)\n",
    "\n",
    "Then how do we solve the above challenges? The answer is Hypothesis Testing. In this approach we take a sample which is representative of the population and do our tests and conclude if our hypothesis is true or not. \n",
    "How to do it? We will come to that soon, before that we need to understand some fundamentals about the hypothesis testing approach. \n",
    "\n"
   ]
  },
  {
   "cell_type": "code",
   "execution_count": null,
   "id": "ada6898e",
   "metadata": {},
   "outputs": [],
   "source": []
  }
 ],
 "metadata": {
  "kernelspec": {
   "display_name": "Python 3 (ipykernel)",
   "language": "python",
   "name": "python3"
  },
  "language_info": {
   "codemirror_mode": {
    "name": "ipython",
    "version": 3
   },
   "file_extension": ".py",
   "mimetype": "text/x-python",
   "name": "python",
   "nbconvert_exporter": "python",
   "pygments_lexer": "ipython3",
   "version": "3.9.7"
  }
 },
 "nbformat": 4,
 "nbformat_minor": 5
}
