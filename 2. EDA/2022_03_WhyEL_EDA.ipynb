{
 "cells": [
  {
   "cell_type": "markdown",
   "id": "039353d3",
   "metadata": {},
   "source": [
    "#### Exploratory Data Analysis - Why are employees leaving\n",
    "We will use our Python Tools to understand the data of employees leaving and try to answer an analytics question: **Why are employees Leaving?**. \n",
    "Data can be presented in any format - Excel Sheets, CSV (Comma Separated Values) format, HDF5 data etc. \n",
    "<br>Before we jump into actual data analysis we need to first understand what is the motivation behind EDA. EDA can be done for the following objectives:\n",
    "- To understand what is the distribution of the data\n",
    "    - For numerical data we try to identify underlying distribution - some other metrics which may be computed include: Mean, Median, Mode, Standard Deviation\n",
    "    - For categorical data we try to tabulate the data. \n",
    "    - Try to identify relationships between the variables\n",
    "Generally in our data analysis exercise we try to predict a particular variable. In our exercise we will try to predict employee churn basis the available variable. More on this subsequently first let us start understanding our data. \n",
    "\n",
    "We will be doing this in Python. Important libraries to be used are:\n",
    "- **Pandas**: Probably one of the most important data analysis libraries\n",
    "\n"
   ]
  },
  {
   "cell_type": "code",
   "execution_count": 2,
   "id": "716dde5b",
   "metadata": {},
   "outputs": [],
   "source": [
    "import pandas as pd"
   ]
  },
  {
   "cell_type": "code",
   "execution_count": 3,
   "id": "685745a6",
   "metadata": {},
   "outputs": [],
   "source": [
    "employee_data = pd.read_csv(\"Why are employees leaving.csv\")"
   ]
  },
  {
   "cell_type": "markdown",
   "id": "8d90d011",
   "metadata": {},
   "source": [
    "CSV is comma delimited format which is one of the most common format for data tables. Other options which may be used for reading different data types can be:\n",
    "- **read_json**: JSON (JavaScript Object Notations) used for Internet based data exchange. Are very similar to dictionary formats. \n",
    "- **read_html**: Hyper Text Markup Language are text files which are used for rendering webpages and can be used to store data as well. \n",
    "- **read_sql**: Can be used to read/ write to databases.\n",
    "- **read_pickle**: These are binary files which are used for keeping data hierarchy in python. \n",
    "We will mostly be working with CSV file in this article. "
   ]
  },
  {
   "cell_type": "markdown",
   "id": "c1ca0b12",
   "metadata": {},
   "source": [
    "#### First steps in our EDA:\n",
    "First step for data analysis will be to understand the dimensions of the data and what exactly is there. Therefore we will be using following functions:\n",
    "- shape: To get the # of rows and columns in the data\n",
    "- head: To get first few rows of the data\n",
    "- columns: To get the names of the columns\n",
    "- "
   ]
  },
  {
   "cell_type": "code",
   "execution_count": 4,
   "id": "10dffaed",
   "metadata": {},
   "outputs": [
    {
     "data": {
      "text/plain": [
       "(14999, 11)"
      ]
     },
     "execution_count": 4,
     "metadata": {},
     "output_type": "execute_result"
    }
   ],
   "source": [
    "employee_data.shape\n",
    "#This shows our data has 14,999 rows and 11 columns: Every dataframe is represented by ROWS X COLUMNS format"
   ]
  },
  {
   "cell_type": "code",
   "execution_count": 5,
   "id": "bd4b7da1",
   "metadata": {},
   "outputs": [
    {
     "data": {
      "text/plain": [
       "Index(['ID', 'satisfaction_level', 'last_evaluation', 'number_project',\n",
       "       'average_montly_hours', 'time_spend_company', 'Work_accident', 'left',\n",
       "       'promotion_last_5years', 'Division', 'salary'],\n",
       "      dtype='object')"
      ]
     },
     "execution_count": 5,
     "metadata": {},
     "output_type": "execute_result"
    }
   ],
   "source": [
    "#Let us look at what are these columns\n",
    "employee_data.columns\n",
    "#So we have data points - ID, Satisfaction_level, etc. in the data"
   ]
  },
  {
   "cell_type": "code",
   "execution_count": 6,
   "id": "17b5422c",
   "metadata": {},
   "outputs": [
    {
     "data": {
      "text/html": [
       "<div>\n",
       "<style scoped>\n",
       "    .dataframe tbody tr th:only-of-type {\n",
       "        vertical-align: middle;\n",
       "    }\n",
       "\n",
       "    .dataframe tbody tr th {\n",
       "        vertical-align: top;\n",
       "    }\n",
       "\n",
       "    .dataframe thead th {\n",
       "        text-align: right;\n",
       "    }\n",
       "</style>\n",
       "<table border=\"1\" class=\"dataframe\">\n",
       "  <thead>\n",
       "    <tr style=\"text-align: right;\">\n",
       "      <th></th>\n",
       "      <th>ID</th>\n",
       "      <th>satisfaction_level</th>\n",
       "      <th>last_evaluation</th>\n",
       "      <th>number_project</th>\n",
       "      <th>average_montly_hours</th>\n",
       "      <th>time_spend_company</th>\n",
       "      <th>Work_accident</th>\n",
       "      <th>left</th>\n",
       "      <th>promotion_last_5years</th>\n",
       "      <th>Division</th>\n",
       "      <th>salary</th>\n",
       "    </tr>\n",
       "  </thead>\n",
       "  <tbody>\n",
       "    <tr>\n",
       "      <th>0</th>\n",
       "      <td>1</td>\n",
       "      <td>0.38</td>\n",
       "      <td>0.53</td>\n",
       "      <td>2</td>\n",
       "      <td>157</td>\n",
       "      <td>3</td>\n",
       "      <td>0</td>\n",
       "      <td>1</td>\n",
       "      <td>0</td>\n",
       "      <td>sales</td>\n",
       "      <td>low</td>\n",
       "    </tr>\n",
       "    <tr>\n",
       "      <th>1</th>\n",
       "      <td>2</td>\n",
       "      <td>0.80</td>\n",
       "      <td>0.86</td>\n",
       "      <td>5</td>\n",
       "      <td>262</td>\n",
       "      <td>6</td>\n",
       "      <td>0</td>\n",
       "      <td>1</td>\n",
       "      <td>0</td>\n",
       "      <td>sales</td>\n",
       "      <td>medium</td>\n",
       "    </tr>\n",
       "    <tr>\n",
       "      <th>2</th>\n",
       "      <td>2</td>\n",
       "      <td>0.11</td>\n",
       "      <td>0.88</td>\n",
       "      <td>7</td>\n",
       "      <td>272</td>\n",
       "      <td>4</td>\n",
       "      <td>0</td>\n",
       "      <td>1</td>\n",
       "      <td>0</td>\n",
       "      <td>sales</td>\n",
       "      <td>medium</td>\n",
       "    </tr>\n",
       "    <tr>\n",
       "      <th>3</th>\n",
       "      <td>4</td>\n",
       "      <td>0.72</td>\n",
       "      <td>0.87</td>\n",
       "      <td>5</td>\n",
       "      <td>223</td>\n",
       "      <td>5</td>\n",
       "      <td>0</td>\n",
       "      <td>1</td>\n",
       "      <td>0</td>\n",
       "      <td>sales</td>\n",
       "      <td>low</td>\n",
       "    </tr>\n",
       "    <tr>\n",
       "      <th>4</th>\n",
       "      <td>5</td>\n",
       "      <td>0.37</td>\n",
       "      <td>0.52</td>\n",
       "      <td>2</td>\n",
       "      <td>159</td>\n",
       "      <td>3</td>\n",
       "      <td>0</td>\n",
       "      <td>1</td>\n",
       "      <td>0</td>\n",
       "      <td>sales</td>\n",
       "      <td>low</td>\n",
       "    </tr>\n",
       "  </tbody>\n",
       "</table>\n",
       "</div>"
      ],
      "text/plain": [
       "   ID  satisfaction_level  last_evaluation  number_project  \\\n",
       "0   1                0.38             0.53               2   \n",
       "1   2                0.80             0.86               5   \n",
       "2   2                0.11             0.88               7   \n",
       "3   4                0.72             0.87               5   \n",
       "4   5                0.37             0.52               2   \n",
       "\n",
       "   average_montly_hours  time_spend_company  Work_accident  left  \\\n",
       "0                   157                   3              0     1   \n",
       "1                   262                   6              0     1   \n",
       "2                   272                   4              0     1   \n",
       "3                   223                   5              0     1   \n",
       "4                   159                   3              0     1   \n",
       "\n",
       "   promotion_last_5years Division  salary  \n",
       "0                      0    sales     low  \n",
       "1                      0    sales  medium  \n",
       "2                      0    sales  medium  \n",
       "3                      0    sales     low  \n",
       "4                      0    sales     low  "
      ]
     },
     "execution_count": 6,
     "metadata": {},
     "output_type": "execute_result"
    }
   ],
   "source": [
    "#Let us look at the first few rows of the data set\n",
    "employee_data.head()\n",
    "#Looks like out of 11 columns 2 are categorical variables viz - Division and Salary rest all seem to be numerical variables"
   ]
  },
  {
   "cell_type": "markdown",
   "id": "c0c6cd79",
   "metadata": {},
   "source": [
    "We did a cardinal mistake in the code snippet above, just basis the head of the data we decided 2 are categorical and rest all are numerical. However, this might not be true and our data might have some variable types as mixed. You can confirm your assumption by looking at the tail by ```employee_data.tail()```. \n",
    "<br>Alternatively, we could even look at more number of rows by using ```employee_data.head(20)``` this will show 20 rows of the data default (without any value) shows 5 rows as above. \n",
    "<br>One more interesting thing here is the rownumbers in extreme left these are known as row indices, they will form important part of our data analysis in Python. We will come to this when required. "
   ]
  },
  {
   "cell_type": "code",
   "execution_count": 7,
   "id": "d4ddfb3d",
   "metadata": {},
   "outputs": [
    {
     "data": {
      "text/html": [
       "<div>\n",
       "<style scoped>\n",
       "    .dataframe tbody tr th:only-of-type {\n",
       "        vertical-align: middle;\n",
       "    }\n",
       "\n",
       "    .dataframe tbody tr th {\n",
       "        vertical-align: top;\n",
       "    }\n",
       "\n",
       "    .dataframe thead th {\n",
       "        text-align: right;\n",
       "    }\n",
       "</style>\n",
       "<table border=\"1\" class=\"dataframe\">\n",
       "  <thead>\n",
       "    <tr style=\"text-align: right;\">\n",
       "      <th></th>\n",
       "      <th>ID</th>\n",
       "      <th>satisfaction_level</th>\n",
       "      <th>last_evaluation</th>\n",
       "      <th>number_project</th>\n",
       "      <th>average_montly_hours</th>\n",
       "      <th>time_spend_company</th>\n",
       "      <th>Work_accident</th>\n",
       "      <th>left</th>\n",
       "      <th>promotion_last_5years</th>\n",
       "      <th>Division</th>\n",
       "      <th>salary</th>\n",
       "    </tr>\n",
       "  </thead>\n",
       "  <tbody>\n",
       "    <tr>\n",
       "      <th>0</th>\n",
       "      <td>1</td>\n",
       "      <td>0.38</td>\n",
       "      <td>0.53</td>\n",
       "      <td>2</td>\n",
       "      <td>157</td>\n",
       "      <td>3</td>\n",
       "      <td>0</td>\n",
       "      <td>1</td>\n",
       "      <td>0</td>\n",
       "      <td>sales</td>\n",
       "      <td>low</td>\n",
       "    </tr>\n",
       "    <tr>\n",
       "      <th>1</th>\n",
       "      <td>2</td>\n",
       "      <td>0.80</td>\n",
       "      <td>0.86</td>\n",
       "      <td>5</td>\n",
       "      <td>262</td>\n",
       "      <td>6</td>\n",
       "      <td>0</td>\n",
       "      <td>1</td>\n",
       "      <td>0</td>\n",
       "      <td>sales</td>\n",
       "      <td>medium</td>\n",
       "    </tr>\n",
       "    <tr>\n",
       "      <th>2</th>\n",
       "      <td>2</td>\n",
       "      <td>0.11</td>\n",
       "      <td>0.88</td>\n",
       "      <td>7</td>\n",
       "      <td>272</td>\n",
       "      <td>4</td>\n",
       "      <td>0</td>\n",
       "      <td>1</td>\n",
       "      <td>0</td>\n",
       "      <td>sales</td>\n",
       "      <td>medium</td>\n",
       "    </tr>\n",
       "    <tr>\n",
       "      <th>3</th>\n",
       "      <td>4</td>\n",
       "      <td>0.72</td>\n",
       "      <td>0.87</td>\n",
       "      <td>5</td>\n",
       "      <td>223</td>\n",
       "      <td>5</td>\n",
       "      <td>0</td>\n",
       "      <td>1</td>\n",
       "      <td>0</td>\n",
       "      <td>sales</td>\n",
       "      <td>low</td>\n",
       "    </tr>\n",
       "    <tr>\n",
       "      <th>4</th>\n",
       "      <td>5</td>\n",
       "      <td>0.37</td>\n",
       "      <td>0.52</td>\n",
       "      <td>2</td>\n",
       "      <td>159</td>\n",
       "      <td>3</td>\n",
       "      <td>0</td>\n",
       "      <td>1</td>\n",
       "      <td>0</td>\n",
       "      <td>sales</td>\n",
       "      <td>low</td>\n",
       "    </tr>\n",
       "    <tr>\n",
       "      <th>5</th>\n",
       "      <td>6</td>\n",
       "      <td>0.41</td>\n",
       "      <td>0.50</td>\n",
       "      <td>2</td>\n",
       "      <td>153</td>\n",
       "      <td>3</td>\n",
       "      <td>0</td>\n",
       "      <td>1</td>\n",
       "      <td>0</td>\n",
       "      <td>sales</td>\n",
       "      <td>low</td>\n",
       "    </tr>\n",
       "    <tr>\n",
       "      <th>6</th>\n",
       "      <td>7</td>\n",
       "      <td>0.10</td>\n",
       "      <td>0.77</td>\n",
       "      <td>6</td>\n",
       "      <td>247</td>\n",
       "      <td>4</td>\n",
       "      <td>0</td>\n",
       "      <td>1</td>\n",
       "      <td>0</td>\n",
       "      <td>sales</td>\n",
       "      <td>low</td>\n",
       "    </tr>\n",
       "    <tr>\n",
       "      <th>7</th>\n",
       "      <td>8</td>\n",
       "      <td>0.92</td>\n",
       "      <td>0.85</td>\n",
       "      <td>5</td>\n",
       "      <td>259</td>\n",
       "      <td>5</td>\n",
       "      <td>0</td>\n",
       "      <td>1</td>\n",
       "      <td>0</td>\n",
       "      <td>sales</td>\n",
       "      <td>low</td>\n",
       "    </tr>\n",
       "    <tr>\n",
       "      <th>8</th>\n",
       "      <td>9</td>\n",
       "      <td>0.89</td>\n",
       "      <td>1.00</td>\n",
       "      <td>5</td>\n",
       "      <td>224</td>\n",
       "      <td>5</td>\n",
       "      <td>0</td>\n",
       "      <td>1</td>\n",
       "      <td>0</td>\n",
       "      <td>sales</td>\n",
       "      <td>low</td>\n",
       "    </tr>\n",
       "    <tr>\n",
       "      <th>9</th>\n",
       "      <td>10</td>\n",
       "      <td>0.42</td>\n",
       "      <td>0.53</td>\n",
       "      <td>2</td>\n",
       "      <td>142</td>\n",
       "      <td>3</td>\n",
       "      <td>0</td>\n",
       "      <td>1</td>\n",
       "      <td>0</td>\n",
       "      <td>sales</td>\n",
       "      <td>low</td>\n",
       "    </tr>\n",
       "    <tr>\n",
       "      <th>10</th>\n",
       "      <td>11</td>\n",
       "      <td>0.45</td>\n",
       "      <td>0.54</td>\n",
       "      <td>2</td>\n",
       "      <td>135</td>\n",
       "      <td>3</td>\n",
       "      <td>0</td>\n",
       "      <td>1</td>\n",
       "      <td>0</td>\n",
       "      <td>sales</td>\n",
       "      <td>low</td>\n",
       "    </tr>\n",
       "    <tr>\n",
       "      <th>11</th>\n",
       "      <td>12</td>\n",
       "      <td>0.11</td>\n",
       "      <td>0.81</td>\n",
       "      <td>6</td>\n",
       "      <td>305</td>\n",
       "      <td>4</td>\n",
       "      <td>0</td>\n",
       "      <td>1</td>\n",
       "      <td>0</td>\n",
       "      <td>sales</td>\n",
       "      <td>low</td>\n",
       "    </tr>\n",
       "    <tr>\n",
       "      <th>12</th>\n",
       "      <td>13</td>\n",
       "      <td>0.84</td>\n",
       "      <td>0.92</td>\n",
       "      <td>4</td>\n",
       "      <td>234</td>\n",
       "      <td>5</td>\n",
       "      <td>0</td>\n",
       "      <td>1</td>\n",
       "      <td>0</td>\n",
       "      <td>sales</td>\n",
       "      <td>low</td>\n",
       "    </tr>\n",
       "    <tr>\n",
       "      <th>13</th>\n",
       "      <td>14</td>\n",
       "      <td>0.41</td>\n",
       "      <td>0.55</td>\n",
       "      <td>2</td>\n",
       "      <td>148</td>\n",
       "      <td>3</td>\n",
       "      <td>0</td>\n",
       "      <td>1</td>\n",
       "      <td>0</td>\n",
       "      <td>sales</td>\n",
       "      <td>low</td>\n",
       "    </tr>\n",
       "    <tr>\n",
       "      <th>14</th>\n",
       "      <td>15</td>\n",
       "      <td>0.36</td>\n",
       "      <td>0.56</td>\n",
       "      <td>2</td>\n",
       "      <td>137</td>\n",
       "      <td>3</td>\n",
       "      <td>0</td>\n",
       "      <td>1</td>\n",
       "      <td>0</td>\n",
       "      <td>sales</td>\n",
       "      <td>low</td>\n",
       "    </tr>\n",
       "    <tr>\n",
       "      <th>15</th>\n",
       "      <td>16</td>\n",
       "      <td>0.38</td>\n",
       "      <td>0.54</td>\n",
       "      <td>2</td>\n",
       "      <td>143</td>\n",
       "      <td>3</td>\n",
       "      <td>0</td>\n",
       "      <td>1</td>\n",
       "      <td>0</td>\n",
       "      <td>sales</td>\n",
       "      <td>low</td>\n",
       "    </tr>\n",
       "    <tr>\n",
       "      <th>16</th>\n",
       "      <td>17</td>\n",
       "      <td>0.45</td>\n",
       "      <td>0.47</td>\n",
       "      <td>2</td>\n",
       "      <td>160</td>\n",
       "      <td>3</td>\n",
       "      <td>0</td>\n",
       "      <td>1</td>\n",
       "      <td>0</td>\n",
       "      <td>sales</td>\n",
       "      <td>low</td>\n",
       "    </tr>\n",
       "    <tr>\n",
       "      <th>17</th>\n",
       "      <td>18</td>\n",
       "      <td>0.78</td>\n",
       "      <td>0.99</td>\n",
       "      <td>4</td>\n",
       "      <td>255</td>\n",
       "      <td>6</td>\n",
       "      <td>0</td>\n",
       "      <td>1</td>\n",
       "      <td>0</td>\n",
       "      <td>sales</td>\n",
       "      <td>low</td>\n",
       "    </tr>\n",
       "    <tr>\n",
       "      <th>18</th>\n",
       "      <td>19</td>\n",
       "      <td>0.45</td>\n",
       "      <td>0.51</td>\n",
       "      <td>2</td>\n",
       "      <td>160</td>\n",
       "      <td>3</td>\n",
       "      <td>1</td>\n",
       "      <td>1</td>\n",
       "      <td>1</td>\n",
       "      <td>sales</td>\n",
       "      <td>low</td>\n",
       "    </tr>\n",
       "    <tr>\n",
       "      <th>19</th>\n",
       "      <td>20</td>\n",
       "      <td>0.76</td>\n",
       "      <td>0.89</td>\n",
       "      <td>5</td>\n",
       "      <td>262</td>\n",
       "      <td>5</td>\n",
       "      <td>0</td>\n",
       "      <td>1</td>\n",
       "      <td>0</td>\n",
       "      <td>sales</td>\n",
       "      <td>low</td>\n",
       "    </tr>\n",
       "  </tbody>\n",
       "</table>\n",
       "</div>"
      ],
      "text/plain": [
       "    ID  satisfaction_level  last_evaluation  number_project  \\\n",
       "0    1                0.38             0.53               2   \n",
       "1    2                0.80             0.86               5   \n",
       "2    2                0.11             0.88               7   \n",
       "3    4                0.72             0.87               5   \n",
       "4    5                0.37             0.52               2   \n",
       "5    6                0.41             0.50               2   \n",
       "6    7                0.10             0.77               6   \n",
       "7    8                0.92             0.85               5   \n",
       "8    9                0.89             1.00               5   \n",
       "9   10                0.42             0.53               2   \n",
       "10  11                0.45             0.54               2   \n",
       "11  12                0.11             0.81               6   \n",
       "12  13                0.84             0.92               4   \n",
       "13  14                0.41             0.55               2   \n",
       "14  15                0.36             0.56               2   \n",
       "15  16                0.38             0.54               2   \n",
       "16  17                0.45             0.47               2   \n",
       "17  18                0.78             0.99               4   \n",
       "18  19                0.45             0.51               2   \n",
       "19  20                0.76             0.89               5   \n",
       "\n",
       "    average_montly_hours  time_spend_company  Work_accident  left  \\\n",
       "0                    157                   3              0     1   \n",
       "1                    262                   6              0     1   \n",
       "2                    272                   4              0     1   \n",
       "3                    223                   5              0     1   \n",
       "4                    159                   3              0     1   \n",
       "5                    153                   3              0     1   \n",
       "6                    247                   4              0     1   \n",
       "7                    259                   5              0     1   \n",
       "8                    224                   5              0     1   \n",
       "9                    142                   3              0     1   \n",
       "10                   135                   3              0     1   \n",
       "11                   305                   4              0     1   \n",
       "12                   234                   5              0     1   \n",
       "13                   148                   3              0     1   \n",
       "14                   137                   3              0     1   \n",
       "15                   143                   3              0     1   \n",
       "16                   160                   3              0     1   \n",
       "17                   255                   6              0     1   \n",
       "18                   160                   3              1     1   \n",
       "19                   262                   5              0     1   \n",
       "\n",
       "    promotion_last_5years Division  salary  \n",
       "0                       0    sales     low  \n",
       "1                       0    sales  medium  \n",
       "2                       0    sales  medium  \n",
       "3                       0    sales     low  \n",
       "4                       0    sales     low  \n",
       "5                       0    sales     low  \n",
       "6                       0    sales     low  \n",
       "7                       0    sales     low  \n",
       "8                       0    sales     low  \n",
       "9                       0    sales     low  \n",
       "10                      0    sales     low  \n",
       "11                      0    sales     low  \n",
       "12                      0    sales     low  \n",
       "13                      0    sales     low  \n",
       "14                      0    sales     low  \n",
       "15                      0    sales     low  \n",
       "16                      0    sales     low  \n",
       "17                      0    sales     low  \n",
       "18                      1    sales     low  \n",
       "19                      0    sales     low  "
      ]
     },
     "execution_count": 7,
     "metadata": {},
     "output_type": "execute_result"
    }
   ],
   "source": [
    "employee_data.head(20)"
   ]
  },
  {
   "cell_type": "code",
   "execution_count": 8,
   "id": "14da4ba0",
   "metadata": {},
   "outputs": [
    {
     "data": {
      "text/plain": [
       "sales          4140\n",
       "technical      2720\n",
       "support        2229\n",
       "IT             1227\n",
       "product_mng     902\n",
       "marketing       858\n",
       "RandD           787\n",
       "accounting      767\n",
       "hr              739\n",
       "management      630\n",
       "Name: Division, dtype: int64"
      ]
     },
     "execution_count": 8,
     "metadata": {},
     "output_type": "execute_result"
    }
   ],
   "source": [
    "employee_data['Division'].value_counts()"
   ]
  },
  {
   "cell_type": "markdown",
   "id": "f8b520d4",
   "metadata": {},
   "source": [
    "value_counts generates output which is sorted basis the frequency of the result. We can append sort_index() to sort basis the value of division."
   ]
  },
  {
   "cell_type": "code",
   "execution_count": 9,
   "id": "8e61c46f",
   "metadata": {},
   "outputs": [
    {
     "data": {
      "text/plain": [
       "IT             1227\n",
       "RandD           787\n",
       "accounting      767\n",
       "hr              739\n",
       "management      630\n",
       "marketing       858\n",
       "product_mng     902\n",
       "sales          4140\n",
       "support        2229\n",
       "technical      2720\n",
       "Name: Division, dtype: int64"
      ]
     },
     "execution_count": 9,
     "metadata": {},
     "output_type": "execute_result"
    }
   ],
   "source": [
    "employee_data['Division'].value_counts().sort_index()\n",
    "#Remeber in python small case and capital case are different orders and there is an ASCII code basis sorting. "
   ]
  },
  {
   "cell_type": "markdown",
   "id": "895dd0e2",
   "metadata": {},
   "source": [
    "##### ASCII Codes\n",
    "ASCII (American Standard Code for Information Interchange) is character coding framework for computers. To compute ASCII code of any character you can extract via ```ord('C`)``` will give ASCII code of capital C. Capital characters have lower ASCII code than small case. Therefore in above result our words starting with capital letters got sorted first and then words starting with small case. \n",
    "<br>If we need to correct this we can convert every thing in proper case. Which can be done via ```str.title()``` function on the stipulated column."
   ]
  },
  {
   "cell_type": "code",
   "execution_count": 13,
   "id": "703c7e44",
   "metadata": {},
   "outputs": [
    {
     "name": "stdout",
     "output_type": "stream",
     "text": [
      "73\n",
      "97\n"
     ]
    }
   ],
   "source": [
    "#ASCII Character coding\n",
    "print(ord(\"I\"))\n",
    "print(ord(\"a\"))"
   ]
  },
  {
   "cell_type": "code",
   "execution_count": 40,
   "id": "56b98c65",
   "metadata": {},
   "outputs": [
    {
     "data": {
      "text/plain": [
       "ACCOUNTING      767\n",
       "HR              739\n",
       "IT             1227\n",
       "MANAGEMENT      630\n",
       "MARKETING       858\n",
       "PRODUCT_MNG     902\n",
       "RANDD           787\n",
       "SALES          4140\n",
       "SUPPORT        2229\n",
       "TECHNICAL      2720\n",
       "Name: Division, dtype: int64"
      ]
     },
     "execution_count": 40,
     "metadata": {},
     "output_type": "execute_result"
    }
   ],
   "source": [
    "employee_data['Division'] = employee_data['Division'].str.upper()\n",
    "employee_data['Division'].value_counts().sort_index()\n",
    "#Now the index soring is proper as per the requirement"
   ]
  },
  {
   "cell_type": "markdown",
   "id": "01422f73",
   "metadata": {},
   "source": [
    "Let us look at some of the other columns and see what are the distributions of various numerical and non-numeric data. "
   ]
  },
  {
   "cell_type": "code",
   "execution_count": 41,
   "id": "c68e3323",
   "metadata": {},
   "outputs": [
    {
     "name": "stdout",
     "output_type": "stream",
     "text": [
      "*********COLUMN VALUE = ID**********\n",
      "1        1\n",
      "2        2\n",
      "4        1\n",
      "5        1\n",
      "6        1\n",
      "        ..\n",
      "14995    1\n",
      "14996    1\n",
      "14997    1\n",
      "14998    1\n",
      "14999    1\n",
      "Name: ID, Length: 14998, dtype: int64\n",
      "*********COLUMN VALUE = satisfaction_level**********\n",
      "0.09    195\n",
      "0.10    358\n",
      "0.11    335\n",
      "0.12     30\n",
      "0.13     54\n",
      "       ... \n",
      "0.96    203\n",
      "0.97    176\n",
      "0.98    183\n",
      "0.99    172\n",
      "1.00    111\n",
      "Name: satisfaction_level, Length: 92, dtype: int64\n",
      "*********COLUMN VALUE = last_evaluation**********\n",
      "0.36     22\n",
      "0.37     55\n",
      "0.38     50\n",
      "0.39     52\n",
      "0.40     57\n",
      "       ... \n",
      "0.96    249\n",
      "0.97    276\n",
      "0.98    263\n",
      "0.99    258\n",
      "1.00    283\n",
      "Name: last_evaluation, Length: 65, dtype: int64\n",
      "*********COLUMN VALUE = number_project**********\n",
      "2    2388\n",
      "3    4055\n",
      "4    4365\n",
      "5    2761\n",
      "6    1174\n",
      "7     256\n",
      "Name: number_project, dtype: int64\n",
      "*********COLUMN VALUE = average_montly_hours**********\n",
      "96      6\n",
      "97     14\n",
      "98     23\n",
      "99     11\n",
      "100    19\n",
      "       ..\n",
      "306    18\n",
      "307    14\n",
      "308    20\n",
      "309    16\n",
      "310    18\n",
      "Name: average_montly_hours, Length: 215, dtype: int64\n",
      "*********COLUMN VALUE = time_spend_company**********\n",
      "2     3244\n",
      "3     6443\n",
      "4     2557\n",
      "5     1473\n",
      "6      718\n",
      "7      188\n",
      "8      162\n",
      "10     214\n",
      "Name: time_spend_company, dtype: int64\n",
      "*********COLUMN VALUE = Work_accident**********\n",
      "0    12830\n",
      "1     2169\n",
      "Name: Work_accident, dtype: int64\n",
      "*********COLUMN VALUE = left**********\n",
      "0    11428\n",
      "1     3571\n",
      "Name: left, dtype: int64\n",
      "*********COLUMN VALUE = promotion_last_5years**********\n",
      "0    14680\n",
      "1      319\n",
      "Name: promotion_last_5years, dtype: int64\n",
      "*********COLUMN VALUE = Division**********\n",
      "ACCOUNTING      767\n",
      "HR              739\n",
      "IT             1227\n",
      "MANAGEMENT      630\n",
      "MARKETING       858\n",
      "PRODUCT_MNG     902\n",
      "RANDD           787\n",
      "SALES          4140\n",
      "SUPPORT        2229\n",
      "TECHNICAL      2720\n",
      "Name: Division, dtype: int64\n",
      "*********COLUMN VALUE = salary**********\n",
      "high      1237\n",
      "low       7316\n",
      "medium    6446\n",
      "Name: salary, dtype: int64\n"
     ]
    }
   ],
   "source": [
    "for columns in employee_data.columns:\n",
    "    print(f\"*********COLUMN VALUE = {columns}**********\")\n",
    "    print(employee_data[columns].value_counts().sort_index())\n",
    "#This can be used to look at all the columns in the dataframe"
   ]
  },
  {
   "cell_type": "markdown",
   "id": "7dbc3f84",
   "metadata": {},
   "source": [
    "Another way to look at the data (numerical) is to look:\n",
    "1. Median\n",
    "2. Mean\n",
    "3. Standard Deviation\n",
    "4. Quartiles\n",
    "<br>Python code for the same is ```employee_data['satisfaction level`].describe()``` This will provide a summary statistics for a particular column. Good thing is this works on entire data-frame ```employee_data.describe()``` also it chooses all the columns which are numeric in nature and provide the summary statistics. "
   ]
  },
  {
   "cell_type": "code",
   "execution_count": 29,
   "id": "311e6de6",
   "metadata": {},
   "outputs": [
    {
     "name": "stdout",
     "output_type": "stream",
     "text": [
      "count    14999.000000\n",
      "mean         0.612834\n",
      "std          0.248631\n",
      "min          0.090000\n",
      "25%          0.440000\n",
      "50%          0.640000\n",
      "75%          0.820000\n",
      "max          1.000000\n",
      "Name: satisfaction_level, dtype: float64\n",
      "                 ID  satisfaction_level  last_evaluation  number_project  \\\n",
      "count  14999.000000        14999.000000     14999.000000    14999.000000   \n",
      "mean    7499.999933            0.612834         0.716102        3.803054   \n",
      "std     4329.982794            0.248631         0.171169        1.232592   \n",
      "min        1.000000            0.090000         0.360000        2.000000   \n",
      "25%     3750.500000            0.440000         0.560000        3.000000   \n",
      "50%     7500.000000            0.640000         0.720000        4.000000   \n",
      "75%    11249.500000            0.820000         0.870000        5.000000   \n",
      "max    14999.000000            1.000000         1.000000        7.000000   \n",
      "\n",
      "       average_montly_hours  time_spend_company  Work_accident          left  \\\n",
      "count          14999.000000        14999.000000   14999.000000  14999.000000   \n",
      "mean             201.050337            3.498233       0.144610      0.238083   \n",
      "std               49.943099            1.460136       0.351719      0.425924   \n",
      "min               96.000000            2.000000       0.000000      0.000000   \n",
      "25%              156.000000            3.000000       0.000000      0.000000   \n",
      "50%              200.000000            3.000000       0.000000      0.000000   \n",
      "75%              245.000000            4.000000       0.000000      0.000000   \n",
      "max              310.000000           10.000000       1.000000      1.000000   \n",
      "\n",
      "       promotion_last_5years  \n",
      "count           14999.000000  \n",
      "mean                0.021268  \n",
      "std                 0.144281  \n",
      "min                 0.000000  \n",
      "25%                 0.000000  \n",
      "50%                 0.000000  \n",
      "75%                 0.000000  \n",
      "max                 1.000000  \n"
     ]
    }
   ],
   "source": [
    "print(employee_data['satisfaction_level'].describe())\n",
    "print(employee_data.describe())"
   ]
  },
  {
   "cell_type": "code",
   "execution_count": 31,
   "id": "f830d9a4",
   "metadata": {},
   "outputs": [
    {
     "data": {
      "text/plain": [
       "count     14999\n",
       "unique       10\n",
       "top       Sales\n",
       "freq       4140\n",
       "Name: Division, dtype: object"
      ]
     },
     "execution_count": 31,
     "metadata": {},
     "output_type": "execute_result"
    }
   ],
   "source": [
    "#Let us try to print the output of desribe for categorical variable like division\n",
    "employee_data['Division'].describe()\n",
    "#Gives count based data and also provides output for top frquency. (Better to look at value_counts for categorical data)"
   ]
  },
  {
   "cell_type": "markdown",
   "id": "27aa35fc",
   "metadata": {},
   "source": [
    "#### Pictures speak 1000 words:\n",
    "Till now we have been looking at the numerical statistics about the data. We could look at the data visually and it might provide us with better description. For this we will need ```matplotlib``` library one of the most important visual library.\n",
    "<br>Matplotlib creates a plot object and in-order to display the plot (only) we need to use plt.show to display the plot."
   ]
  },
  {
   "cell_type": "code",
   "execution_count": 32,
   "id": "6212bd13",
   "metadata": {},
   "outputs": [],
   "source": [
    "import matplotlib.pyplot as plt"
   ]
  },
  {
   "cell_type": "code",
   "execution_count": 36,
   "id": "e9330ae3",
   "metadata": {},
   "outputs": [
    {
     "data": {
      "image/png": "[encoded data removed]",
      "text/plain": [
       "<Figure size 432x288 with 1 Axes>"
      ]
     },
     "metadata": {
      "needs_background": "light"
     },
     "output_type": "display_data"
    }
   ],
   "source": [
    "plt.hist(employee_data['satisfaction_level'],bins = 30)\n",
    "plt.xlabel('Satisfaction Levels')\n",
    "plt.ylabel('Frquency of distribution')\n",
    "plt.show()"
   ]
  },
  {
   "cell_type": "markdown",
   "id": "915b0355",
   "metadata": {},
   "source": [
    "We can see the distribution of satisfaction level is pretty much uniform with some peaks and troughs at lower levels of the satisfaction levels. "
   ]
  },
  {
   "cell_type": "code",
   "execution_count": 42,
   "id": "79202ce5",
   "metadata": {},
   "outputs": [
    {
     "data": {
      "image/png": "[encoded data removed]",
      "text/plain": [
       "<Figure size 432x288 with 1 Axes>"
      ]
     },
     "metadata": {
      "needs_background": "light"
     },
     "output_type": "display_data"
    }
   ],
   "source": [
    "plt.hist(employee_data['Division'])\n",
    "ax = plt.gca() #GCA Gives the \"GET CURRENT AXES\"\n",
    "ax.tick_params(axis = 'x',labelrotation =45)\n",
    "plt.show()"
   ]
  },
  {
   "cell_type": "markdown",
   "id": "da2c9d5b",
   "metadata": {},
   "source": [
    "We are changing the axes labels by 45 Degrees to display the data properly. We can see from the data that the sales has maximum people followed by Technical and Support.  \n",
    "<br>Let us plot all the variables in a histogram and try to see the distribution for each of the variables. ID will not be a relevant variable to be looked at as it is a unique key for the data. \n",
    "<br>We will use one more python code implementation - \"continue\" this is use for loop management in case the loop element is not to be executed continue will just ignore the remaining section of the code and it goes for next level of execution. "
   ]
  },
  {
   "cell_type": "code",
   "execution_count": 49,
   "id": "2a4bf550",
   "metadata": {},
   "outputs": [
    {
     "data": {
      "image/png": "[encoded data removed]",
      "text/plain": [
       "<Figure size 432x288 with 1 Axes>"
      ]
     },
     "metadata": {
      "needs_background": "light"
     },
     "output_type": "display_data"
    },
    {
     "data": {
      "image/png": "[encoded data removed]",
      "text/plain": [
       "<Figure size 432x288 with 1 Axes>"
      ]
     },
     "metadata": {
      "needs_background": "light"
     },
     "output_type": "display_data"
    },
    {
     "data": {
      "image/png": "[encoded data removed]",
      "text/plain": [
       "<Figure size 432x288 with 1 Axes>"
      ]
     },
     "metadata": {
      "needs_background": "light"
     },
     "output_type": "display_data"
    },
    {
     "data": {
      "image/png": "[encoded data removed]",
      "text/plain": [
       "<Figure size 432x288 with 1 Axes>"
      ]
     },
     "metadata": {
      "needs_background": "light"
     },
     "output_type": "display_data"
    },
    {
     "data": {
      "image/png": "[encoded data removed]",
      "text/plain": [
       "<Figure size 432x288 with 1 Axes>"
      ]
     },
     "metadata": {
      "needs_background": "light"
     },
     "output_type": "display_data"
    },
    {
     "data": {
      "image/png": "[encoded data removed]",
      "text/plain": [
       "<Figure size 432x288 with 1 Axes>"
      ]
     },
     "metadata": {
      "needs_background": "light"
     },
     "output_type": "display_data"
    },
    {
     "data": {
      "image/png": "[encoded data removed]",
      "text/plain": [
       "<Figure size 432x288 with 1 Axes>"
      ]
     },
     "metadata": {
      "needs_background": "light"
     },
     "output_type": "display_data"
    },
    {
     "data": {
      "image/png": "[encoded data removed]",
      "text/plain": [
       "<Figure size 432x288 with 1 Axes>"
      ]
     },
     "metadata": {
      "needs_background": "light"
     },
     "output_type": "display_data"
    },
    {
     "data": {
      "image/png": "[encoded data removed]",
      "text/plain": [
       "<Figure size 432x288 with 1 Axes>"
      ]
     },
     "metadata": {
      "needs_background": "light"
     },
     "output_type": "display_data"
    },
    {
     "data": {
      "image/png": "[encoded data removed]",
      "text/plain": [
       "<Figure size 432x288 with 1 Axes>"
      ]
     },
     "metadata": {
      "needs_background": "light"
     },
     "output_type": "display_data"
    }
   ],
   "source": [
    "for columns in employee_data.columns:\n",
    "    if columns == 'ID':\n",
    "        continue\n",
    "    plt.hist(employee_data[columns])\n",
    "    ax = plt.gca()\n",
    "    ax.tick_params(axis = 'x',labelrotation = 45)\n",
    "    plt.title(columns)\n",
    "    plt.show()\n",
    "    "
   ]
  },
  {
   "cell_type": "code",
   "execution_count": 111,
   "id": "5dff13a6",
   "metadata": {},
   "outputs": [
    {
     "data": {
      "image/png": "[encoded data removed]",
      "text/plain": [
       "<Figure size 432x288 with 1 Axes>"
      ]
     },
     "metadata": {
      "needs_background": "light"
     },
     "output_type": "display_data"
    }
   ],
   "source": [
    "employee_data['average_montly_hours'].unique()\n",
    "figure,axis = plt.subplots()\n",
    "plot = axis.bar(employee_data['average_montly_hours'].unique(),employee_data['average_montly_hours'].value_counts().sort_index())"
   ]
  },
  {
   "cell_type": "code",
   "execution_count": 112,
   "id": "cefbafc6",
   "metadata": {},
   "outputs": [
    {
     "data": {
      "text/plain": [
       "96      6\n",
       "97     14\n",
       "98     23\n",
       "99     11\n",
       "100    19\n",
       "       ..\n",
       "306    18\n",
       "307    14\n",
       "308    20\n",
       "309    16\n",
       "310    18\n",
       "Name: average_montly_hours, Length: 215, dtype: int64"
      ]
     },
     "execution_count": 112,
     "metadata": {},
     "output_type": "execute_result"
    }
   ],
   "source": [
    "employee_data['average_montly_hours'].unique()\n",
    "employee_data['average_montly_hours'].value_counts().sort_index()"
   ]
  },
  {
   "cell_type": "code",
   "execution_count": 113,
   "id": "5be8dc09",
   "metadata": {},
   "outputs": [
    {
     "name": "stdout",
     "output_type": "stream",
     "text": [
      "<class 'pandas.core.frame.DataFrame'>\n",
      "RangeIndex: 14999 entries, 0 to 14998\n",
      "Data columns (total 11 columns):\n",
      " #   Column                 Non-Null Count  Dtype  \n",
      "---  ------                 --------------  -----  \n",
      " 0   ID                     14999 non-null  int64  \n",
      " 1   satisfaction_level     14999 non-null  float64\n",
      " 2   last_evaluation        14999 non-null  float64\n",
      " 3   number_project         14999 non-null  int64  \n",
      " 4   average_montly_hours   14999 non-null  int64  \n",
      " 5   time_spend_company     14999 non-null  int64  \n",
      " 6   Work_accident          14999 non-null  int64  \n",
      " 7   left                   14999 non-null  int64  \n",
      " 8   promotion_last_5years  14999 non-null  int64  \n",
      " 9   Division               14999 non-null  object \n",
      " 10  salary                 14999 non-null  object \n",
      "dtypes: float64(2), int64(7), object(2)\n",
      "memory usage: 1.3+ MB\n"
     ]
    }
   ],
   "source": [
    "employee_data.info()"
   ]
  },
  {
   "cell_type": "code",
   "execution_count": 118,
   "id": "b3f71966",
   "metadata": {},
   "outputs": [
    {
     "data": {
      "text/plain": [
       "<matplotlib.collections.PathCollection at 0x1319b4cbe50>"
      ]
     },
     "execution_count": 118,
     "metadata": {},
     "output_type": "execute_result"
    },
    {
     "data": {
      "image/png": "[encoded data removed]",
      "text/plain": [
       "<Figure size 432x288 with 1 Axes>"
      ]
     },
     "metadata": {
      "needs_background": "light"
     },
     "output_type": "display_data"
    }
   ],
   "source": [
    "plt.scatter(left_data['satisfaction_level'],left_data['last_evaluation'])"
   ]
  },
  {
   "cell_type": "code",
   "execution_count": 119,
   "id": "54c40baa",
   "metadata": {},
   "outputs": [],
   "source": [
    "left_data = employee_data[employee_data['left']==1]\n",
    "not_left = employee_data[employee_data['left']==0]"
   ]
  },
  {
   "cell_type": "code",
   "execution_count": 121,
   "id": "380c3cd0",
   "metadata": {},
   "outputs": [
    {
     "data": {
      "text/plain": [
       "<matplotlib.collections.PathCollection at 0x1319beef670>"
      ]
     },
     "execution_count": 121,
     "metadata": {},
     "output_type": "execute_result"
    },
    {
     "data": {
      "image/png": "[encoded data removed]",
      "text/plain": [
       "<Figure size 432x288 with 1 Axes>"
      ]
     },
     "metadata": {
      "needs_background": "light"
     },
     "output_type": "display_data"
    }
   ],
   "source": [
    "plt.scatter(left_data['average_montly_hours'],left_data['time_spend_company'])"
   ]
  },
  {
   "cell_type": "code",
   "execution_count": 120,
   "id": "267a2a5d",
   "metadata": {},
   "outputs": [
    {
     "data": {
      "text/plain": [
       "<matplotlib.collections.PathCollection at 0x1319be8a880>"
      ]
     },
     "execution_count": 120,
     "metadata": {},
     "output_type": "execute_result"
    },
    {
     "data": {
      "image/png": "[encoded data removed]",
      "text/plain": [
       "<Figure size 432x288 with 1 Axes>"
      ]
     },
     "metadata": {
      "needs_background": "light"
     },
     "output_type": "display_data"
    }
   ],
   "source": [
    "plt.scatter(not_left['satisfaction_level'],not_left['last_evaluation'])"
   ]
  },
  {
   "cell_type": "code",
   "execution_count": 124,
   "id": "1166f86e",
   "metadata": {},
   "outputs": [
    {
     "name": "stdout",
     "output_type": "stream",
     "text": [
      "<pandas.core.groupby.generic.DataFrameGroupBy object at 0x000001319BF3DE20>\n"
     ]
    }
   ],
   "source": [
    "print(left_data.groupby('satisfaction_level'))"
   ]
  },
  {
   "cell_type": "code",
   "execution_count": null,
   "id": "66b320e2",
   "metadata": {},
   "outputs": [],
   "source": []
  }
 ],
 "metadata": {
  "kernelspec": {
   "display_name": "Python 3 (ipykernel)",
   "language": "python",
   "name": "python3"
  },
  "language_info": {
   "codemirror_mode": {
    "name": "ipython",
    "version": 3
   },
   "file_extension": ".py",
   "mimetype": "text/x-python",
   "name": "python",
   "nbconvert_exporter": "python",
   "pygments_lexer": "ipython3",
   "version": "3.9.7"
  }
 },
 "nbformat": 4,
 "nbformat_minor": 5
}
