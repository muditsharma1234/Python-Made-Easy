{
 "cells": [
  {
   "cell_type": "markdown",
   "id": "039353d3",
   "metadata": {},
   "source": [
    "#### Exploratory Data Analysis - Why are employees leaving\n",
    "We will use our Python Tools to understand the data of employees leaving and try to answer an analytics question: **Why are employees Leaving?**. \n",
    "Data can be presented in any format - Excel Sheets, CSV (Comma Separated Values) format, HDF5 data etc. \n",
    "<br>Before we jump into actual data analysis we need to first understand"
   ]
  },
  {
   "cell_type": "code",
   "execution_count": 1,
   "id": "716dde5b",
   "metadata": {},
   "outputs": [],
   "source": [
    "import pandas as pd"
   ]
  },
  {
   "cell_type": "code",
   "execution_count": 2,
   "id": "685745a6",
   "metadata": {},
   "outputs": [],
   "source": [
    "employee_data = pd.read_csv(\"Why are employees leaving.csv\")"
   ]
  },
  {
   "cell_type": "code",
   "execution_count": null,
   "id": "2e4c804b",
   "metadata": {},
   "outputs": [],
   "source": []
  },
  {
   "cell_type": "code",
   "execution_count": 3,
   "id": "10dffaed",
   "metadata": {},
   "outputs": [
    {
     "data": {
      "text/plain": [
       "(14999, 11)"
      ]
     },
     "execution_count": 3,
     "metadata": {},
     "output_type": "execute_result"
    }
   ],
   "source": [
    "employee_data.shape"
   ]
  },
  {
   "cell_type": "code",
   "execution_count": null,
   "id": "bd4b7da1",
   "metadata": {},
   "outputs": [],
   "source": []
  }
 ],
 "metadata": {
  "kernelspec": {
   "display_name": "Python 3 (ipykernel)",
   "language": "python",
   "name": "python3"
  },
  "language_info": {
   "codemirror_mode": {
    "name": "ipython",
    "version": 3
   },
   "file_extension": ".py",
   "mimetype": "text/x-python",
   "name": "python",
   "nbconvert_exporter": "python",
   "pygments_lexer": "ipython3",
   "version": "3.9.7"
  }
 },
 "nbformat": 4,
 "nbformat_minor": 5
}
