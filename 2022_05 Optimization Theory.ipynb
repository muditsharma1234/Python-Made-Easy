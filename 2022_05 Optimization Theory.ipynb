{
 "cells": [
  {
   "cell_type": "code",
   "execution_count": 3,
   "id": "7ccfb9b7",
   "metadata": {},
   "outputs": [],
   "source": [
    "import numpy as np\n",
    "import cmath"
   ]
  },
  {
   "cell_type": "code",
   "execution_count": 13,
   "id": "41b2bc6a",
   "metadata": {},
   "outputs": [],
   "source": [
    "z = complex(np.pi/2,0.001)\n",
    "v = np.sin(z**2)"
   ]
  },
  {
   "cell_type": "code",
   "execution_count": 14,
   "id": "b46c23f9",
   "metadata": {},
   "outputs": [
    {
     "data": {
      "text/plain": [
       "0.6242698144866649"
      ]
     },
     "execution_count": 14,
     "metadata": {},
     "output_type": "execute_result"
    }
   ],
   "source": [
    "v.real"
   ]
  },
  {
   "cell_type": "code",
   "execution_count": 17,
   "id": "b8cee928",
   "metadata": {},
   "outputs": [
    {
     "data": {
      "text/plain": [
       "-2.454251617038178"
      ]
     },
     "execution_count": 17,
     "metadata": {},
     "output_type": "execute_result"
    }
   ],
   "source": [
    "v.imag/0.001"
   ]
  },
  {
   "cell_type": "code",
   "execution_count": 19,
   "id": "d297afda",
   "metadata": {},
   "outputs": [],
   "source": [
    "import sympy as sp\n",
    "x = sp.symbols('x')\n",
    "func = sp.sin(x**2)"
   ]
  },
  {
   "cell_type": "code",
   "execution_count": 20,
   "id": "1e5df2c7",
   "metadata": {},
   "outputs": [
    {
     "data": {
      "text/latex": [
       "$\\displaystyle \\sin{\\left(x^{2} \\right)}$"
      ],
      "text/plain": [
       "sin(x**2)"
      ]
     },
     "execution_count": 20,
     "metadata": {},
     "output_type": "execute_result"
    }
   ],
   "source": [
    "func"
   ]
  },
  {
   "cell_type": "code",
   "execution_count": 29,
   "id": "9f4eb392",
   "metadata": {},
   "outputs": [
    {
     "data": {
      "text/latex": [
       "$\\displaystyle -2.45424954115129$"
      ],
      "text/plain": [
       "-2.45424954115129"
      ]
     },
     "execution_count": 29,
     "metadata": {},
     "output_type": "execute_result"
    }
   ],
   "source": [
    "diff = sp.diff(func)\n",
    "diff.subs(x,np.pi/2)"
   ]
  },
  {
   "cell_type": "markdown",
   "id": "0db3d30f",
   "metadata": {},
   "source": [
    "#### General form of Gradient Descent\n",
    "General form of Gradient Descent is given by $x_{k+1} = x_k + \\alpha_k . d_k$.\n",
    "<br>Where $x_k$ is the point under consideration and $\\alpha$ is the learning rate d is the rate change. There are many ways to define each of these parameters based on the algorithm we are dealing with. "
   ]
  },
  {
   "cell_type": "markdown",
   "id": "64ce3463",
   "metadata": {},
   "source": [
    "**LINE SEARCH**\n",
    "<br>In line search we try to minimize function at a particular point in a given direction. "
   ]
  },
  {
   "cell_type": "code",
   "execution_count": null,
   "id": "88226ab4",
   "metadata": {},
   "outputs": [],
   "source": []
  }
 ],
 "metadata": {
  "kernelspec": {
   "display_name": "Python 3 (ipykernel)",
   "language": "python",
   "name": "python3"
  },
  "language_info": {
   "codemirror_mode": {
    "name": "ipython",
    "version": 3
   },
   "file_extension": ".py",
   "mimetype": "text/x-python",
   "name": "python",
   "nbconvert_exporter": "python",
   "pygments_lexer": "ipython3",
   "version": "3.9.12"
  }
 },
 "nbformat": 4,
 "nbformat_minor": 5
}
