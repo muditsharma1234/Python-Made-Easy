{
 "cells": [
  {
   "cell_type": "code",
   "execution_count": 3,
   "id": "56105c37",
   "metadata": {},
   "outputs": [],
   "source": [
    "import numpy as np\n",
    "import cmath"
   ]
  },
  {
   "cell_type": "code",
   "execution_count": 13,
   "id": "8ec8c03e",
   "metadata": {},
   "outputs": [],
   "source": [
    "z = complex(np.pi/2,0.001)\n",
    "v = np.sin(z**2)"
   ]
  },
  {
   "cell_type": "code",
   "execution_count": 14,
   "id": "c4acefec",
   "metadata": {},
   "outputs": [
    {
     "data": {
      "text/plain": [
       "0.6242698144866649"
      ]
     },
     "execution_count": 14,
     "metadata": {},
     "output_type": "execute_result"
    }
   ],
   "source": [
    "v.real"
   ]
  },
  {
   "cell_type": "code",
   "execution_count": 17,
   "id": "eb4b4a81",
   "metadata": {},
   "outputs": [
    {
     "data": {
      "text/plain": [
       "-2.454251617038178"
      ]
     },
     "execution_count": 17,
     "metadata": {},
     "output_type": "execute_result"
    }
   ],
   "source": [
    "v.imag/0.001"
   ]
  },
  {
   "cell_type": "code",
   "execution_count": 19,
   "id": "99749e15",
   "metadata": {},
   "outputs": [],
   "source": [
    "import sympy as sp\n",
    "x = sp.symbols('x')\n",
    "func = sp.sin(x**2)"
   ]
  },
  {
   "cell_type": "code",
   "execution_count": 20,
   "id": "b3f4dfba",
   "metadata": {},
   "outputs": [
    {
     "data": {
      "text/latex": [
       "$\\displaystyle \\sin{\\left(x^{2} \\right)}$"
      ],
      "text/plain": [
       "sin(x**2)"
      ]
     },
     "execution_count": 20,
     "metadata": {},
     "output_type": "execute_result"
    }
   ],
   "source": [
    "func"
   ]
  },
  {
   "cell_type": "code",
   "execution_count": 29,
   "id": "8f471076",
   "metadata": {},
   "outputs": [
    {
     "data": {
      "text/latex": [
       "$\\displaystyle -2.45424954115129$"
      ],
      "text/plain": [
       "-2.45424954115129"
      ]
     },
     "execution_count": 29,
     "metadata": {},
     "output_type": "execute_result"
    }
   ],
   "source": [
    "diff = sp.diff(func)\n",
    "diff.subs(x,np.pi/2)"
   ]
  },
  {
   "cell_type": "code",
   "execution_count": null,
   "id": "259b3b6a",
   "metadata": {},
   "outputs": [],
   "source": []
  }
 ],
 "metadata": {
  "kernelspec": {
   "display_name": "Python 3 (ipykernel)",
   "language": "python",
   "name": "python3"
  },
  "language_info": {
   "codemirror_mode": {
    "name": "ipython",
    "version": 3
   },
   "file_extension": ".py",
   "mimetype": "text/x-python",
   "name": "python",
   "nbconvert_exporter": "python",
   "pygments_lexer": "ipython3",
   "version": "3.9.12"
  }
 },
 "nbformat": 4,
 "nbformat_minor": 5
}
