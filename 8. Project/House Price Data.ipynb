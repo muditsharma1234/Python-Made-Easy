{
 "cells": [
  {
   "cell_type": "code",
   "execution_count": 1,
   "id": "2c024ee8",
   "metadata": {},
   "outputs": [],
   "source": [
    "import pandas as pd\n",
    "import numpy as np\n",
    "import matplotlib.pyplot as plt"
   ]
  },
  {
   "cell_type": "code",
   "execution_count": 2,
   "id": "331f6bc4",
   "metadata": {},
   "outputs": [],
   "source": [
    "data_4 = pd.read_excel(\"Data Sets/Data Set 4.xlsx\")"
   ]
  },
  {
   "cell_type": "code",
   "execution_count": 3,
   "id": "cbe362a7",
   "metadata": {},
   "outputs": [
    {
     "data": {
      "text/html": [
       "<div>\n",
       "<style scoped>\n",
       "    .dataframe tbody tr th:only-of-type {\n",
       "        vertical-align: middle;\n",
       "    }\n",
       "\n",
       "    .dataframe tbody tr th {\n",
       "        vertical-align: top;\n",
       "    }\n",
       "\n",
       "    .dataframe thead th {\n",
       "        text-align: right;\n",
       "    }\n",
       "</style>\n",
       "<table border=\"1\" class=\"dataframe\">\n",
       "  <thead>\n",
       "    <tr style=\"text-align: right;\">\n",
       "      <th></th>\n",
       "      <th>longitude</th>\n",
       "      <th>latitude</th>\n",
       "      <th>housing_median_age</th>\n",
       "      <th>total_rooms</th>\n",
       "      <th>total_bedrooms</th>\n",
       "      <th>population</th>\n",
       "      <th>households</th>\n",
       "      <th>median_income</th>\n",
       "      <th>median_house_value</th>\n",
       "      <th>ocean_proximity</th>\n",
       "    </tr>\n",
       "  </thead>\n",
       "  <tbody>\n",
       "    <tr>\n",
       "      <th>0</th>\n",
       "      <td>-122.23</td>\n",
       "      <td>37.88</td>\n",
       "      <td>41</td>\n",
       "      <td>880</td>\n",
       "      <td>129.0</td>\n",
       "      <td>322</td>\n",
       "      <td>126</td>\n",
       "      <td>8.3252</td>\n",
       "      <td>452600</td>\n",
       "      <td>NEAR BAY</td>\n",
       "    </tr>\n",
       "    <tr>\n",
       "      <th>1</th>\n",
       "      <td>-122.22</td>\n",
       "      <td>37.86</td>\n",
       "      <td>21</td>\n",
       "      <td>7099</td>\n",
       "      <td>1106.0</td>\n",
       "      <td>2401</td>\n",
       "      <td>1138</td>\n",
       "      <td>8.3014</td>\n",
       "      <td>358500</td>\n",
       "      <td>NEAR BAY</td>\n",
       "    </tr>\n",
       "    <tr>\n",
       "      <th>2</th>\n",
       "      <td>-122.25</td>\n",
       "      <td>37.85</td>\n",
       "      <td>52</td>\n",
       "      <td>1627</td>\n",
       "      <td>280.0</td>\n",
       "      <td>565</td>\n",
       "      <td>259</td>\n",
       "      <td>3.8462</td>\n",
       "      <td>342200</td>\n",
       "      <td>NEAR BAY</td>\n",
       "    </tr>\n",
       "    <tr>\n",
       "      <th>3</th>\n",
       "      <td>-122.25</td>\n",
       "      <td>37.85</td>\n",
       "      <td>52</td>\n",
       "      <td>919</td>\n",
       "      <td>213.0</td>\n",
       "      <td>413</td>\n",
       "      <td>193</td>\n",
       "      <td>4.0368</td>\n",
       "      <td>269700</td>\n",
       "      <td>NEAR BAY</td>\n",
       "    </tr>\n",
       "    <tr>\n",
       "      <th>4</th>\n",
       "      <td>-122.25</td>\n",
       "      <td>37.84</td>\n",
       "      <td>52</td>\n",
       "      <td>2535</td>\n",
       "      <td>489.0</td>\n",
       "      <td>1094</td>\n",
       "      <td>514</td>\n",
       "      <td>3.6591</td>\n",
       "      <td>299200</td>\n",
       "      <td>NEAR BAY</td>\n",
       "    </tr>\n",
       "  </tbody>\n",
       "</table>\n",
       "</div>"
      ],
      "text/plain": [
       "   longitude  latitude  housing_median_age  total_rooms  total_bedrooms  \\\n",
       "0    -122.23     37.88                  41          880           129.0   \n",
       "1    -122.22     37.86                  21         7099          1106.0   \n",
       "2    -122.25     37.85                  52         1627           280.0   \n",
       "3    -122.25     37.85                  52          919           213.0   \n",
       "4    -122.25     37.84                  52         2535           489.0   \n",
       "\n",
       "   population  households  median_income  median_house_value ocean_proximity  \n",
       "0         322         126         8.3252              452600        NEAR BAY  \n",
       "1        2401        1138         8.3014              358500        NEAR BAY  \n",
       "2         565         259         3.8462              342200        NEAR BAY  \n",
       "3         413         193         4.0368              269700        NEAR BAY  \n",
       "4        1094         514         3.6591              299200        NEAR BAY  "
      ]
     },
     "execution_count": 3,
     "metadata": {},
     "output_type": "execute_result"
    }
   ],
   "source": [
    "data_4.head()"
   ]
  },
  {
   "cell_type": "code",
   "execution_count": 4,
   "id": "a638e3f2",
   "metadata": {},
   "outputs": [
    {
     "data": {
      "text/plain": [
       "(18565, 10)"
      ]
     },
     "execution_count": 4,
     "metadata": {},
     "output_type": "execute_result"
    }
   ],
   "source": [
    "data_4.shape"
   ]
  },
  {
   "cell_type": "code",
   "execution_count": 5,
   "id": "6265570c",
   "metadata": {},
   "outputs": [
    {
     "data": {
      "text/html": [
       "<div>\n",
       "<style scoped>\n",
       "    .dataframe tbody tr th:only-of-type {\n",
       "        vertical-align: middle;\n",
       "    }\n",
       "\n",
       "    .dataframe tbody tr th {\n",
       "        vertical-align: top;\n",
       "    }\n",
       "\n",
       "    .dataframe thead th {\n",
       "        text-align: right;\n",
       "    }\n",
       "</style>\n",
       "<table border=\"1\" class=\"dataframe\">\n",
       "  <thead>\n",
       "    <tr style=\"text-align: right;\">\n",
       "      <th></th>\n",
       "      <th>longitude</th>\n",
       "      <th>latitude</th>\n",
       "      <th>housing_median_age</th>\n",
       "      <th>total_rooms</th>\n",
       "      <th>total_bedrooms</th>\n",
       "      <th>population</th>\n",
       "      <th>households</th>\n",
       "      <th>median_income</th>\n",
       "      <th>median_house_value</th>\n",
       "    </tr>\n",
       "  </thead>\n",
       "  <tbody>\n",
       "    <tr>\n",
       "      <th>count</th>\n",
       "      <td>18565.00</td>\n",
       "      <td>18565.00</td>\n",
       "      <td>18565.00</td>\n",
       "      <td>18565.00</td>\n",
       "      <td>18376.00</td>\n",
       "      <td>18565.00</td>\n",
       "      <td>18565.00</td>\n",
       "      <td>18565.00</td>\n",
       "      <td>18565.00</td>\n",
       "    </tr>\n",
       "    <tr>\n",
       "      <th>mean</th>\n",
       "      <td>-119.57</td>\n",
       "      <td>35.63</td>\n",
       "      <td>28.62</td>\n",
       "      <td>2634.03</td>\n",
       "      <td>537.71</td>\n",
       "      <td>1426.22</td>\n",
       "      <td>499.45</td>\n",
       "      <td>3.87</td>\n",
       "      <td>206617.79</td>\n",
       "    </tr>\n",
       "    <tr>\n",
       "      <th>std</th>\n",
       "      <td>2.00</td>\n",
       "      <td>2.14</td>\n",
       "      <td>12.56</td>\n",
       "      <td>2195.92</td>\n",
       "      <td>424.13</td>\n",
       "      <td>1142.57</td>\n",
       "      <td>384.55</td>\n",
       "      <td>1.90</td>\n",
       "      <td>115447.10</td>\n",
       "    </tr>\n",
       "    <tr>\n",
       "      <th>min</th>\n",
       "      <td>-124.35</td>\n",
       "      <td>32.54</td>\n",
       "      <td>1.00</td>\n",
       "      <td>2.00</td>\n",
       "      <td>2.00</td>\n",
       "      <td>3.00</td>\n",
       "      <td>2.00</td>\n",
       "      <td>0.50</td>\n",
       "      <td>14999.00</td>\n",
       "    </tr>\n",
       "    <tr>\n",
       "      <th>25%</th>\n",
       "      <td>-121.80</td>\n",
       "      <td>33.93</td>\n",
       "      <td>18.00</td>\n",
       "      <td>1442.00</td>\n",
       "      <td>295.00</td>\n",
       "      <td>786.00</td>\n",
       "      <td>279.00</td>\n",
       "      <td>2.56</td>\n",
       "      <td>119300.00</td>\n",
       "    </tr>\n",
       "    <tr>\n",
       "      <th>50%</th>\n",
       "      <td>-118.50</td>\n",
       "      <td>34.26</td>\n",
       "      <td>29.00</td>\n",
       "      <td>2123.00</td>\n",
       "      <td>434.00</td>\n",
       "      <td>1166.00</td>\n",
       "      <td>408.00</td>\n",
       "      <td>3.53</td>\n",
       "      <td>179400.00</td>\n",
       "    </tr>\n",
       "    <tr>\n",
       "      <th>75%</th>\n",
       "      <td>-118.01</td>\n",
       "      <td>37.71</td>\n",
       "      <td>37.00</td>\n",
       "      <td>3141.00</td>\n",
       "      <td>646.00</td>\n",
       "      <td>1725.00</td>\n",
       "      <td>603.00</td>\n",
       "      <td>4.74</td>\n",
       "      <td>264400.00</td>\n",
       "    </tr>\n",
       "    <tr>\n",
       "      <th>max</th>\n",
       "      <td>-114.31</td>\n",
       "      <td>41.95</td>\n",
       "      <td>52.00</td>\n",
       "      <td>39320.00</td>\n",
       "      <td>6445.00</td>\n",
       "      <td>35682.00</td>\n",
       "      <td>6082.00</td>\n",
       "      <td>15.00</td>\n",
       "      <td>500001.00</td>\n",
       "    </tr>\n",
       "  </tbody>\n",
       "</table>\n",
       "</div>"
      ],
      "text/plain": [
       "       longitude  latitude  housing_median_age  total_rooms  total_bedrooms  \\\n",
       "count   18565.00  18565.00            18565.00     18565.00        18376.00   \n",
       "mean     -119.57     35.63               28.62      2634.03          537.71   \n",
       "std         2.00      2.14               12.56      2195.92          424.13   \n",
       "min      -124.35     32.54                1.00         2.00            2.00   \n",
       "25%      -121.80     33.93               18.00      1442.00          295.00   \n",
       "50%      -118.50     34.26               29.00      2123.00          434.00   \n",
       "75%      -118.01     37.71               37.00      3141.00          646.00   \n",
       "max      -114.31     41.95               52.00     39320.00         6445.00   \n",
       "\n",
       "       population  households  median_income  median_house_value  \n",
       "count    18565.00    18565.00       18565.00            18565.00  \n",
       "mean      1426.22      499.45           3.87           206617.79  \n",
       "std       1142.57      384.55           1.90           115447.10  \n",
       "min          3.00        2.00           0.50            14999.00  \n",
       "25%        786.00      279.00           2.56           119300.00  \n",
       "50%       1166.00      408.00           3.53           179400.00  \n",
       "75%       1725.00      603.00           4.74           264400.00  \n",
       "max      35682.00     6082.00          15.00           500001.00  "
      ]
     },
     "execution_count": 5,
     "metadata": {},
     "output_type": "execute_result"
    }
   ],
   "source": [
    "round(data_4.describe(),2)"
   ]
  },
  {
   "cell_type": "code",
   "execution_count": 6,
   "id": "cda0d7bc",
   "metadata": {},
   "outputs": [
    {
     "data": {
      "image/png": "[encoded data removed]",
      "text/plain": [
       "<Figure size 1440x1080 with 9 Axes>"
      ]
     },
     "metadata": {
      "needs_background": "light"
     },
     "output_type": "display_data"
    }
   ],
   "source": [
    "data_4.hist(bins=50,figsize=(20,15))\n",
    "plt.show()"
   ]
  },
  {
   "cell_type": "code",
   "execution_count": 7,
   "id": "682ae740",
   "metadata": {},
   "outputs": [
    {
     "data": {
      "text/html": [
       "<div>\n",
       "<style scoped>\n",
       "    .dataframe tbody tr th:only-of-type {\n",
       "        vertical-align: middle;\n",
       "    }\n",
       "\n",
       "    .dataframe tbody tr th {\n",
       "        vertical-align: top;\n",
       "    }\n",
       "\n",
       "    .dataframe thead th {\n",
       "        text-align: right;\n",
       "    }\n",
       "</style>\n",
       "<table border=\"1\" class=\"dataframe\">\n",
       "  <thead>\n",
       "    <tr style=\"text-align: right;\">\n",
       "      <th></th>\n",
       "      <th>count</th>\n",
       "      <th>mean</th>\n",
       "      <th>std</th>\n",
       "      <th>min</th>\n",
       "      <th>25%</th>\n",
       "      <th>50%</th>\n",
       "      <th>75%</th>\n",
       "      <th>max</th>\n",
       "    </tr>\n",
       "  </thead>\n",
       "  <tbody>\n",
       "    <tr>\n",
       "      <th>longitude</th>\n",
       "      <td>18565.0</td>\n",
       "      <td>-119.57</td>\n",
       "      <td>2.00</td>\n",
       "      <td>-124.35</td>\n",
       "      <td>-121.80</td>\n",
       "      <td>-118.50</td>\n",
       "      <td>-118.01</td>\n",
       "      <td>-114.31</td>\n",
       "    </tr>\n",
       "    <tr>\n",
       "      <th>latitude</th>\n",
       "      <td>18565.0</td>\n",
       "      <td>35.63</td>\n",
       "      <td>2.14</td>\n",
       "      <td>32.54</td>\n",
       "      <td>33.93</td>\n",
       "      <td>34.26</td>\n",
       "      <td>37.71</td>\n",
       "      <td>41.95</td>\n",
       "    </tr>\n",
       "    <tr>\n",
       "      <th>housing_median_age</th>\n",
       "      <td>18565.0</td>\n",
       "      <td>28.62</td>\n",
       "      <td>12.56</td>\n",
       "      <td>1.00</td>\n",
       "      <td>18.00</td>\n",
       "      <td>29.00</td>\n",
       "      <td>37.00</td>\n",
       "      <td>52.00</td>\n",
       "    </tr>\n",
       "    <tr>\n",
       "      <th>total_rooms</th>\n",
       "      <td>18565.0</td>\n",
       "      <td>2634.03</td>\n",
       "      <td>2195.92</td>\n",
       "      <td>2.00</td>\n",
       "      <td>1442.00</td>\n",
       "      <td>2123.00</td>\n",
       "      <td>3141.00</td>\n",
       "      <td>39320.00</td>\n",
       "    </tr>\n",
       "    <tr>\n",
       "      <th>total_bedrooms</th>\n",
       "      <td>18376.0</td>\n",
       "      <td>537.71</td>\n",
       "      <td>424.13</td>\n",
       "      <td>2.00</td>\n",
       "      <td>295.00</td>\n",
       "      <td>434.00</td>\n",
       "      <td>646.00</td>\n",
       "      <td>6445.00</td>\n",
       "    </tr>\n",
       "    <tr>\n",
       "      <th>population</th>\n",
       "      <td>18565.0</td>\n",
       "      <td>1426.22</td>\n",
       "      <td>1142.57</td>\n",
       "      <td>3.00</td>\n",
       "      <td>786.00</td>\n",
       "      <td>1166.00</td>\n",
       "      <td>1725.00</td>\n",
       "      <td>35682.00</td>\n",
       "    </tr>\n",
       "    <tr>\n",
       "      <th>households</th>\n",
       "      <td>18565.0</td>\n",
       "      <td>499.45</td>\n",
       "      <td>384.55</td>\n",
       "      <td>2.00</td>\n",
       "      <td>279.00</td>\n",
       "      <td>408.00</td>\n",
       "      <td>603.00</td>\n",
       "      <td>6082.00</td>\n",
       "    </tr>\n",
       "    <tr>\n",
       "      <th>median_income</th>\n",
       "      <td>18565.0</td>\n",
       "      <td>3.87</td>\n",
       "      <td>1.90</td>\n",
       "      <td>0.50</td>\n",
       "      <td>2.56</td>\n",
       "      <td>3.53</td>\n",
       "      <td>4.74</td>\n",
       "      <td>15.00</td>\n",
       "    </tr>\n",
       "    <tr>\n",
       "      <th>median_house_value</th>\n",
       "      <td>18565.0</td>\n",
       "      <td>206617.79</td>\n",
       "      <td>115447.10</td>\n",
       "      <td>14999.00</td>\n",
       "      <td>119300.00</td>\n",
       "      <td>179400.00</td>\n",
       "      <td>264400.00</td>\n",
       "      <td>500001.00</td>\n",
       "    </tr>\n",
       "  </tbody>\n",
       "</table>\n",
       "</div>"
      ],
      "text/plain": [
       "                      count       mean        std       min        25%  \\\n",
       "longitude           18565.0    -119.57       2.00   -124.35    -121.80   \n",
       "latitude            18565.0      35.63       2.14     32.54      33.93   \n",
       "housing_median_age  18565.0      28.62      12.56      1.00      18.00   \n",
       "total_rooms         18565.0    2634.03    2195.92      2.00    1442.00   \n",
       "total_bedrooms      18376.0     537.71     424.13      2.00     295.00   \n",
       "population          18565.0    1426.22    1142.57      3.00     786.00   \n",
       "households          18565.0     499.45     384.55      2.00     279.00   \n",
       "median_income       18565.0       3.87       1.90      0.50       2.56   \n",
       "median_house_value  18565.0  206617.79  115447.10  14999.00  119300.00   \n",
       "\n",
       "                          50%        75%        max  \n",
       "longitude             -118.50    -118.01    -114.31  \n",
       "latitude                34.26      37.71      41.95  \n",
       "housing_median_age      29.00      37.00      52.00  \n",
       "total_rooms           2123.00    3141.00   39320.00  \n",
       "total_bedrooms         434.00     646.00    6445.00  \n",
       "population            1166.00    1725.00   35682.00  \n",
       "households             408.00     603.00    6082.00  \n",
       "median_income            3.53       4.74      15.00  \n",
       "median_house_value  179400.00  264400.00  500001.00  "
      ]
     },
     "execution_count": 7,
     "metadata": {},
     "output_type": "execute_result"
    }
   ],
   "source": [
    "round(data_4.describe().transpose(),2)"
   ]
  },
  {
   "cell_type": "code",
   "execution_count": 8,
   "id": "0446050b",
   "metadata": {},
   "outputs": [
    {
     "name": "stdout",
     "output_type": "stream",
     "text": [
      "<class 'pandas.core.frame.DataFrame'>\n",
      "RangeIndex: 18565 entries, 0 to 18564\n",
      "Data columns (total 10 columns):\n",
      " #   Column              Non-Null Count  Dtype  \n",
      "---  ------              --------------  -----  \n",
      " 0   longitude           18565 non-null  float64\n",
      " 1   latitude            18565 non-null  float64\n",
      " 2   housing_median_age  18565 non-null  int64  \n",
      " 3   total_rooms         18565 non-null  int64  \n",
      " 4   total_bedrooms      18376 non-null  float64\n",
      " 5   population          18565 non-null  int64  \n",
      " 6   households          18565 non-null  int64  \n",
      " 7   median_income       18565 non-null  float64\n",
      " 8   median_house_value  18565 non-null  int64  \n",
      " 9   ocean_proximity     18565 non-null  object \n",
      "dtypes: float64(4), int64(5), object(1)\n",
      "memory usage: 1.4+ MB\n"
     ]
    }
   ],
   "source": [
    "data_4.info()"
   ]
  },
  {
   "cell_type": "code",
   "execution_count": 9,
   "id": "78837d25",
   "metadata": {},
   "outputs": [],
   "source": [
    "data_4_dummies = pd.get_dummies(data_4,\n",
    "                               columns = data_4.select_dtypes('object').columns,drop_first = True)"
   ]
  },
  {
   "cell_type": "code",
   "execution_count": 10,
   "id": "cc268a1c",
   "metadata": {},
   "outputs": [
    {
     "data": {
      "text/plain": [
       "Index(['ocean_proximity'], dtype='object')"
      ]
     },
     "execution_count": 10,
     "metadata": {},
     "output_type": "execute_result"
    }
   ],
   "source": [
    "data_4.select_dtypes('object').columns"
   ]
  },
  {
   "cell_type": "code",
   "execution_count": 11,
   "id": "4405e0de",
   "metadata": {},
   "outputs": [
    {
     "name": "stdout",
     "output_type": "stream",
     "text": [
      "<class 'pandas.core.frame.DataFrame'>\n",
      "RangeIndex: 18565 entries, 0 to 18564\n",
      "Data columns (total 13 columns):\n",
      " #   Column                      Non-Null Count  Dtype  \n",
      "---  ------                      --------------  -----  \n",
      " 0   longitude                   18565 non-null  float64\n",
      " 1   latitude                    18565 non-null  float64\n",
      " 2   housing_median_age          18565 non-null  int64  \n",
      " 3   total_rooms                 18565 non-null  int64  \n",
      " 4   total_bedrooms              18376 non-null  float64\n",
      " 5   population                  18565 non-null  int64  \n",
      " 6   households                  18565 non-null  int64  \n",
      " 7   median_income               18565 non-null  float64\n",
      " 8   median_house_value          18565 non-null  int64  \n",
      " 9   ocean_proximity_INLAND      18565 non-null  uint8  \n",
      " 10  ocean_proximity_ISLAND      18565 non-null  uint8  \n",
      " 11  ocean_proximity_NEAR BAY    18565 non-null  uint8  \n",
      " 12  ocean_proximity_NEAR OCEAN  18565 non-null  uint8  \n",
      "dtypes: float64(4), int64(5), uint8(4)\n",
      "memory usage: 1.3 MB\n"
     ]
    }
   ],
   "source": [
    "data_4_dummies.info()"
   ]
  },
  {
   "cell_type": "code",
   "execution_count": 12,
   "id": "ddd3452e",
   "metadata": {},
   "outputs": [
    {
     "data": {
      "text/plain": [
       "count    18376.000000\n",
       "mean       537.711199\n",
       "std        424.125849\n",
       "min          2.000000\n",
       "25%        295.000000\n",
       "50%        434.000000\n",
       "75%        646.000000\n",
       "max       6445.000000\n",
       "Name: total_bedrooms, dtype: float64"
      ]
     },
     "execution_count": 12,
     "metadata": {},
     "output_type": "execute_result"
    }
   ],
   "source": [
    "data_4.total_bedrooms.describe()"
   ]
  },
  {
   "cell_type": "code",
   "execution_count": 13,
   "id": "50008ef6",
   "metadata": {},
   "outputs": [
    {
     "data": {
      "text/html": [
       "<div>\n",
       "<style scoped>\n",
       "    .dataframe tbody tr th:only-of-type {\n",
       "        vertical-align: middle;\n",
       "    }\n",
       "\n",
       "    .dataframe tbody tr th {\n",
       "        vertical-align: top;\n",
       "    }\n",
       "\n",
       "    .dataframe thead th {\n",
       "        text-align: right;\n",
       "    }\n",
       "</style>\n",
       "<table border=\"1\" class=\"dataframe\">\n",
       "  <thead>\n",
       "    <tr style=\"text-align: right;\">\n",
       "      <th></th>\n",
       "      <th>longitude</th>\n",
       "      <th>latitude</th>\n",
       "      <th>housing_median_age</th>\n",
       "      <th>total_rooms</th>\n",
       "      <th>total_bedrooms</th>\n",
       "      <th>population</th>\n",
       "      <th>households</th>\n",
       "      <th>median_income</th>\n",
       "      <th>median_house_value</th>\n",
       "      <th>ocean_proximity</th>\n",
       "    </tr>\n",
       "  </thead>\n",
       "  <tbody>\n",
       "    <tr>\n",
       "      <th>264</th>\n",
       "      <td>-122.16</td>\n",
       "      <td>37.77</td>\n",
       "      <td>47</td>\n",
       "      <td>1256</td>\n",
       "      <td>NaN</td>\n",
       "      <td>570</td>\n",
       "      <td>218</td>\n",
       "      <td>4.3750</td>\n",
       "      <td>161900</td>\n",
       "      <td>NEAR BAY</td>\n",
       "    </tr>\n",
       "    <tr>\n",
       "      <th>310</th>\n",
       "      <td>-122.17</td>\n",
       "      <td>37.75</td>\n",
       "      <td>38</td>\n",
       "      <td>992</td>\n",
       "      <td>NaN</td>\n",
       "      <td>732</td>\n",
       "      <td>259</td>\n",
       "      <td>1.6196</td>\n",
       "      <td>85100</td>\n",
       "      <td>NEAR BAY</td>\n",
       "    </tr>\n",
       "    <tr>\n",
       "      <th>489</th>\n",
       "      <td>-122.28</td>\n",
       "      <td>37.78</td>\n",
       "      <td>29</td>\n",
       "      <td>5154</td>\n",
       "      <td>NaN</td>\n",
       "      <td>3741</td>\n",
       "      <td>1273</td>\n",
       "      <td>2.5762</td>\n",
       "      <td>173400</td>\n",
       "      <td>NEAR BAY</td>\n",
       "    </tr>\n",
       "    <tr>\n",
       "      <th>512</th>\n",
       "      <td>-122.24</td>\n",
       "      <td>37.75</td>\n",
       "      <td>45</td>\n",
       "      <td>891</td>\n",
       "      <td>NaN</td>\n",
       "      <td>384</td>\n",
       "      <td>146</td>\n",
       "      <td>4.9489</td>\n",
       "      <td>247100</td>\n",
       "      <td>NEAR BAY</td>\n",
       "    </tr>\n",
       "    <tr>\n",
       "      <th>626</th>\n",
       "      <td>-122.10</td>\n",
       "      <td>37.69</td>\n",
       "      <td>41</td>\n",
       "      <td>746</td>\n",
       "      <td>NaN</td>\n",
       "      <td>387</td>\n",
       "      <td>161</td>\n",
       "      <td>3.9063</td>\n",
       "      <td>178400</td>\n",
       "      <td>NEAR BAY</td>\n",
       "    </tr>\n",
       "    <tr>\n",
       "      <th>...</th>\n",
       "      <td>...</td>\n",
       "      <td>...</td>\n",
       "      <td>...</td>\n",
       "      <td>...</td>\n",
       "      <td>...</td>\n",
       "      <td>...</td>\n",
       "      <td>...</td>\n",
       "      <td>...</td>\n",
       "      <td>...</td>\n",
       "      <td>...</td>\n",
       "    </tr>\n",
       "    <tr>\n",
       "      <th>18098</th>\n",
       "      <td>-118.80</td>\n",
       "      <td>34.41</td>\n",
       "      <td>45</td>\n",
       "      <td>1610</td>\n",
       "      <td>NaN</td>\n",
       "      <td>1148</td>\n",
       "      <td>347</td>\n",
       "      <td>2.7000</td>\n",
       "      <td>120400</td>\n",
       "      <td>&lt;1H OCEAN</td>\n",
       "    </tr>\n",
       "    <tr>\n",
       "      <th>18229</th>\n",
       "      <td>-119.19</td>\n",
       "      <td>34.20</td>\n",
       "      <td>18</td>\n",
       "      <td>3620</td>\n",
       "      <td>NaN</td>\n",
       "      <td>3171</td>\n",
       "      <td>779</td>\n",
       "      <td>3.3409</td>\n",
       "      <td>220500</td>\n",
       "      <td>NEAR OCEAN</td>\n",
       "    </tr>\n",
       "    <tr>\n",
       "      <th>18320</th>\n",
       "      <td>-118.88</td>\n",
       "      <td>34.17</td>\n",
       "      <td>15</td>\n",
       "      <td>4260</td>\n",
       "      <td>NaN</td>\n",
       "      <td>1701</td>\n",
       "      <td>669</td>\n",
       "      <td>5.1033</td>\n",
       "      <td>410700</td>\n",
       "      <td>&lt;1H OCEAN</td>\n",
       "    </tr>\n",
       "    <tr>\n",
       "      <th>18402</th>\n",
       "      <td>-118.75</td>\n",
       "      <td>34.29</td>\n",
       "      <td>17</td>\n",
       "      <td>5512</td>\n",
       "      <td>NaN</td>\n",
       "      <td>2734</td>\n",
       "      <td>814</td>\n",
       "      <td>6.6073</td>\n",
       "      <td>258100</td>\n",
       "      <td>&lt;1H OCEAN</td>\n",
       "    </tr>\n",
       "    <tr>\n",
       "      <th>18425</th>\n",
       "      <td>-118.72</td>\n",
       "      <td>34.28</td>\n",
       "      <td>17</td>\n",
       "      <td>3051</td>\n",
       "      <td>NaN</td>\n",
       "      <td>1705</td>\n",
       "      <td>495</td>\n",
       "      <td>5.7376</td>\n",
       "      <td>218600</td>\n",
       "      <td>&lt;1H OCEAN</td>\n",
       "    </tr>\n",
       "  </tbody>\n",
       "</table>\n",
       "<p>189 rows × 10 columns</p>\n",
       "</div>"
      ],
      "text/plain": [
       "       longitude  latitude  housing_median_age  total_rooms  total_bedrooms  \\\n",
       "264      -122.16     37.77                  47         1256             NaN   \n",
       "310      -122.17     37.75                  38          992             NaN   \n",
       "489      -122.28     37.78                  29         5154             NaN   \n",
       "512      -122.24     37.75                  45          891             NaN   \n",
       "626      -122.10     37.69                  41          746             NaN   \n",
       "...          ...       ...                 ...          ...             ...   \n",
       "18098    -118.80     34.41                  45         1610             NaN   \n",
       "18229    -119.19     34.20                  18         3620             NaN   \n",
       "18320    -118.88     34.17                  15         4260             NaN   \n",
       "18402    -118.75     34.29                  17         5512             NaN   \n",
       "18425    -118.72     34.28                  17         3051             NaN   \n",
       "\n",
       "       population  households  median_income  median_house_value  \\\n",
       "264           570         218         4.3750              161900   \n",
       "310           732         259         1.6196               85100   \n",
       "489          3741        1273         2.5762              173400   \n",
       "512           384         146         4.9489              247100   \n",
       "626           387         161         3.9063              178400   \n",
       "...           ...         ...            ...                 ...   \n",
       "18098        1148         347         2.7000              120400   \n",
       "18229        3171         779         3.3409              220500   \n",
       "18320        1701         669         5.1033              410700   \n",
       "18402        2734         814         6.6073              258100   \n",
       "18425        1705         495         5.7376              218600   \n",
       "\n",
       "      ocean_proximity  \n",
       "264          NEAR BAY  \n",
       "310          NEAR BAY  \n",
       "489          NEAR BAY  \n",
       "512          NEAR BAY  \n",
       "626          NEAR BAY  \n",
       "...               ...  \n",
       "18098       <1H OCEAN  \n",
       "18229      NEAR OCEAN  \n",
       "18320       <1H OCEAN  \n",
       "18402       <1H OCEAN  \n",
       "18425       <1H OCEAN  \n",
       "\n",
       "[189 rows x 10 columns]"
      ]
     },
     "execution_count": 13,
     "metadata": {},
     "output_type": "execute_result"
    }
   ],
   "source": [
    "data_4.loc[data_4.total_bedrooms.isnull(),]"
   ]
  },
  {
   "cell_type": "code",
   "execution_count": 14,
   "id": "81e5053b",
   "metadata": {},
   "outputs": [
    {
     "data": {
      "text/html": [
       "<div>\n",
       "<style scoped>\n",
       "    .dataframe tbody tr th:only-of-type {\n",
       "        vertical-align: middle;\n",
       "    }\n",
       "\n",
       "    .dataframe tbody tr th {\n",
       "        vertical-align: top;\n",
       "    }\n",
       "\n",
       "    .dataframe thead th {\n",
       "        text-align: right;\n",
       "    }\n",
       "</style>\n",
       "<table border=\"1\" class=\"dataframe\">\n",
       "  <thead>\n",
       "    <tr style=\"text-align: right;\">\n",
       "      <th></th>\n",
       "      <th>longitude</th>\n",
       "      <th>latitude</th>\n",
       "      <th>housing_median_age</th>\n",
       "      <th>total_rooms</th>\n",
       "      <th>total_bedrooms</th>\n",
       "      <th>population</th>\n",
       "      <th>households</th>\n",
       "      <th>median_income</th>\n",
       "      <th>median_house_value</th>\n",
       "      <th>ocean_proximity</th>\n",
       "    </tr>\n",
       "  </thead>\n",
       "  <tbody>\n",
       "    <tr>\n",
       "      <th>0</th>\n",
       "      <td>-122.23</td>\n",
       "      <td>37.88</td>\n",
       "      <td>41</td>\n",
       "      <td>880</td>\n",
       "      <td>129.0</td>\n",
       "      <td>322</td>\n",
       "      <td>126</td>\n",
       "      <td>8.3252</td>\n",
       "      <td>452600</td>\n",
       "      <td>NEAR BAY</td>\n",
       "    </tr>\n",
       "    <tr>\n",
       "      <th>1</th>\n",
       "      <td>-122.22</td>\n",
       "      <td>37.86</td>\n",
       "      <td>21</td>\n",
       "      <td>7099</td>\n",
       "      <td>1106.0</td>\n",
       "      <td>2401</td>\n",
       "      <td>1138</td>\n",
       "      <td>8.3014</td>\n",
       "      <td>358500</td>\n",
       "      <td>NEAR BAY</td>\n",
       "    </tr>\n",
       "    <tr>\n",
       "      <th>2</th>\n",
       "      <td>-122.25</td>\n",
       "      <td>37.85</td>\n",
       "      <td>52</td>\n",
       "      <td>1627</td>\n",
       "      <td>280.0</td>\n",
       "      <td>565</td>\n",
       "      <td>259</td>\n",
       "      <td>3.8462</td>\n",
       "      <td>342200</td>\n",
       "      <td>NEAR BAY</td>\n",
       "    </tr>\n",
       "    <tr>\n",
       "      <th>3</th>\n",
       "      <td>-122.25</td>\n",
       "      <td>37.85</td>\n",
       "      <td>52</td>\n",
       "      <td>919</td>\n",
       "      <td>213.0</td>\n",
       "      <td>413</td>\n",
       "      <td>193</td>\n",
       "      <td>4.0368</td>\n",
       "      <td>269700</td>\n",
       "      <td>NEAR BAY</td>\n",
       "    </tr>\n",
       "    <tr>\n",
       "      <th>4</th>\n",
       "      <td>-122.25</td>\n",
       "      <td>37.84</td>\n",
       "      <td>52</td>\n",
       "      <td>2535</td>\n",
       "      <td>489.0</td>\n",
       "      <td>1094</td>\n",
       "      <td>514</td>\n",
       "      <td>3.6591</td>\n",
       "      <td>299200</td>\n",
       "      <td>NEAR BAY</td>\n",
       "    </tr>\n",
       "    <tr>\n",
       "      <th>...</th>\n",
       "      <td>...</td>\n",
       "      <td>...</td>\n",
       "      <td>...</td>\n",
       "      <td>...</td>\n",
       "      <td>...</td>\n",
       "      <td>...</td>\n",
       "      <td>...</td>\n",
       "      <td>...</td>\n",
       "      <td>...</td>\n",
       "      <td>...</td>\n",
       "    </tr>\n",
       "    <tr>\n",
       "      <th>18560</th>\n",
       "      <td>-121.09</td>\n",
       "      <td>39.48</td>\n",
       "      <td>25</td>\n",
       "      <td>1665</td>\n",
       "      <td>374.0</td>\n",
       "      <td>845</td>\n",
       "      <td>330</td>\n",
       "      <td>1.5603</td>\n",
       "      <td>78100</td>\n",
       "      <td>INLAND</td>\n",
       "    </tr>\n",
       "    <tr>\n",
       "      <th>18561</th>\n",
       "      <td>-121.21</td>\n",
       "      <td>39.49</td>\n",
       "      <td>18</td>\n",
       "      <td>697</td>\n",
       "      <td>150.0</td>\n",
       "      <td>356</td>\n",
       "      <td>114</td>\n",
       "      <td>2.5568</td>\n",
       "      <td>77100</td>\n",
       "      <td>INLAND</td>\n",
       "    </tr>\n",
       "    <tr>\n",
       "      <th>18562</th>\n",
       "      <td>-121.22</td>\n",
       "      <td>39.43</td>\n",
       "      <td>17</td>\n",
       "      <td>2254</td>\n",
       "      <td>485.0</td>\n",
       "      <td>1007</td>\n",
       "      <td>433</td>\n",
       "      <td>1.7000</td>\n",
       "      <td>92300</td>\n",
       "      <td>INLAND</td>\n",
       "    </tr>\n",
       "    <tr>\n",
       "      <th>18563</th>\n",
       "      <td>-121.32</td>\n",
       "      <td>39.43</td>\n",
       "      <td>18</td>\n",
       "      <td>1860</td>\n",
       "      <td>409.0</td>\n",
       "      <td>741</td>\n",
       "      <td>349</td>\n",
       "      <td>1.8672</td>\n",
       "      <td>84700</td>\n",
       "      <td>INLAND</td>\n",
       "    </tr>\n",
       "    <tr>\n",
       "      <th>18564</th>\n",
       "      <td>-121.24</td>\n",
       "      <td>39.37</td>\n",
       "      <td>16</td>\n",
       "      <td>2785</td>\n",
       "      <td>616.0</td>\n",
       "      <td>1387</td>\n",
       "      <td>530</td>\n",
       "      <td>2.3886</td>\n",
       "      <td>89400</td>\n",
       "      <td>INLAND</td>\n",
       "    </tr>\n",
       "  </tbody>\n",
       "</table>\n",
       "<p>18376 rows × 10 columns</p>\n",
       "</div>"
      ],
      "text/plain": [
       "       longitude  latitude  housing_median_age  total_rooms  total_bedrooms  \\\n",
       "0        -122.23     37.88                  41          880           129.0   \n",
       "1        -122.22     37.86                  21         7099          1106.0   \n",
       "2        -122.25     37.85                  52         1627           280.0   \n",
       "3        -122.25     37.85                  52          919           213.0   \n",
       "4        -122.25     37.84                  52         2535           489.0   \n",
       "...          ...       ...                 ...          ...             ...   \n",
       "18560    -121.09     39.48                  25         1665           374.0   \n",
       "18561    -121.21     39.49                  18          697           150.0   \n",
       "18562    -121.22     39.43                  17         2254           485.0   \n",
       "18563    -121.32     39.43                  18         1860           409.0   \n",
       "18564    -121.24     39.37                  16         2785           616.0   \n",
       "\n",
       "       population  households  median_income  median_house_value  \\\n",
       "0             322         126         8.3252              452600   \n",
       "1            2401        1138         8.3014              358500   \n",
       "2             565         259         3.8462              342200   \n",
       "3             413         193         4.0368              269700   \n",
       "4            1094         514         3.6591              299200   \n",
       "...           ...         ...            ...                 ...   \n",
       "18560         845         330         1.5603               78100   \n",
       "18561         356         114         2.5568               77100   \n",
       "18562        1007         433         1.7000               92300   \n",
       "18563         741         349         1.8672               84700   \n",
       "18564        1387         530         2.3886               89400   \n",
       "\n",
       "      ocean_proximity  \n",
       "0            NEAR BAY  \n",
       "1            NEAR BAY  \n",
       "2            NEAR BAY  \n",
       "3            NEAR BAY  \n",
       "4            NEAR BAY  \n",
       "...               ...  \n",
       "18560          INLAND  \n",
       "18561          INLAND  \n",
       "18562          INLAND  \n",
       "18563          INLAND  \n",
       "18564          INLAND  \n",
       "\n",
       "[18376 rows x 10 columns]"
      ]
     },
     "execution_count": 14,
     "metadata": {},
     "output_type": "execute_result"
    }
   ],
   "source": [
    "data_4.loc[data_4.total_bedrooms.isnull()==False,]"
   ]
  },
  {
   "cell_type": "code",
   "execution_count": 15,
   "id": "557e49d0",
   "metadata": {},
   "outputs": [
    {
     "data": {
      "text/plain": [
       "4.898603246649218"
      ]
     },
     "execution_count": 15,
     "metadata": {},
     "output_type": "execute_result"
    }
   ],
   "source": [
    "data_4.total_rooms.mean()/data_4.total_bedrooms.mean()"
   ]
  },
  {
   "cell_type": "code",
   "execution_count": 16,
   "id": "bd3a4ccf",
   "metadata": {},
   "outputs": [],
   "source": [
    "data_4.loc[data_4.total_bedrooms.isnull(),'total_bedrooms'] = data_4.loc[data_4.total_bedrooms.isnull(),'total_rooms']*4"
   ]
  },
  {
   "cell_type": "code",
   "execution_count": 17,
   "id": "0cb31016",
   "metadata": {},
   "outputs": [
    {
     "data": {
      "text/plain": [
       "longitude             0\n",
       "latitude              0\n",
       "housing_median_age    0\n",
       "total_rooms           0\n",
       "total_bedrooms        0\n",
       "population            0\n",
       "households            0\n",
       "median_income         0\n",
       "median_house_value    0\n",
       "ocean_proximity       0\n",
       "dtype: int64"
      ]
     },
     "execution_count": 17,
     "metadata": {},
     "output_type": "execute_result"
    }
   ],
   "source": [
    "data_4.isnull().sum()"
   ]
  },
  {
   "cell_type": "code",
   "execution_count": 18,
   "id": "ef8dc4f6",
   "metadata": {},
   "outputs": [],
   "source": [
    "data_4_dummies = pd.get_dummies(data_4,\n",
    "                               columns = data_4.select_dtypes('object').columns,drop_first = True)"
   ]
  },
  {
   "cell_type": "code",
   "execution_count": 19,
   "id": "b1310faf",
   "metadata": {},
   "outputs": [],
   "source": [
    "X_variables = data_4_dummies.loc[:,data_4_dummies.columns != 'median_house_value']"
   ]
  },
  {
   "cell_type": "code",
   "execution_count": 20,
   "id": "42a3c992",
   "metadata": {},
   "outputs": [],
   "source": [
    "Y_variable = data_4_dummies['median_house_value']"
   ]
  },
  {
   "cell_type": "code",
   "execution_count": 21,
   "id": "875f41f2",
   "metadata": {},
   "outputs": [
    {
     "data": {
      "text/plain": [
       "(18565, 12)"
      ]
     },
     "execution_count": 21,
     "metadata": {},
     "output_type": "execute_result"
    }
   ],
   "source": [
    "X_variables.shape"
   ]
  },
  {
   "cell_type": "code",
   "execution_count": 22,
   "id": "5bef2f19",
   "metadata": {},
   "outputs": [
    {
     "data": {
      "text/plain": [
       "(18565,)"
      ]
     },
     "execution_count": 22,
     "metadata": {},
     "output_type": "execute_result"
    }
   ],
   "source": [
    "Y_variable.shape"
   ]
  },
  {
   "cell_type": "code",
   "execution_count": 23,
   "id": "5644c714",
   "metadata": {},
   "outputs": [],
   "source": [
    "from sklearn.model_selection import train_test_split"
   ]
  },
  {
   "cell_type": "code",
   "execution_count": 24,
   "id": "c2ed8a3e",
   "metadata": {},
   "outputs": [],
   "source": [
    "X_train, X_test, y_train, y_test = train_test_split(X_variables, Y_variable, test_size = 0.20, random_state = 42)"
   ]
  },
  {
   "cell_type": "code",
   "execution_count": 25,
   "id": "7eb190e0",
   "metadata": {},
   "outputs": [],
   "source": [
    "from sklearn.preprocessing import StandardScaler"
   ]
  },
  {
   "cell_type": "code",
   "execution_count": 26,
   "id": "19ed1e15",
   "metadata": {},
   "outputs": [],
   "source": [
    "X_scaler = StandardScaler()\n",
    "X_train_scaled = X_scaler.fit_transform(X_train)\n",
    "X_test_scaled = X_scaler.fit_transform(X_test)"
   ]
  },
  {
   "cell_type": "code",
   "execution_count": 27,
   "id": "3110f9ef",
   "metadata": {},
   "outputs": [],
   "source": [
    "Y_scaler = StandardScaler()\n",
    "y_train_scaled = (y_train - y_train.mean())/y_train.std()\n",
    "y_test_scaled = (y_test-y_test.mean())/y_test.std()"
   ]
  },
  {
   "cell_type": "code",
   "execution_count": 28,
   "id": "8937b5de",
   "metadata": {},
   "outputs": [],
   "source": [
    "from sklearn.linear_model import LinearRegression"
   ]
  },
  {
   "cell_type": "code",
   "execution_count": 29,
   "id": "1ec6c3b3",
   "metadata": {},
   "outputs": [],
   "source": [
    "model_1 = LinearRegression()"
   ]
  },
  {
   "cell_type": "code",
   "execution_count": 30,
   "id": "bc64655c",
   "metadata": {},
   "outputs": [
    {
     "name": "stdout",
     "output_type": "stream",
     "text": [
      "<class 'pandas.core.frame.DataFrame'>\n",
      "Int64Index: 14852 entries, 15637 to 15795\n",
      "Data columns (total 12 columns):\n",
      " #   Column                      Non-Null Count  Dtype  \n",
      "---  ------                      --------------  -----  \n",
      " 0   longitude                   14852 non-null  float64\n",
      " 1   latitude                    14852 non-null  float64\n",
      " 2   housing_median_age          14852 non-null  int64  \n",
      " 3   total_rooms                 14852 non-null  int64  \n",
      " 4   total_bedrooms              14852 non-null  float64\n",
      " 5   population                  14852 non-null  int64  \n",
      " 6   households                  14852 non-null  int64  \n",
      " 7   median_income               14852 non-null  float64\n",
      " 8   ocean_proximity_INLAND      14852 non-null  uint8  \n",
      " 9   ocean_proximity_ISLAND      14852 non-null  uint8  \n",
      " 10  ocean_proximity_NEAR BAY    14852 non-null  uint8  \n",
      " 11  ocean_proximity_NEAR OCEAN  14852 non-null  uint8  \n",
      "dtypes: float64(4), int64(4), uint8(4)\n",
      "memory usage: 1.1 MB\n"
     ]
    }
   ],
   "source": [
    "X_train.info()"
   ]
  },
  {
   "cell_type": "code",
   "execution_count": 31,
   "id": "c73a8e8f",
   "metadata": {},
   "outputs": [
    {
     "data": {
      "text/plain": [
       "(14852, 12)"
      ]
     },
     "execution_count": 31,
     "metadata": {},
     "output_type": "execute_result"
    }
   ],
   "source": [
    "X_train_scaled.shape"
   ]
  },
  {
   "cell_type": "code",
   "execution_count": 32,
   "id": "6eb30bb5",
   "metadata": {},
   "outputs": [
    {
     "data": {
      "text/plain": [
       "(14852,)"
      ]
     },
     "execution_count": 32,
     "metadata": {},
     "output_type": "execute_result"
    }
   ],
   "source": [
    "y_train_scaled.shape"
   ]
  },
  {
   "cell_type": "code",
   "execution_count": 33,
   "id": "13a43f19",
   "metadata": {},
   "outputs": [
    {
     "data": {
      "text/html": [
       "<style>#sk-container-id-1 {color: black;background-color: white;}#sk-container-id-1 pre{padding: 0;}#sk-container-id-1 div.sk-toggleable {background-color: white;}#sk-container-id-1 label.sk-toggleable__label {cursor: pointer;display: block;width: 100%;margin-bottom: 0;padding: 0.3em;box-sizing: border-box;text-align: center;}#sk-container-id-1 label.sk-toggleable__label-arrow:before {content: \"▸\";float: left;margin-right: 0.25em;color: #696969;}#sk-container-id-1 label.sk-toggleable__label-arrow:hover:before {color: black;}#sk-container-id-1 div.sk-estimator:hover label.sk-toggleable__label-arrow:before {color: black;}#sk-container-id-1 div.sk-toggleable__content {max-height: 0;max-width: 0;overflow: hidden;text-align: left;background-color: #f0f8ff;}#sk-container-id-1 div.sk-toggleable__content pre {margin: 0.2em;color: black;border-radius: 0.25em;background-color: #f0f8ff;}#sk-container-id-1 input.sk-toggleable__control:checked~div.sk-toggleable__content {max-height: 200px;max-width: 100%;overflow: auto;}#sk-container-id-1 input.sk-toggleable__control:checked~label.sk-toggleable__label-arrow:before {content: \"▾\";}#sk-container-id-1 div.sk-estimator input.sk-toggleable__control:checked~label.sk-toggleable__label {background-color: #d4ebff;}#sk-container-id-1 div.sk-label input.sk-toggleable__control:checked~label.sk-toggleable__label {background-color: #d4ebff;}#sk-container-id-1 input.sk-hidden--visually {border: 0;clip: rect(1px 1px 1px 1px);clip: rect(1px, 1px, 1px, 1px);height: 1px;margin: -1px;overflow: hidden;padding: 0;position: absolute;width: 1px;}#sk-container-id-1 div.sk-estimator {font-family: monospace;background-color: #f0f8ff;border: 1px dotted black;border-radius: 0.25em;box-sizing: border-box;margin-bottom: 0.5em;}#sk-container-id-1 div.sk-estimator:hover {background-color: #d4ebff;}#sk-container-id-1 div.sk-parallel-item::after {content: \"\";width: 100%;border-bottom: 1px solid gray;flex-grow: 1;}#sk-container-id-1 div.sk-label:hover label.sk-toggleable__label {background-color: #d4ebff;}#sk-container-id-1 div.sk-serial::before {content: \"\";position: absolute;border-left: 1px solid gray;box-sizing: border-box;top: 0;bottom: 0;left: 50%;z-index: 0;}#sk-container-id-1 div.sk-serial {display: flex;flex-direction: column;align-items: center;background-color: white;padding-right: 0.2em;padding-left: 0.2em;position: relative;}#sk-container-id-1 div.sk-item {position: relative;z-index: 1;}#sk-container-id-1 div.sk-parallel {display: flex;align-items: stretch;justify-content: center;background-color: white;position: relative;}#sk-container-id-1 div.sk-item::before, #sk-container-id-1 div.sk-parallel-item::before {content: \"\";position: absolute;border-left: 1px solid gray;box-sizing: border-box;top: 0;bottom: 0;left: 50%;z-index: -1;}#sk-container-id-1 div.sk-parallel-item {display: flex;flex-direction: column;z-index: 1;position: relative;background-color: white;}#sk-container-id-1 div.sk-parallel-item:first-child::after {align-self: flex-end;width: 50%;}#sk-container-id-1 div.sk-parallel-item:last-child::after {align-self: flex-start;width: 50%;}#sk-container-id-1 div.sk-parallel-item:only-child::after {width: 0;}#sk-container-id-1 div.sk-dashed-wrapped {border: 1px dashed gray;margin: 0 0.4em 0.5em 0.4em;box-sizing: border-box;padding-bottom: 0.4em;background-color: white;}#sk-container-id-1 div.sk-label label {font-family: monospace;font-weight: bold;display: inline-block;line-height: 1.2em;}#sk-container-id-1 div.sk-label-container {text-align: center;}#sk-container-id-1 div.sk-container {/* jupyter's `normalize.less` sets `[hidden] { display: none; }` but bootstrap.min.css set `[hidden] { display: none !important; }` so we also need the `!important` here to be able to override the default hidden behavior on the sphinx rendered scikit-learn.org. See: https://github.com/scikit-learn/scikit-learn/issues/21755 */display: inline-block !important;position: relative;}#sk-container-id-1 div.sk-text-repr-fallback {display: none;}</style><div id=\"sk-container-id-1\" class=\"sk-top-container\"><div class=\"sk-text-repr-fallback\"><pre>LinearRegression()</pre><b>In a Jupyter environment, please rerun this cell to show the HTML representation or trust the notebook. <br />On GitHub, the HTML representation is unable to render, please try loading this page with nbviewer.org.</b></div><div class=\"sk-container\" hidden><div class=\"sk-item\"><div class=\"sk-estimator sk-toggleable\"><input class=\"sk-toggleable__control sk-hidden--visually\" id=\"sk-estimator-id-1\" type=\"checkbox\" checked><label for=\"sk-estimator-id-1\" class=\"sk-toggleable__label sk-toggleable__label-arrow\">LinearRegression</label><div class=\"sk-toggleable__content\"><pre>LinearRegression()</pre></div></div></div></div></div>"
      ],
      "text/plain": [
       "LinearRegression()"
      ]
     },
     "execution_count": 33,
     "metadata": {},
     "output_type": "execute_result"
    }
   ],
   "source": [
    "model_1.fit(X_train_scaled, y_train_scaled)"
   ]
  },
  {
   "cell_type": "code",
   "execution_count": 34,
   "id": "43203ba8",
   "metadata": {},
   "outputs": [
    {
     "name": "stdout",
     "output_type": "stream",
     "text": [
      "0.599\n"
     ]
    }
   ],
   "source": [
    "from sklearn import metrics\n",
    "import numpy as np\n",
    "y_train.pred = model_1.predict(X_train_scaled)\n",
    "rmse_train = round(np.sqrt(metrics.mean_squared_error(y_train_scaled, y_train.pred)),3)\n",
    "print(rmse_train)"
   ]
  },
  {
   "cell_type": "code",
   "execution_count": null,
   "id": "f8d3132a",
   "metadata": {},
   "outputs": [],
   "source": []
  }
 ],
 "metadata": {
  "kernelspec": {
   "display_name": "Python 3 (ipykernel)",
   "language": "python",
   "name": "python3"
  },
  "language_info": {
   "codemirror_mode": {
    "name": "ipython",
    "version": 3
   },
   "file_extension": ".py",
   "mimetype": "text/x-python",
   "name": "python",
   "nbconvert_exporter": "python",
   "pygments_lexer": "ipython3",
   "version": "3.9.13"
  }
 },
 "nbformat": 4,
 "nbformat_minor": 5
}
