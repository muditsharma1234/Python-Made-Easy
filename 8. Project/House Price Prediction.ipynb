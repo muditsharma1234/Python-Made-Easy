{
 "cells": [
  {
   "cell_type": "code",
   "execution_count": 1,
   "id": "92c61e1a",
   "metadata": {},
   "outputs": [],
   "source": [
    "import pandas as pd\n",
    "import numpy as np\n",
    "import matplotlib.pyplot as plt"
   ]
  },
  {
   "cell_type": "code",
   "execution_count": 2,
   "id": "760acff5",
   "metadata": {},
   "outputs": [],
   "source": [
    "data_4 = pd.read_excel(\"Data Sets/Data Set 4.xlsx\")\n",
    "data_4.head()"
   ]
  },
  {
   "cell_type": "code",
   "execution_count": 3,
   "id": "b30b6b76",
   "metadata": {},
   "outputs": [
    {
     "data": {
      "text/plain": [
       "(18565, 10)"
      ]
     },
     "execution_count": 3,
     "metadata": {},
     "output_type": "execute_result"
    }
   ],
   "source": [
    "data_4.shape"
   ]
  },
  {
   "cell_type": "code",
   "execution_count": 5,
   "id": "c5fadcce",
   "metadata": {},
   "outputs": [
    {
     "data": {
      "text/html": [
       "<div>\n",
       "<style scoped>\n",
       "    .dataframe tbody tr th:only-of-type {\n",
       "        vertical-align: middle;\n",
       "    }\n",
       "\n",
       "    .dataframe tbody tr th {\n",
       "        vertical-align: top;\n",
       "    }\n",
       "\n",
       "    .dataframe thead th {\n",
       "        text-align: right;\n",
       "    }\n",
       "</style>\n",
       "<table border=\"1\" class=\"dataframe\">\n",
       "  <thead>\n",
       "    <tr style=\"text-align: right;\">\n",
       "      <th></th>\n",
       "      <th>count</th>\n",
       "      <th>mean</th>\n",
       "      <th>std</th>\n",
       "      <th>min</th>\n",
       "      <th>25%</th>\n",
       "      <th>50%</th>\n",
       "      <th>75%</th>\n",
       "      <th>max</th>\n",
       "    </tr>\n",
       "  </thead>\n",
       "  <tbody>\n",
       "    <tr>\n",
       "      <th>longitude</th>\n",
       "      <td>18565.0</td>\n",
       "      <td>-119.57</td>\n",
       "      <td>2.00</td>\n",
       "      <td>-124.35</td>\n",
       "      <td>-121.80</td>\n",
       "      <td>-118.50</td>\n",
       "      <td>-118.01</td>\n",
       "      <td>-114.31</td>\n",
       "    </tr>\n",
       "    <tr>\n",
       "      <th>latitude</th>\n",
       "      <td>18565.0</td>\n",
       "      <td>35.63</td>\n",
       "      <td>2.14</td>\n",
       "      <td>32.54</td>\n",
       "      <td>33.93</td>\n",
       "      <td>34.26</td>\n",
       "      <td>37.71</td>\n",
       "      <td>41.95</td>\n",
       "    </tr>\n",
       "    <tr>\n",
       "      <th>housing_median_age</th>\n",
       "      <td>18565.0</td>\n",
       "      <td>28.62</td>\n",
       "      <td>12.56</td>\n",
       "      <td>1.00</td>\n",
       "      <td>18.00</td>\n",
       "      <td>29.00</td>\n",
       "      <td>37.00</td>\n",
       "      <td>52.00</td>\n",
       "    </tr>\n",
       "    <tr>\n",
       "      <th>total_rooms</th>\n",
       "      <td>18565.0</td>\n",
       "      <td>2634.03</td>\n",
       "      <td>2195.92</td>\n",
       "      <td>2.00</td>\n",
       "      <td>1442.00</td>\n",
       "      <td>2123.00</td>\n",
       "      <td>3141.00</td>\n",
       "      <td>39320.00</td>\n",
       "    </tr>\n",
       "    <tr>\n",
       "      <th>total_bedrooms</th>\n",
       "      <td>18376.0</td>\n",
       "      <td>537.71</td>\n",
       "      <td>424.13</td>\n",
       "      <td>2.00</td>\n",
       "      <td>295.00</td>\n",
       "      <td>434.00</td>\n",
       "      <td>646.00</td>\n",
       "      <td>6445.00</td>\n",
       "    </tr>\n",
       "    <tr>\n",
       "      <th>population</th>\n",
       "      <td>18565.0</td>\n",
       "      <td>1426.22</td>\n",
       "      <td>1142.57</td>\n",
       "      <td>3.00</td>\n",
       "      <td>786.00</td>\n",
       "      <td>1166.00</td>\n",
       "      <td>1725.00</td>\n",
       "      <td>35682.00</td>\n",
       "    </tr>\n",
       "    <tr>\n",
       "      <th>households</th>\n",
       "      <td>18565.0</td>\n",
       "      <td>499.45</td>\n",
       "      <td>384.55</td>\n",
       "      <td>2.00</td>\n",
       "      <td>279.00</td>\n",
       "      <td>408.00</td>\n",
       "      <td>603.00</td>\n",
       "      <td>6082.00</td>\n",
       "    </tr>\n",
       "    <tr>\n",
       "      <th>median_income</th>\n",
       "      <td>18565.0</td>\n",
       "      <td>3.87</td>\n",
       "      <td>1.90</td>\n",
       "      <td>0.50</td>\n",
       "      <td>2.56</td>\n",
       "      <td>3.53</td>\n",
       "      <td>4.74</td>\n",
       "      <td>15.00</td>\n",
       "    </tr>\n",
       "    <tr>\n",
       "      <th>median_house_value</th>\n",
       "      <td>18565.0</td>\n",
       "      <td>206617.79</td>\n",
       "      <td>115447.10</td>\n",
       "      <td>14999.00</td>\n",
       "      <td>119300.00</td>\n",
       "      <td>179400.00</td>\n",
       "      <td>264400.00</td>\n",
       "      <td>500001.00</td>\n",
       "    </tr>\n",
       "  </tbody>\n",
       "</table>\n",
       "</div>"
      ],
      "text/plain": [
       "                      count       mean        std       min        25%  \\\n",
       "longitude           18565.0    -119.57       2.00   -124.35    -121.80   \n",
       "latitude            18565.0      35.63       2.14     32.54      33.93   \n",
       "housing_median_age  18565.0      28.62      12.56      1.00      18.00   \n",
       "total_rooms         18565.0    2634.03    2195.92      2.00    1442.00   \n",
       "total_bedrooms      18376.0     537.71     424.13      2.00     295.00   \n",
       "population          18565.0    1426.22    1142.57      3.00     786.00   \n",
       "households          18565.0     499.45     384.55      2.00     279.00   \n",
       "median_income       18565.0       3.87       1.90      0.50       2.56   \n",
       "median_house_value  18565.0  206617.79  115447.10  14999.00  119300.00   \n",
       "\n",
       "                          50%        75%        max  \n",
       "longitude             -118.50    -118.01    -114.31  \n",
       "latitude                34.26      37.71      41.95  \n",
       "housing_median_age      29.00      37.00      52.00  \n",
       "total_rooms           2123.00    3141.00   39320.00  \n",
       "total_bedrooms         434.00     646.00    6445.00  \n",
       "population            1166.00    1725.00   35682.00  \n",
       "households             408.00     603.00    6082.00  \n",
       "median_income            3.53       4.74      15.00  \n",
       "median_house_value  179400.00  264400.00  500001.00  "
      ]
     },
     "execution_count": 5,
     "metadata": {},
     "output_type": "execute_result"
    }
   ],
   "source": [
    "round(data_4.describe(),2).transpose()"
   ]
  },
  {
   "cell_type": "code",
   "execution_count": 6,
   "id": "2211187e",
   "metadata": {},
   "outputs": [
    {
     "data": {
      "image/png": "[encoded data removed]",
      "text/plain": [
       "<Figure size 1440x1080 with 9 Axes>"
      ]
     },
     "metadata": {
      "needs_background": "light"
     },
     "output_type": "display_data"
    }
   ],
   "source": [
    "data_4.hist(bins=50,figsize=(20,15))\n",
    "plt.show()"
   ]
  },
  {
   "cell_type": "code",
   "execution_count": 7,
   "id": "00a68fa4",
   "metadata": {},
   "outputs": [
    {
     "name": "stdout",
     "output_type": "stream",
     "text": [
      "<class 'pandas.core.frame.DataFrame'>\n",
      "RangeIndex: 18565 entries, 0 to 18564\n",
      "Data columns (total 10 columns):\n",
      " #   Column              Non-Null Count  Dtype  \n",
      "---  ------              --------------  -----  \n",
      " 0   longitude           18565 non-null  float64\n",
      " 1   latitude            18565 non-null  float64\n",
      " 2   housing_median_age  18565 non-null  int64  \n",
      " 3   total_rooms         18565 non-null  int64  \n",
      " 4   total_bedrooms      18376 non-null  float64\n",
      " 5   population          18565 non-null  int64  \n",
      " 6   households          18565 non-null  int64  \n",
      " 7   median_income       18565 non-null  float64\n",
      " 8   median_house_value  18565 non-null  int64  \n",
      " 9   ocean_proximity     18565 non-null  object \n",
      "dtypes: float64(4), int64(5), object(1)\n",
      "memory usage: 1.4+ MB\n"
     ]
    }
   ],
   "source": [
    "data_4.info()"
   ]
  },
  {
   "cell_type": "markdown",
   "id": "5c31727f",
   "metadata": {},
   "source": [
    "As we can see all the columns have complete columns except for total_rooms which has 18376 non-null values against the total of 18565 non-null elements. We can replace this with something else. We can take any of the following approaches:\n",
    "- Replace by the average values\n",
    "- Take the ratio of mean total bedrooms to mean total rooms for non null values and multiply the ratio by the number of rooms\n",
    "\n",
    "We will be taking the second approach. "
   ]
  },
  {
   "cell_type": "code",
   "execution_count": 12,
   "id": "00af3241",
   "metadata": {},
   "outputs": [
    {
     "name": "stdout",
     "output_type": "stream",
     "text": [
      "Average number of total rooms in non null columns 2635.0\n",
      "Average number of total bed rooms in non null columns 538.0\n",
      "Ratio of the number of bedrooms to number of total rooms = 0.20417457305502845\n"
     ]
    }
   ],
   "source": [
    "mean_total_rooms = round(data_4.loc[data_4.total_bedrooms.isnull()==False,'total_rooms'].mean(),0)\n",
    "print(f\"Average number of total rooms in non null columns {mean_total_rooms}\")\n",
    "mean_total_bedrooms = round(data_4.loc[data_4.total_bedrooms.isnull()==False,'total_bedrooms'].mean(),0)\n",
    "print(f\"Average number of total bed rooms in non null columns {mean_total_bedrooms}\")\n",
    "print(f\"Ratio of the number of bedrooms to number of total rooms = {mean_total_bedrooms/mean_total_rooms}\")"
   ]
  },
  {
   "cell_type": "markdown",
   "id": "157b7cf1",
   "metadata": {},
   "source": [
    "Now we multiply the number of rooms in null columns of total bedrooms with 0.20418 and round it to arrive at the total number of bedrooms in the null columns."
   ]
  },
  {
   "cell_type": "code",
   "execution_count": 13,
   "id": "dfd1e098",
   "metadata": {},
   "outputs": [],
   "source": [
    "data_4.loc[data_4.total_bedrooms.isnull(),'total_bedrooms'] = round(data_4.loc[data_4.total_bedrooms.isnull(),\n",
    "                                                                         'total_rooms']*mean_total_bedrooms/mean_total_rooms,0)"
   ]
  },
  {
   "cell_type": "code",
   "execution_count": 14,
   "id": "6f9c3c8d",
   "metadata": {},
   "outputs": [
    {
     "name": "stdout",
     "output_type": "stream",
     "text": [
      "<class 'pandas.core.frame.DataFrame'>\n",
      "RangeIndex: 18565 entries, 0 to 18564\n",
      "Data columns (total 10 columns):\n",
      " #   Column              Non-Null Count  Dtype  \n",
      "---  ------              --------------  -----  \n",
      " 0   longitude           18565 non-null  float64\n",
      " 1   latitude            18565 non-null  float64\n",
      " 2   housing_median_age  18565 non-null  int64  \n",
      " 3   total_rooms         18565 non-null  int64  \n",
      " 4   total_bedrooms      18565 non-null  float64\n",
      " 5   population          18565 non-null  int64  \n",
      " 6   households          18565 non-null  int64  \n",
      " 7   median_income       18565 non-null  float64\n",
      " 8   median_house_value  18565 non-null  int64  \n",
      " 9   ocean_proximity     18565 non-null  object \n",
      "dtypes: float64(4), int64(5), object(1)\n",
      "memory usage: 1.4+ MB\n"
     ]
    }
   ],
   "source": [
    "data_4.info()"
   ]
  },
  {
   "cell_type": "markdown",
   "id": "f42ce235",
   "metadata": {},
   "source": [
    "Now we can see there is no null column in the data and all the data points are complete. Next step will be creation of dummy variables from ```ocean_proximities``` which is a categorical variables. "
   ]
  },
  {
   "cell_type": "code",
   "execution_count": 15,
   "id": "bfbdbf74",
   "metadata": {},
   "outputs": [],
   "source": [
    "data_4_dummies = pd.get_dummies(data_4,\n",
    "                                columns= data_4.select_dtypes('object').columns,\n",
    "                               drop_first = True)"
   ]
  },
  {
   "cell_type": "code",
   "execution_count": 16,
   "id": "8c60e9b5",
   "metadata": {},
   "outputs": [
    {
     "name": "stdout",
     "output_type": "stream",
     "text": [
      "<class 'pandas.core.frame.DataFrame'>\n",
      "RangeIndex: 18565 entries, 0 to 18564\n",
      "Data columns (total 13 columns):\n",
      " #   Column                      Non-Null Count  Dtype  \n",
      "---  ------                      --------------  -----  \n",
      " 0   longitude                   18565 non-null  float64\n",
      " 1   latitude                    18565 non-null  float64\n",
      " 2   housing_median_age          18565 non-null  int64  \n",
      " 3   total_rooms                 18565 non-null  int64  \n",
      " 4   total_bedrooms              18565 non-null  float64\n",
      " 5   population                  18565 non-null  int64  \n",
      " 6   households                  18565 non-null  int64  \n",
      " 7   median_income               18565 non-null  float64\n",
      " 8   median_house_value          18565 non-null  int64  \n",
      " 9   ocean_proximity_INLAND      18565 non-null  uint8  \n",
      " 10  ocean_proximity_ISLAND      18565 non-null  uint8  \n",
      " 11  ocean_proximity_NEAR BAY    18565 non-null  uint8  \n",
      " 12  ocean_proximity_NEAR OCEAN  18565 non-null  uint8  \n",
      "dtypes: float64(4), int64(5), uint8(4)\n",
      "memory usage: 1.3 MB\n"
     ]
    }
   ],
   "source": [
    "data_4_dummies.info()"
   ]
  },
  {
   "cell_type": "code",
   "execution_count": 19,
   "id": "f1220a41",
   "metadata": {},
   "outputs": [],
   "source": [
    "from sklearn.preprocessing import StandardScaler\n",
    "from sklearn.model_selection import train_test_split"
   ]
  },
  {
   "cell_type": "markdown",
   "id": "ebd7177b",
   "metadata": {},
   "source": [
    "Now remember we cannot standardize the variables before train-test-split, because we will be carrying the impact of train dataset into test dataset. Therefore, we will be splitting the data into train and test before running the ```StandardScaler```"
   ]
  },
  {
   "cell_type": "code",
   "execution_count": 22,
   "id": "db2b720f",
   "metadata": {},
   "outputs": [],
   "source": [
    "x_variables = data_4_dummies.loc[:,data_4_dummies.columns!='median_house_value']\n",
    "y_variables = data_4_dummies.loc[:,data_4_dummies.columns == 'median_house_value']"
   ]
  },
  {
   "cell_type": "code",
   "execution_count": 24,
   "id": "32b15fa8",
   "metadata": {},
   "outputs": [
    {
     "name": "stdout",
     "output_type": "stream",
     "text": [
      "   median_house_value\n",
      "0              452600\n",
      "1              358500\n",
      "2              342200\n",
      "3              269700\n",
      "4              299200\n",
      "   longitude  latitude  housing_median_age  total_rooms  total_bedrooms  \\\n",
      "0    -122.23     37.88                  41          880           129.0   \n",
      "1    -122.22     37.86                  21         7099          1106.0   \n",
      "2    -122.25     37.85                  52         1627           280.0   \n",
      "3    -122.25     37.85                  52          919           213.0   \n",
      "4    -122.25     37.84                  52         2535           489.0   \n",
      "\n",
      "   population  households  median_income  ocean_proximity_INLAND  \\\n",
      "0         322         126         8.3252                       0   \n",
      "1        2401        1138         8.3014                       0   \n",
      "2         565         259         3.8462                       0   \n",
      "3         413         193         4.0368                       0   \n",
      "4        1094         514         3.6591                       0   \n",
      "\n",
      "   ocean_proximity_ISLAND  ocean_proximity_NEAR BAY  \\\n",
      "0                       0                         1   \n",
      "1                       0                         1   \n",
      "2                       0                         1   \n",
      "3                       0                         1   \n",
      "4                       0                         1   \n",
      "\n",
      "   ocean_proximity_NEAR OCEAN  \n",
      "0                           0  \n",
      "1                           0  \n",
      "2                           0  \n",
      "3                           0  \n",
      "4                           0  \n"
     ]
    }
   ],
   "source": [
    "print(y_variables.head())\n",
    "print(x_variables.head())"
   ]
  },
  {
   "cell_type": "code",
   "execution_count": 50,
   "id": "06f02100",
   "metadata": {},
   "outputs": [],
   "source": [
    "x_train, x_test, y_train, y_test = train_test_split(x_variables,y_variables, test_size = 0.20, random_state = 1)"
   ]
  },
  {
   "cell_type": "markdown",
   "id": "b5d59638",
   "metadata": {},
   "source": [
    "Now we standardize the columns. However, we will not be standardizing the dummy variables because their values are 0/1 already. "
   ]
  },
  {
   "cell_type": "code",
   "execution_count": 51,
   "id": "ec5009c6",
   "metadata": {},
   "outputs": [
    {
     "data": {
      "text/html": [
       "<div>\n",
       "<style scoped>\n",
       "    .dataframe tbody tr th:only-of-type {\n",
       "        vertical-align: middle;\n",
       "    }\n",
       "\n",
       "    .dataframe tbody tr th {\n",
       "        vertical-align: top;\n",
       "    }\n",
       "\n",
       "    .dataframe thead th {\n",
       "        text-align: right;\n",
       "    }\n",
       "</style>\n",
       "<table border=\"1\" class=\"dataframe\">\n",
       "  <thead>\n",
       "    <tr style=\"text-align: right;\">\n",
       "      <th></th>\n",
       "      <th>longitude</th>\n",
       "      <th>latitude</th>\n",
       "      <th>housing_median_age</th>\n",
       "      <th>total_rooms</th>\n",
       "      <th>total_bedrooms</th>\n",
       "      <th>population</th>\n",
       "      <th>households</th>\n",
       "      <th>median_income</th>\n",
       "    </tr>\n",
       "  </thead>\n",
       "  <tbody>\n",
       "    <tr>\n",
       "      <th>11184</th>\n",
       "      <td>-115.84</td>\n",
       "      <td>33.49</td>\n",
       "      <td>20</td>\n",
       "      <td>1660</td>\n",
       "      <td>379.0</td>\n",
       "      <td>637</td>\n",
       "      <td>250</td>\n",
       "      <td>2.0347</td>\n",
       "    </tr>\n",
       "    <tr>\n",
       "      <th>4211</th>\n",
       "      <td>-118.35</td>\n",
       "      <td>34.07</td>\n",
       "      <td>48</td>\n",
       "      <td>890</td>\n",
       "      <td>255.0</td>\n",
       "      <td>434</td>\n",
       "      <td>232</td>\n",
       "      <td>3.6111</td>\n",
       "    </tr>\n",
       "    <tr>\n",
       "      <th>11874</th>\n",
       "      <td>-117.70</td>\n",
       "      <td>34.05</td>\n",
       "      <td>24</td>\n",
       "      <td>2834</td>\n",
       "      <td>470.0</td>\n",
       "      <td>1815</td>\n",
       "      <td>471</td>\n",
       "      <td>4.7357</td>\n",
       "    </tr>\n",
       "    <tr>\n",
       "      <th>10170</th>\n",
       "      <td>-117.94</td>\n",
       "      <td>33.78</td>\n",
       "      <td>34</td>\n",
       "      <td>2627</td>\n",
       "      <td>468.0</td>\n",
       "      <td>1409</td>\n",
       "      <td>450</td>\n",
       "      <td>4.7731</td>\n",
       "    </tr>\n",
       "    <tr>\n",
       "      <th>14536</th>\n",
       "      <td>-122.55</td>\n",
       "      <td>37.79</td>\n",
       "      <td>32</td>\n",
       "      <td>2131</td>\n",
       "      <td>625.0</td>\n",
       "      <td>1229</td>\n",
       "      <td>572</td>\n",
       "      <td>2.9201</td>\n",
       "    </tr>\n",
       "    <tr>\n",
       "      <th>...</th>\n",
       "      <td>...</td>\n",
       "      <td>...</td>\n",
       "      <td>...</td>\n",
       "      <td>...</td>\n",
       "      <td>...</td>\n",
       "      <td>...</td>\n",
       "      <td>...</td>\n",
       "      <td>...</td>\n",
       "    </tr>\n",
       "    <tr>\n",
       "      <th>10955</th>\n",
       "      <td>-117.06</td>\n",
       "      <td>33.78</td>\n",
       "      <td>17</td>\n",
       "      <td>2813</td>\n",
       "      <td>565.0</td>\n",
       "      <td>1345</td>\n",
       "      <td>488</td>\n",
       "      <td>2.5847</td>\n",
       "    </tr>\n",
       "    <tr>\n",
       "      <th>17289</th>\n",
       "      <td>-122.65</td>\n",
       "      <td>38.47</td>\n",
       "      <td>24</td>\n",
       "      <td>2268</td>\n",
       "      <td>330.0</td>\n",
       "      <td>847</td>\n",
       "      <td>296</td>\n",
       "      <td>3.8580</td>\n",
       "    </tr>\n",
       "    <tr>\n",
       "      <th>5192</th>\n",
       "      <td>-118.25</td>\n",
       "      <td>34.15</td>\n",
       "      <td>15</td>\n",
       "      <td>3712</td>\n",
       "      <td>1005.0</td>\n",
       "      <td>1888</td>\n",
       "      <td>890</td>\n",
       "      <td>3.6875</td>\n",
       "    </tr>\n",
       "    <tr>\n",
       "      <th>12172</th>\n",
       "      <td>-117.32</td>\n",
       "      <td>34.16</td>\n",
       "      <td>9</td>\n",
       "      <td>711</td>\n",
       "      <td>139.0</td>\n",
       "      <td>316</td>\n",
       "      <td>152</td>\n",
       "      <td>4.0156</td>\n",
       "    </tr>\n",
       "    <tr>\n",
       "      <th>235</th>\n",
       "      <td>-122.20</td>\n",
       "      <td>37.77</td>\n",
       "      <td>39</td>\n",
       "      <td>2689</td>\n",
       "      <td>597.0</td>\n",
       "      <td>1888</td>\n",
       "      <td>537</td>\n",
       "      <td>2.2562</td>\n",
       "    </tr>\n",
       "  </tbody>\n",
       "</table>\n",
       "<p>14852 rows × 8 columns</p>\n",
       "</div>"
      ],
      "text/plain": [
       "       longitude  latitude  housing_median_age  total_rooms  total_bedrooms  \\\n",
       "11184    -115.84     33.49                  20         1660           379.0   \n",
       "4211     -118.35     34.07                  48          890           255.0   \n",
       "11874    -117.70     34.05                  24         2834           470.0   \n",
       "10170    -117.94     33.78                  34         2627           468.0   \n",
       "14536    -122.55     37.79                  32         2131           625.0   \n",
       "...          ...       ...                 ...          ...             ...   \n",
       "10955    -117.06     33.78                  17         2813           565.0   \n",
       "17289    -122.65     38.47                  24         2268           330.0   \n",
       "5192     -118.25     34.15                  15         3712          1005.0   \n",
       "12172    -117.32     34.16                   9          711           139.0   \n",
       "235      -122.20     37.77                  39         2689           597.0   \n",
       "\n",
       "       population  households  median_income  \n",
       "11184         637         250         2.0347  \n",
       "4211          434         232         3.6111  \n",
       "11874        1815         471         4.7357  \n",
       "10170        1409         450         4.7731  \n",
       "14536        1229         572         2.9201  \n",
       "...           ...         ...            ...  \n",
       "10955        1345         488         2.5847  \n",
       "17289         847         296         3.8580  \n",
       "5192         1888         890         3.6875  \n",
       "12172         316         152         4.0156  \n",
       "235          1888         537         2.2562  \n",
       "\n",
       "[14852 rows x 8 columns]"
      ]
     },
     "execution_count": 51,
     "metadata": {},
     "output_type": "execute_result"
    }
   ],
   "source": [
    "x_train.loc[:,[col for col in x_train.columns if 'ocean_proximity' not in col ]]"
   ]
  },
  {
   "cell_type": "code",
   "execution_count": 52,
   "id": "2c9f689e",
   "metadata": {},
   "outputs": [],
   "source": [
    "x_scaler = StandardScaler()\n",
    "x_train_scaled = x_train.copy(deep = True)"
   ]
  },
  {
   "cell_type": "code",
   "execution_count": 53,
   "id": "24f5bb7b",
   "metadata": {},
   "outputs": [],
   "source": [
    "x_train_scaled.loc[:,\n",
    "                   [col for col in x_train_scaled.columns \n",
    "                    if 'ocean_proximity' not in col]]= x_scaler.fit_transform(x_train_scaled.loc[:,\n",
    "                                   [col for col in x_train_scaled.columns \n",
    "                                    if 'ocean_proximity' not in col ]])"
   ]
  },
  {
   "cell_type": "code",
   "execution_count": 54,
   "id": "e6f21fc2",
   "metadata": {},
   "outputs": [
    {
     "data": {
      "text/html": [
       "<div>\n",
       "<style scoped>\n",
       "    .dataframe tbody tr th:only-of-type {\n",
       "        vertical-align: middle;\n",
       "    }\n",
       "\n",
       "    .dataframe tbody tr th {\n",
       "        vertical-align: top;\n",
       "    }\n",
       "\n",
       "    .dataframe thead th {\n",
       "        text-align: right;\n",
       "    }\n",
       "</style>\n",
       "<table border=\"1\" class=\"dataframe\">\n",
       "  <thead>\n",
       "    <tr style=\"text-align: right;\">\n",
       "      <th></th>\n",
       "      <th>count</th>\n",
       "      <th>mean</th>\n",
       "      <th>std</th>\n",
       "      <th>min</th>\n",
       "      <th>25%</th>\n",
       "      <th>50%</th>\n",
       "      <th>75%</th>\n",
       "      <th>max</th>\n",
       "    </tr>\n",
       "  </thead>\n",
       "  <tbody>\n",
       "    <tr>\n",
       "      <th>longitude</th>\n",
       "      <td>14852.0</td>\n",
       "      <td>1.808171e-15</td>\n",
       "      <td>1.000034</td>\n",
       "      <td>-2.351954</td>\n",
       "      <td>-1.112283</td>\n",
       "      <td>0.533144</td>\n",
       "      <td>0.784564</td>\n",
       "      <td>2.621667</td>\n",
       "    </tr>\n",
       "    <tr>\n",
       "      <th>latitude</th>\n",
       "      <td>14852.0</td>\n",
       "      <td>-1.309423e-15</td>\n",
       "      <td>1.000034</td>\n",
       "      <td>-1.441975</td>\n",
       "      <td>-0.797681</td>\n",
       "      <td>-0.643611</td>\n",
       "      <td>0.971793</td>\n",
       "      <td>2.946693</td>\n",
       "    </tr>\n",
       "    <tr>\n",
       "      <th>housing_median_age</th>\n",
       "      <td>14852.0</td>\n",
       "      <td>-2.822652e-17</td>\n",
       "      <td>1.000034</td>\n",
       "      <td>-2.195862</td>\n",
       "      <td>-0.843743</td>\n",
       "      <td>0.031157</td>\n",
       "      <td>0.667448</td>\n",
       "      <td>1.860494</td>\n",
       "    </tr>\n",
       "    <tr>\n",
       "      <th>total_rooms</th>\n",
       "      <td>14852.0</td>\n",
       "      <td>-2.822652e-17</td>\n",
       "      <td>1.000034</td>\n",
       "      <td>-1.180703</td>\n",
       "      <td>-0.534386</td>\n",
       "      <td>-0.231341</td>\n",
       "      <td>0.222445</td>\n",
       "      <td>16.393226</td>\n",
       "    </tr>\n",
       "    <tr>\n",
       "      <th>total_bedrooms</th>\n",
       "      <td>14852.0</td>\n",
       "      <td>-3.348909e-18</td>\n",
       "      <td>1.000034</td>\n",
       "      <td>-1.255477</td>\n",
       "      <td>-0.567850</td>\n",
       "      <td>-0.245086</td>\n",
       "      <td>0.255431</td>\n",
       "      <td>13.813841</td>\n",
       "    </tr>\n",
       "    <tr>\n",
       "      <th>population</th>\n",
       "      <td>14852.0</td>\n",
       "      <td>-5.525699e-17</td>\n",
       "      <td>1.000034</td>\n",
       "      <td>-1.224101</td>\n",
       "      <td>-0.552366</td>\n",
       "      <td>-0.228525</td>\n",
       "      <td>0.253372</td>\n",
       "      <td>29.421441</td>\n",
       "    </tr>\n",
       "    <tr>\n",
       "      <th>households</th>\n",
       "      <td>14852.0</td>\n",
       "      <td>-3.277146e-17</td>\n",
       "      <td>1.000034</td>\n",
       "      <td>-1.283105</td>\n",
       "      <td>-0.565546</td>\n",
       "      <td>-0.236343</td>\n",
       "      <td>0.270321</td>\n",
       "      <td>14.354026</td>\n",
       "    </tr>\n",
       "    <tr>\n",
       "      <th>median_income</th>\n",
       "      <td>14852.0</td>\n",
       "      <td>-2.631285e-16</td>\n",
       "      <td>1.000034</td>\n",
       "      <td>-1.786924</td>\n",
       "      <td>-0.693216</td>\n",
       "      <td>-0.169493</td>\n",
       "      <td>0.468553</td>\n",
       "      <td>5.908157</td>\n",
       "    </tr>\n",
       "    <tr>\n",
       "      <th>ocean_proximity_INLAND</th>\n",
       "      <td>14852.0</td>\n",
       "      <td>3.173983e-01</td>\n",
       "      <td>0.465480</td>\n",
       "      <td>0.000000</td>\n",
       "      <td>0.000000</td>\n",
       "      <td>0.000000</td>\n",
       "      <td>1.000000</td>\n",
       "      <td>1.000000</td>\n",
       "    </tr>\n",
       "    <tr>\n",
       "      <th>ocean_proximity_ISLAND</th>\n",
       "      <td>14852.0</td>\n",
       "      <td>2.019930e-04</td>\n",
       "      <td>0.014211</td>\n",
       "      <td>0.000000</td>\n",
       "      <td>0.000000</td>\n",
       "      <td>0.000000</td>\n",
       "      <td>0.000000</td>\n",
       "      <td>1.000000</td>\n",
       "    </tr>\n",
       "    <tr>\n",
       "      <th>ocean_proximity_NEAR BAY</th>\n",
       "      <td>14852.0</td>\n",
       "      <td>1.125774e-01</td>\n",
       "      <td>0.316086</td>\n",
       "      <td>0.000000</td>\n",
       "      <td>0.000000</td>\n",
       "      <td>0.000000</td>\n",
       "      <td>0.000000</td>\n",
       "      <td>1.000000</td>\n",
       "    </tr>\n",
       "    <tr>\n",
       "      <th>ocean_proximity_NEAR OCEAN</th>\n",
       "      <td>14852.0</td>\n",
       "      <td>1.308915e-01</td>\n",
       "      <td>0.337293</td>\n",
       "      <td>0.000000</td>\n",
       "      <td>0.000000</td>\n",
       "      <td>0.000000</td>\n",
       "      <td>0.000000</td>\n",
       "      <td>1.000000</td>\n",
       "    </tr>\n",
       "  </tbody>\n",
       "</table>\n",
       "</div>"
      ],
      "text/plain": [
       "                              count          mean       std       min  \\\n",
       "longitude                   14852.0  1.808171e-15  1.000034 -2.351954   \n",
       "latitude                    14852.0 -1.309423e-15  1.000034 -1.441975   \n",
       "housing_median_age          14852.0 -2.822652e-17  1.000034 -2.195862   \n",
       "total_rooms                 14852.0 -2.822652e-17  1.000034 -1.180703   \n",
       "total_bedrooms              14852.0 -3.348909e-18  1.000034 -1.255477   \n",
       "population                  14852.0 -5.525699e-17  1.000034 -1.224101   \n",
       "households                  14852.0 -3.277146e-17  1.000034 -1.283105   \n",
       "median_income               14852.0 -2.631285e-16  1.000034 -1.786924   \n",
       "ocean_proximity_INLAND      14852.0  3.173983e-01  0.465480  0.000000   \n",
       "ocean_proximity_ISLAND      14852.0  2.019930e-04  0.014211  0.000000   \n",
       "ocean_proximity_NEAR BAY    14852.0  1.125774e-01  0.316086  0.000000   \n",
       "ocean_proximity_NEAR OCEAN  14852.0  1.308915e-01  0.337293  0.000000   \n",
       "\n",
       "                                 25%       50%       75%        max  \n",
       "longitude                  -1.112283  0.533144  0.784564   2.621667  \n",
       "latitude                   -0.797681 -0.643611  0.971793   2.946693  \n",
       "housing_median_age         -0.843743  0.031157  0.667448   1.860494  \n",
       "total_rooms                -0.534386 -0.231341  0.222445  16.393226  \n",
       "total_bedrooms             -0.567850 -0.245086  0.255431  13.813841  \n",
       "population                 -0.552366 -0.228525  0.253372  29.421441  \n",
       "households                 -0.565546 -0.236343  0.270321  14.354026  \n",
       "median_income              -0.693216 -0.169493  0.468553   5.908157  \n",
       "ocean_proximity_INLAND      0.000000  0.000000  1.000000   1.000000  \n",
       "ocean_proximity_ISLAND      0.000000  0.000000  0.000000   1.000000  \n",
       "ocean_proximity_NEAR BAY    0.000000  0.000000  0.000000   1.000000  \n",
       "ocean_proximity_NEAR OCEAN  0.000000  0.000000  0.000000   1.000000  "
      ]
     },
     "execution_count": 54,
     "metadata": {},
     "output_type": "execute_result"
    }
   ],
   "source": [
    "x_train_scaled.describe().transpose()"
   ]
  },
  {
   "cell_type": "code",
   "execution_count": 55,
   "id": "59d6cec6",
   "metadata": {},
   "outputs": [],
   "source": [
    "x_test_scaled = x_test.copy(deep = True)\n",
    "x_test_scaled.loc[:,\n",
    "                   [col for col in x_test_scaled.columns \n",
    "                    if 'ocean_proximity' not in col]]= x_scaler.fit_transform(x_test_scaled.loc[:,\n",
    "                                   [col for col in x_test_scaled.columns \n",
    "                                    if 'ocean_proximity' not in col ]])"
   ]
  },
  {
   "cell_type": "code",
   "execution_count": 44,
   "id": "f951fc01",
   "metadata": {},
   "outputs": [
    {
     "data": {
      "text/html": [
       "<div>\n",
       "<style scoped>\n",
       "    .dataframe tbody tr th:only-of-type {\n",
       "        vertical-align: middle;\n",
       "    }\n",
       "\n",
       "    .dataframe tbody tr th {\n",
       "        vertical-align: top;\n",
       "    }\n",
       "\n",
       "    .dataframe thead th {\n",
       "        text-align: right;\n",
       "    }\n",
       "</style>\n",
       "<table border=\"1\" class=\"dataframe\">\n",
       "  <thead>\n",
       "    <tr style=\"text-align: right;\">\n",
       "      <th></th>\n",
       "      <th>count</th>\n",
       "      <th>mean</th>\n",
       "      <th>std</th>\n",
       "      <th>min</th>\n",
       "      <th>25%</th>\n",
       "      <th>50%</th>\n",
       "      <th>75%</th>\n",
       "      <th>max</th>\n",
       "    </tr>\n",
       "  </thead>\n",
       "  <tbody>\n",
       "    <tr>\n",
       "      <th>longitude</th>\n",
       "      <td>3713.0</td>\n",
       "      <td>-7.109255e-16</td>\n",
       "      <td>1.000135</td>\n",
       "      <td>-2.426175</td>\n",
       "      <td>-1.087535</td>\n",
       "      <td>0.539040</td>\n",
       "      <td>0.776459</td>\n",
       "      <td>2.488908</td>\n",
       "    </tr>\n",
       "    <tr>\n",
       "      <th>latitude</th>\n",
       "      <td>3713.0</td>\n",
       "      <td>9.290829e-16</td>\n",
       "      <td>1.000135</td>\n",
       "      <td>-1.452635</td>\n",
       "      <td>-0.791336</td>\n",
       "      <td>-0.644906</td>\n",
       "      <td>0.984724</td>\n",
       "      <td>2.949727</td>\n",
       "    </tr>\n",
       "    <tr>\n",
       "      <th>housing_median_age</th>\n",
       "      <td>3713.0</td>\n",
       "      <td>8.180905e-17</td>\n",
       "      <td>1.000135</td>\n",
       "      <td>-2.126967</td>\n",
       "      <td>-0.769993</td>\n",
       "      <td>0.028227</td>\n",
       "      <td>0.666803</td>\n",
       "      <td>1.864133</td>\n",
       "    </tr>\n",
       "    <tr>\n",
       "      <th>total_rooms</th>\n",
       "      <td>3713.0</td>\n",
       "      <td>6.315085e-17</td>\n",
       "      <td>1.000135</td>\n",
       "      <td>-1.278386</td>\n",
       "      <td>-0.582262</td>\n",
       "      <td>-0.241868</td>\n",
       "      <td>0.267732</td>\n",
       "      <td>8.804281</td>\n",
       "    </tr>\n",
       "    <tr>\n",
       "      <th>total_bedrooms</th>\n",
       "      <td>3713.0</td>\n",
       "      <td>-6.889184e-17</td>\n",
       "      <td>1.000135</td>\n",
       "      <td>-1.302639</td>\n",
       "      <td>-0.586230</td>\n",
       "      <td>-0.244028</td>\n",
       "      <td>0.265582</td>\n",
       "      <td>9.977718</td>\n",
       "    </tr>\n",
       "    <tr>\n",
       "      <th>population</th>\n",
       "      <td>3713.0</td>\n",
       "      <td>-2.105028e-17</td>\n",
       "      <td>1.000135</td>\n",
       "      <td>-1.335269</td>\n",
       "      <td>-0.596289</td>\n",
       "      <td>-0.227275</td>\n",
       "      <td>0.299616</td>\n",
       "      <td>10.480795</td>\n",
       "    </tr>\n",
       "    <tr>\n",
       "      <th>households</th>\n",
       "      <td>3713.0</td>\n",
       "      <td>-4.975521e-17</td>\n",
       "      <td>1.000135</td>\n",
       "      <td>-1.337406</td>\n",
       "      <td>-0.590582</td>\n",
       "      <td>-0.241701</td>\n",
       "      <td>0.284347</td>\n",
       "      <td>10.036668</td>\n",
       "    </tr>\n",
       "    <tr>\n",
       "      <th>median_income</th>\n",
       "      <td>3713.0</td>\n",
       "      <td>-4.401423e-17</td>\n",
       "      <td>1.000135</td>\n",
       "      <td>-1.734041</td>\n",
       "      <td>-0.671724</td>\n",
       "      <td>-0.186198</td>\n",
       "      <td>0.430921</td>\n",
       "      <td>5.734113</td>\n",
       "    </tr>\n",
       "    <tr>\n",
       "      <th>ocean_proximity_INLAND</th>\n",
       "      <td>3713.0</td>\n",
       "      <td>3.250741e-01</td>\n",
       "      <td>0.468466</td>\n",
       "      <td>0.000000</td>\n",
       "      <td>0.000000</td>\n",
       "      <td>0.000000</td>\n",
       "      <td>1.000000</td>\n",
       "      <td>1.000000</td>\n",
       "    </tr>\n",
       "    <tr>\n",
       "      <th>ocean_proximity_ISLAND</th>\n",
       "      <td>3713.0</td>\n",
       "      <td>5.386480e-04</td>\n",
       "      <td>0.023206</td>\n",
       "      <td>0.000000</td>\n",
       "      <td>0.000000</td>\n",
       "      <td>0.000000</td>\n",
       "      <td>0.000000</td>\n",
       "      <td>1.000000</td>\n",
       "    </tr>\n",
       "    <tr>\n",
       "      <th>ocean_proximity_NEAR BAY</th>\n",
       "      <td>3713.0</td>\n",
       "      <td>1.023431e-01</td>\n",
       "      <td>0.303140</td>\n",
       "      <td>0.000000</td>\n",
       "      <td>0.000000</td>\n",
       "      <td>0.000000</td>\n",
       "      <td>0.000000</td>\n",
       "      <td>1.000000</td>\n",
       "    </tr>\n",
       "    <tr>\n",
       "      <th>ocean_proximity_NEAR OCEAN</th>\n",
       "      <td>3713.0</td>\n",
       "      <td>1.225424e-01</td>\n",
       "      <td>0.327955</td>\n",
       "      <td>0.000000</td>\n",
       "      <td>0.000000</td>\n",
       "      <td>0.000000</td>\n",
       "      <td>0.000000</td>\n",
       "      <td>1.000000</td>\n",
       "    </tr>\n",
       "  </tbody>\n",
       "</table>\n",
       "</div>"
      ],
      "text/plain": [
       "                             count          mean       std       min  \\\n",
       "longitude                   3713.0 -7.109255e-16  1.000135 -2.426175   \n",
       "latitude                    3713.0  9.290829e-16  1.000135 -1.452635   \n",
       "housing_median_age          3713.0  8.180905e-17  1.000135 -2.126967   \n",
       "total_rooms                 3713.0  6.315085e-17  1.000135 -1.278386   \n",
       "total_bedrooms              3713.0 -6.889184e-17  1.000135 -1.302639   \n",
       "population                  3713.0 -2.105028e-17  1.000135 -1.335269   \n",
       "households                  3713.0 -4.975521e-17  1.000135 -1.337406   \n",
       "median_income               3713.0 -4.401423e-17  1.000135 -1.734041   \n",
       "ocean_proximity_INLAND      3713.0  3.250741e-01  0.468466  0.000000   \n",
       "ocean_proximity_ISLAND      3713.0  5.386480e-04  0.023206  0.000000   \n",
       "ocean_proximity_NEAR BAY    3713.0  1.023431e-01  0.303140  0.000000   \n",
       "ocean_proximity_NEAR OCEAN  3713.0  1.225424e-01  0.327955  0.000000   \n",
       "\n",
       "                                 25%       50%       75%        max  \n",
       "longitude                  -1.087535  0.539040  0.776459   2.488908  \n",
       "latitude                   -0.791336 -0.644906  0.984724   2.949727  \n",
       "housing_median_age         -0.769993  0.028227  0.666803   1.864133  \n",
       "total_rooms                -0.582262 -0.241868  0.267732   8.804281  \n",
       "total_bedrooms             -0.586230 -0.244028  0.265582   9.977718  \n",
       "population                 -0.596289 -0.227275  0.299616  10.480795  \n",
       "households                 -0.590582 -0.241701  0.284347  10.036668  \n",
       "median_income              -0.671724 -0.186198  0.430921   5.734113  \n",
       "ocean_proximity_INLAND      0.000000  0.000000  1.000000   1.000000  \n",
       "ocean_proximity_ISLAND      0.000000  0.000000  0.000000   1.000000  \n",
       "ocean_proximity_NEAR BAY    0.000000  0.000000  0.000000   1.000000  \n",
       "ocean_proximity_NEAR OCEAN  0.000000  0.000000  0.000000   1.000000  "
      ]
     },
     "execution_count": 44,
     "metadata": {},
     "output_type": "execute_result"
    }
   ],
   "source": [
    "x_test_scaled.describe().transpose()"
   ]
  },
  {
   "cell_type": "markdown",
   "id": "7d67aa40",
   "metadata": {},
   "source": [
    "Now we have scaled the relevant columns, we can start running the model. We also need to scale the output columns as well. "
   ]
  },
  {
   "cell_type": "code",
   "execution_count": 57,
   "id": "08fbc3ce",
   "metadata": {},
   "outputs": [],
   "source": [
    "y_train_scaled = y_train.copy(deep = True)\n",
    "y_train_scaled.loc[:,:]= x_scaler.fit_transform(y_train_scaled)"
   ]
  },
  {
   "cell_type": "code",
   "execution_count": 59,
   "id": "c124437a",
   "metadata": {},
   "outputs": [
    {
     "data": {
      "text/html": [
       "<div>\n",
       "<style scoped>\n",
       "    .dataframe tbody tr th:only-of-type {\n",
       "        vertical-align: middle;\n",
       "    }\n",
       "\n",
       "    .dataframe tbody tr th {\n",
       "        vertical-align: top;\n",
       "    }\n",
       "\n",
       "    .dataframe thead th {\n",
       "        text-align: right;\n",
       "    }\n",
       "</style>\n",
       "<table border=\"1\" class=\"dataframe\">\n",
       "  <thead>\n",
       "    <tr style=\"text-align: right;\">\n",
       "      <th></th>\n",
       "      <th>count</th>\n",
       "      <th>mean</th>\n",
       "      <th>std</th>\n",
       "      <th>min</th>\n",
       "      <th>25%</th>\n",
       "      <th>50%</th>\n",
       "      <th>75%</th>\n",
       "      <th>max</th>\n",
       "    </tr>\n",
       "  </thead>\n",
       "  <tbody>\n",
       "    <tr>\n",
       "      <th>median_house_value</th>\n",
       "      <td>14852.0</td>\n",
       "      <td>4.018690e-17</td>\n",
       "      <td>1.000034</td>\n",
       "      <td>-1.664481</td>\n",
       "      <td>-0.755757</td>\n",
       "      <td>-0.233794</td>\n",
       "      <td>0.505852</td>\n",
       "      <td>2.545965</td>\n",
       "    </tr>\n",
       "  </tbody>\n",
       "</table>\n",
       "</div>"
      ],
      "text/plain": [
       "                      count          mean       std       min       25%  \\\n",
       "median_house_value  14852.0  4.018690e-17  1.000034 -1.664481 -0.755757   \n",
       "\n",
       "                         50%       75%       max  \n",
       "median_house_value -0.233794  0.505852  2.545965  "
      ]
     },
     "execution_count": 59,
     "metadata": {},
     "output_type": "execute_result"
    }
   ],
   "source": [
    "y_train_scaled.describe().transpose()"
   ]
  },
  {
   "cell_type": "code",
   "execution_count": 61,
   "id": "29715a13",
   "metadata": {},
   "outputs": [],
   "source": [
    "y_test_scaled = y_test.copy(deep = True)\n",
    "y_test_scaled.loc[:,:] = x_scaler.fit_transform(y_test_scaled)"
   ]
  },
  {
   "cell_type": "code",
   "execution_count": 62,
   "id": "644cea05",
   "metadata": {},
   "outputs": [
    {
     "data": {
      "text/html": [
       "<div>\n",
       "<style scoped>\n",
       "    .dataframe tbody tr th:only-of-type {\n",
       "        vertical-align: middle;\n",
       "    }\n",
       "\n",
       "    .dataframe tbody tr th {\n",
       "        vertical-align: top;\n",
       "    }\n",
       "\n",
       "    .dataframe thead th {\n",
       "        text-align: right;\n",
       "    }\n",
       "</style>\n",
       "<table border=\"1\" class=\"dataframe\">\n",
       "  <thead>\n",
       "    <tr style=\"text-align: right;\">\n",
       "      <th></th>\n",
       "      <th>count</th>\n",
       "      <th>mean</th>\n",
       "      <th>std</th>\n",
       "      <th>min</th>\n",
       "      <th>25%</th>\n",
       "      <th>50%</th>\n",
       "      <th>75%</th>\n",
       "      <th>max</th>\n",
       "    </tr>\n",
       "  </thead>\n",
       "  <tbody>\n",
       "    <tr>\n",
       "      <th>median_house_value</th>\n",
       "      <td>3713.0</td>\n",
       "      <td>206165.682736</td>\n",
       "      <td>116468.35107</td>\n",
       "      <td>14999.0</td>\n",
       "      <td>118300.0</td>\n",
       "      <td>177200.0</td>\n",
       "      <td>262900.0</td>\n",
       "      <td>500001.0</td>\n",
       "    </tr>\n",
       "  </tbody>\n",
       "</table>\n",
       "</div>"
      ],
      "text/plain": [
       "                     count           mean           std      min       25%  \\\n",
       "median_house_value  3713.0  206165.682736  116468.35107  14999.0  118300.0   \n",
       "\n",
       "                         50%       75%       max  \n",
       "median_house_value  177200.0  262900.0  500001.0  "
      ]
     },
     "execution_count": 62,
     "metadata": {},
     "output_type": "execute_result"
    }
   ],
   "source": [
    "y_test.describe().transpose()"
   ]
  },
  {
   "cell_type": "code",
   "execution_count": 63,
   "id": "9f901b2d",
   "metadata": {},
   "outputs": [
    {
     "data": {
      "text/html": [
       "<div>\n",
       "<style scoped>\n",
       "    .dataframe tbody tr th:only-of-type {\n",
       "        vertical-align: middle;\n",
       "    }\n",
       "\n",
       "    .dataframe tbody tr th {\n",
       "        vertical-align: top;\n",
       "    }\n",
       "\n",
       "    .dataframe thead th {\n",
       "        text-align: right;\n",
       "    }\n",
       "</style>\n",
       "<table border=\"1\" class=\"dataframe\">\n",
       "  <thead>\n",
       "    <tr style=\"text-align: right;\">\n",
       "      <th></th>\n",
       "      <th>count</th>\n",
       "      <th>mean</th>\n",
       "      <th>std</th>\n",
       "      <th>min</th>\n",
       "      <th>25%</th>\n",
       "      <th>50%</th>\n",
       "      <th>75%</th>\n",
       "      <th>max</th>\n",
       "    </tr>\n",
       "  </thead>\n",
       "  <tbody>\n",
       "    <tr>\n",
       "      <th>median_house_value</th>\n",
       "      <td>3713.0</td>\n",
       "      <td>5.262571e-17</td>\n",
       "      <td>1.000135</td>\n",
       "      <td>-1.641583</td>\n",
       "      <td>-0.754518</td>\n",
       "      <td>-0.248734</td>\n",
       "      <td>0.487188</td>\n",
       "      <td>2.523217</td>\n",
       "    </tr>\n",
       "  </tbody>\n",
       "</table>\n",
       "</div>"
      ],
      "text/plain": [
       "                     count          mean       std       min       25%  \\\n",
       "median_house_value  3713.0  5.262571e-17  1.000135 -1.641583 -0.754518   \n",
       "\n",
       "                         50%       75%       max  \n",
       "median_house_value -0.248734  0.487188  2.523217  "
      ]
     },
     "execution_count": 63,
     "metadata": {},
     "output_type": "execute_result"
    }
   ],
   "source": [
    "y_test_scaled.describe().transpose()"
   ]
  },
  {
   "cell_type": "code",
   "execution_count": 65,
   "id": "e6d6c45f",
   "metadata": {},
   "outputs": [
    {
     "data": {
      "image/png": "[encoded data removed]",
      "text/plain": [
       "<Figure size 1440x2160 with 12 Axes>"
      ]
     },
     "metadata": {
      "needs_background": "light"
     },
     "output_type": "display_data"
    }
   ],
   "source": [
    "x_train_scaled.hist(bins = 20, figsize=(20,30))\n",
    "plt.show()"
   ]
  },
  {
   "cell_type": "code",
   "execution_count": 66,
   "id": "a18fd9b2",
   "metadata": {},
   "outputs": [
    {
     "data": {
      "text/plain": [
       "<1H OCEAN     8188\n",
       "INLAND        5921\n",
       "NEAR OCEAN    2399\n",
       "NEAR BAY      2052\n",
       "ISLAND           5\n",
       "Name: ocean_proximity, dtype: int64"
      ]
     },
     "execution_count": 66,
     "metadata": {},
     "output_type": "execute_result"
    }
   ],
   "source": [
    "data_4.ocean_proximity.value_counts()"
   ]
  },
  {
   "cell_type": "markdown",
   "id": "5a9c9ba5",
   "metadata": {},
   "source": [
    "### Building the models\n",
    "<br>We will attempt running following type of models:\n",
    "1. Linear Regression Model (simple regression model)\n",
    "2. LASSO Regression to remove multi collinearity\n",
    "3. Decision Trees including Random Forest\n",
    "4. Deep Learning Model"
   ]
  },
  {
   "cell_type": "markdown",
   "id": "775e18cd",
   "metadata": {},
   "source": [
    "#### Linear Regression\n",
    "We will start building the linear regression model. "
   ]
  },
  {
   "cell_type": "code",
   "execution_count": 68,
   "id": "fd2c62ed",
   "metadata": {},
   "outputs": [],
   "source": [
    "import statsmodels.api as sm"
   ]
  },
  {
   "cell_type": "code",
   "execution_count": 73,
   "id": "0efdfc4e",
   "metadata": {},
   "outputs": [],
   "source": [
    "x_train_scaled = sm.add_constant(x_train_scaled)\n",
    "model_1 = sm.OLS(y_train_scaled,x_train_scaled).fit()"
   ]
  },
  {
   "cell_type": "code",
   "execution_count": 74,
   "id": "10189af2",
   "metadata": {},
   "outputs": [
    {
     "data": {
      "text/html": [
       "<table class=\"simpletable\">\n",
       "<tr>\n",
       "        <td>Model:</td>                <td>OLS</td>          <td>Adj. R-squared:</td>      <td>0.642</td>  \n",
       "</tr>\n",
       "<tr>\n",
       "  <td>Dependent Variable:</td> <td>median_house_value</td>        <td>AIC:</td>         <td>26898.5495</td>\n",
       "</tr>\n",
       "<tr>\n",
       "         <td>Date:</td>         <td>2022-07-13 20:46</td>         <td>BIC:</td>         <td>26997.4261</td>\n",
       "</tr>\n",
       "<tr>\n",
       "   <td>No. Observations:</td>         <td>14852</td>         <td>Log-Likelihood:</td>     <td>-13436.</td> \n",
       "</tr>\n",
       "<tr>\n",
       "       <td>Df Model:</td>              <td>12</td>            <td>F-statistic:</td>        <td>2222.</td>  \n",
       "</tr>\n",
       "<tr>\n",
       "     <td>Df Residuals:</td>           <td>14839</td>       <td>Prob (F-statistic):</td>    <td>0.00</td>   \n",
       "</tr>\n",
       "<tr>\n",
       "      <td>R-squared:</td>             <td>0.642</td>             <td>Scale:</td>          <td>0.35785</td> \n",
       "</tr>\n",
       "</table>\n",
       "<table class=\"simpletable\">\n",
       "<tr>\n",
       "               <td></td>               <th>Coef.</th>  <th>Std.Err.</th>     <th>t</th>     <th>P>|t|</th> <th>[0.025</th>  <th>0.975]</th> \n",
       "</tr>\n",
       "<tr>\n",
       "  <th>const</th>                      <td>0.1104</td>   <td>0.0086</td>   <td>12.8507</td> <td>0.0000</td> <td>0.0936</td>  <td>0.1273</td> \n",
       "</tr>\n",
       "<tr>\n",
       "  <th>longitude</th>                  <td>-0.4626</td>  <td>0.0208</td>  <td>-22.2517</td> <td>0.0000</td> <td>-0.5033</td> <td>-0.4218</td>\n",
       "</tr>\n",
       "<tr>\n",
       "  <th>latitude</th>                   <td>-0.4590</td>  <td>0.0218</td>  <td>-21.0273</td> <td>0.0000</td> <td>-0.5018</td> <td>-0.4162</td>\n",
       "</tr>\n",
       "<tr>\n",
       "  <th>housing_median_age</th>         <td>0.1216</td>   <td>0.0056</td>   <td>21.5855</td> <td>0.0000</td> <td>0.1106</td>  <td>0.1327</td> \n",
       "</tr>\n",
       "<tr>\n",
       "  <th>total_rooms</th>                <td>-0.1285</td>  <td>0.0181</td>   <td>-7.0836</td> <td>0.0000</td> <td>-0.1640</td> <td>-0.0929</td>\n",
       "</tr>\n",
       "<tr>\n",
       "  <th>total_bedrooms</th>             <td>0.3533</td>   <td>0.0293</td>   <td>12.0620</td> <td>0.0000</td> <td>0.2958</td>  <td>0.4107</td> \n",
       "</tr>\n",
       "<tr>\n",
       "  <th>population</th>                 <td>-0.3444</td>  <td>0.0122</td>  <td>-28.1447</td> <td>0.0000</td> <td>-0.3683</td> <td>-0.3204</td>\n",
       "</tr>\n",
       "<tr>\n",
       "  <th>households</th>                 <td>0.1598</td>   <td>0.0285</td>   <td>5.6002</td>  <td>0.0000</td> <td>0.1039</td>  <td>0.2157</td> \n",
       "</tr>\n",
       "<tr>\n",
       "  <th>median_income</th>              <td>0.6442</td>   <td>0.0066</td>   <td>98.2127</td> <td>0.0000</td> <td>0.6314</td>  <td>0.6571</td> \n",
       "</tr>\n",
       "<tr>\n",
       "  <th>ocean_proximity_INLAND</th>     <td>-0.3497</td>  <td>0.0178</td>  <td>-19.7017</td> <td>0.0000</td> <td>-0.3845</td> <td>-0.3149</td>\n",
       "</tr>\n",
       "<tr>\n",
       "  <th>ocean_proximity_ISLAND</th>     <td>1.8741</td>   <td>0.3457</td>   <td>5.4207</td>  <td>0.0000</td> <td>1.1964</td>  <td>2.5518</td> \n",
       "</tr>\n",
       "<tr>\n",
       "  <th>ocean_proximity_NEAR BAY</th>   <td>-0.0450</td>  <td>0.0195</td>   <td>-2.3100</td> <td>0.0209</td> <td>-0.0833</td> <td>-0.0068</td>\n",
       "</tr>\n",
       "<tr>\n",
       "  <th>ocean_proximity_NEAR OCEAN</th> <td>0.0402</td>   <td>0.0159</td>   <td>2.5236</td>  <td>0.0116</td> <td>0.0090</td>  <td>0.0714</td> \n",
       "</tr>\n",
       "</table>\n",
       "<table class=\"simpletable\">\n",
       "<tr>\n",
       "     <td>Omnibus:</td>    <td>3610.770</td>  <td>Durbin-Watson:</td>     <td>2.003</td>  \n",
       "</tr>\n",
       "<tr>\n",
       "  <td>Prob(Omnibus):</td>   <td>0.000</td>  <td>Jarque-Bera (JB):</td> <td>12102.212</td>\n",
       "</tr>\n",
       "<tr>\n",
       "       <td>Skew:</td>       <td>1.218</td>      <td>Prob(JB):</td>       <td>0.000</td>  \n",
       "</tr>\n",
       "<tr>\n",
       "     <td>Kurtosis:</td>     <td>6.691</td>   <td>Condition No.:</td>      <td>139</td>   \n",
       "</tr>\n",
       "</table>"
      ],
      "text/plain": [
       "<class 'statsmodels.iolib.summary2.Summary'>\n",
       "\"\"\"\n",
       "                      Results: Ordinary least squares\n",
       "===========================================================================\n",
       "Model:                OLS                  Adj. R-squared:       0.642     \n",
       "Dependent Variable:   median_house_value   AIC:                  26898.5495\n",
       "Date:                 2022-07-13 20:46     BIC:                  26997.4261\n",
       "No. Observations:     14852                Log-Likelihood:       -13436.   \n",
       "Df Model:             12                   F-statistic:          2222.     \n",
       "Df Residuals:         14839                Prob (F-statistic):   0.00      \n",
       "R-squared:            0.642                Scale:                0.35785   \n",
       "---------------------------------------------------------------------------\n",
       "                            Coef.  Std.Err.    t     P>|t|   [0.025  0.975]\n",
       "---------------------------------------------------------------------------\n",
       "const                       0.1104   0.0086  12.8507 0.0000  0.0936  0.1273\n",
       "longitude                  -0.4626   0.0208 -22.2517 0.0000 -0.5033 -0.4218\n",
       "latitude                   -0.4590   0.0218 -21.0273 0.0000 -0.5018 -0.4162\n",
       "housing_median_age          0.1216   0.0056  21.5855 0.0000  0.1106  0.1327\n",
       "total_rooms                -0.1285   0.0181  -7.0836 0.0000 -0.1640 -0.0929\n",
       "total_bedrooms              0.3533   0.0293  12.0620 0.0000  0.2958  0.4107\n",
       "population                 -0.3444   0.0122 -28.1447 0.0000 -0.3683 -0.3204\n",
       "households                  0.1598   0.0285   5.6002 0.0000  0.1039  0.2157\n",
       "median_income               0.6442   0.0066  98.2127 0.0000  0.6314  0.6571\n",
       "ocean_proximity_INLAND     -0.3497   0.0178 -19.7017 0.0000 -0.3845 -0.3149\n",
       "ocean_proximity_ISLAND      1.8741   0.3457   5.4207 0.0000  1.1964  2.5518\n",
       "ocean_proximity_NEAR BAY   -0.0450   0.0195  -2.3100 0.0209 -0.0833 -0.0068\n",
       "ocean_proximity_NEAR OCEAN  0.0402   0.0159   2.5236 0.0116  0.0090  0.0714\n",
       "---------------------------------------------------------------------------\n",
       "Omnibus:               3610.770         Durbin-Watson:            2.003    \n",
       "Prob(Omnibus):         0.000            Jarque-Bera (JB):         12102.212\n",
       "Skew:                  1.218            Prob(JB):                 0.000    \n",
       "Kurtosis:              6.691            Condition No.:            139      \n",
       "===========================================================================\n",
       "\n",
       "\"\"\""
      ]
     },
     "execution_count": 74,
     "metadata": {},
     "output_type": "execute_result"
    }
   ],
   "source": [
    "model_1.summary2()"
   ]
  },
  {
   "cell_type": "code",
   "execution_count": 75,
   "id": "ee331b5c",
   "metadata": {},
   "outputs": [
    {
     "data": {
      "text/plain": [
       "<Figure size 576x432 with 0 Axes>"
      ]
     },
     "metadata": {},
     "output_type": "display_data"
    },
    {
     "data": {
      "image/png": "[encoded data removed]",
      "text/plain": [
       "<Figure size 432x288 with 1 Axes>"
      ]
     },
     "metadata": {
      "needs_background": "light"
     },
     "output_type": "display_data"
    }
   ],
   "source": [
    "import matplotlib.pyplot as plt\n",
    "import seaborn as sns\n",
    "house_price_data_resid = model_1.resid\n",
    "probplot = sm.ProbPlot(house_price_data_resid)\n",
    "plt.figure(figsize = (8,6))\n",
    "probplot.ppplot(line = '45')\n",
    "plt.title('Normal PP Plot of Regression Standardized Residuals')\n",
    "plt.show()"
   ]
  },
  {
   "cell_type": "code",
   "execution_count": 90,
   "id": "8d59323a",
   "metadata": {},
   "outputs": [
    {
     "data": {
      "image/png": "[encoded data removed]",
      "text/plain": [
       "<Figure size 576x432 with 1 Axes>"
      ]
     },
     "metadata": {
      "needs_background": "light"
     },
     "output_type": "display_data"
    }
   ],
   "source": [
    "def standardized(vals):\n",
    "    return((vals-vals.mean())/vals.std())\n",
    "plt.figure(figsize = (8,6))\n",
    "plt.scatter(standardized(model_1.fittedvalues),standardized(model_1.resid))\n",
    "plt.xlabel('Fitted Values')\n",
    "plt.ylabel('Residual')\n",
    "plt.show()"
   ]
  },
  {
   "cell_type": "code",
   "execution_count": 91,
   "id": "8081b272",
   "metadata": {},
   "outputs": [
    {
     "name": "stdout",
     "output_type": "stream",
     "text": [
      "R2 Score 0.6562851179227125\n"
     ]
    },
    {
     "data": {
      "image/png": "[encoded data removed]",
      "text/plain": [
       "<Figure size 576x432 with 1 Axes>"
      ]
     },
     "metadata": {
      "needs_background": "light"
     },
     "output_type": "display_data"
    }
   ],
   "source": [
    "pred = model_1.predict(sm.add_constant(x_test_scaled))\n",
    "from sklearn.metrics import r2_score\n",
    "print(\"R2 Score\",r2_score(y_test_scaled,pred))\n",
    "plt.figure(figsize = (8,6))\n",
    "plt.scatter(y_test_scaled,pred)\n",
    "plt.xlabel('Y_Test')\n",
    "plt.ylabel('Y_Predicted')\n",
    "plt.show()"
   ]
  },
  {
   "cell_type": "markdown",
   "id": "2fd6ea1b",
   "metadata": {},
   "source": [
    "We can see at the higher value of Y_test we can see that there is the regression is not working well, for remaining portion is working fine. "
   ]
  },
  {
   "cell_type": "code",
   "execution_count": null,
   "id": "32e5ea5a",
   "metadata": {},
   "outputs": [],
   "source": []
  }
 ],
 "metadata": {
  "kernelspec": {
   "display_name": "Python 3 (ipykernel)",
   "language": "python",
   "name": "python3"
  },
  "language_info": {
   "codemirror_mode": {
    "name": "ipython",
    "version": 3
   },
   "file_extension": ".py",
   "mimetype": "text/x-python",
   "name": "python",
   "nbconvert_exporter": "python",
   "pygments_lexer": "ipython3",
   "version": "3.9.13"
  }
 },
 "nbformat": 4,
 "nbformat_minor": 5
}
