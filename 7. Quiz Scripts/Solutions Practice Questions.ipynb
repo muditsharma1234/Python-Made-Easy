{
 "cells": [
  {
   "cell_type": "markdown",
   "id": "52762e08",
   "metadata": {},
   "source": [
    "**QUESTION 1**: In pure programming problems, optimum values are \n",
    "<br>**ANSWER 1**: All Values are integers (it's in the name)\n",
    "\n",
    "Other type of Integer linear programming - Mixed Integer Linear Programming: Some variables can be integers and others need not be. \n",
    "\n",
    "These problems in two variables can be solved using graphical methods. Otherwise these are NP-Hard category of problems. \n",
    "\n",
    "**QUESTION 2**: In linear programming, the points in feasible region satisfy?\n",
    "<br>**ANSWER 2**: All the given constraints. "
   ]
  },
  {
   "cell_type": "markdown",
   "id": "43c3e352",
   "metadata": {},
   "source": [
    "**QUESTION 3**\n",
    "\n",
    "Maximize Objective function F = 5x+10y subject to constraint:\n",
    "- x + 2y <= 120\n",
    "- x + y >= 60\n",
    "- x - 2y >= 0\n",
    "- x>=0\n",
    "- y>=0"
   ]
  },
  {
   "cell_type": "markdown",
   "id": "6ea24857",
   "metadata": {},
   "source": [
    "We can solve this using scipy.optimize package just remember two things:\n",
    "1. All the constraints should be in less than equal to form\n",
    "2. Objective function should be minimized"
   ]
  },
  {
   "cell_type": "code",
   "execution_count": 1,
   "id": "def86909",
   "metadata": {},
   "outputs": [],
   "source": [
    "import numpy as np\n",
    "from scipy.optimize import linprog\n",
    "obj = [-5,-10]\n",
    "lhs = [[1,2],[1,1],[1,-2]]\n",
    "rhs = [120,60,0]\n",
    "bnd = [(0,float('inf')),(0,float('inf'))]"
   ]
  },
  {
   "cell_type": "code",
   "execution_count": 2,
   "id": "50b37f96",
   "metadata": {},
   "outputs": [],
   "source": [
    "optimization = linprog(c = obj,\n",
    "                      A_ub = lhs,\n",
    "                    b_ub = rhs,\n",
    "                      bounds = bnd,\n",
    "                      method = 'simplex')"
   ]
  },
  {
   "cell_type": "code",
   "execution_count": 3,
   "id": "caf3f040",
   "metadata": {},
   "outputs": [
    {
     "data": {
      "text/plain": [
       "     con: array([], dtype=float64)\n",
       "     fun: -599.9999999999999\n",
       " message: 'Optimization terminated successfully.'\n",
       "     nit: 4\n",
       "   slack: array([1.42108547e-14, 7.10542736e-15, 1.20000000e+02])\n",
       "  status: 0\n",
       " success: True\n",
       "       x: array([ 0., 60.])"
      ]
     },
     "execution_count": 3,
     "metadata": {},
     "output_type": "execute_result"
    }
   ],
   "source": [
    "optimization"
   ]
  },
  {
   "cell_type": "markdown",
   "id": "8d763183",
   "metadata": {},
   "source": [
    "**QUESTION 4**\n",
    "\n",
    "Maximize F = 11x + 8y, subject to:\n",
    "- x<=4\n",
    "- y<=6\n",
    "- x+y<=6\n",
    "- x>=0\n",
    "- y>=0"
   ]
  },
  {
   "cell_type": "code",
   "execution_count": 4,
   "id": "e3403d1a",
   "metadata": {},
   "outputs": [],
   "source": [
    "import numpy as np\n",
    "from scipy.optimize import linprog\n",
    "\n",
    "##Setting up the problem\n",
    "obj = [-11,-8]\n",
    "lhs = [[1,1],[1,0],[0,1]]\n",
    "rhs = [6,4,6]\n",
    "bnd = [(0,float('inf')),(0,float('inf'))]"
   ]
  },
  {
   "cell_type": "code",
   "execution_count": 5,
   "id": "6883db10",
   "metadata": {},
   "outputs": [],
   "source": [
    "optimization = linprog(c = obj,\n",
    "                      A_ub = lhs,\n",
    "                      b_ub = rhs,\n",
    "                      bounds = bnd,\n",
    "                      method = 'simplex')"
   ]
  },
  {
   "cell_type": "code",
   "execution_count": 6,
   "id": "0ca84372",
   "metadata": {},
   "outputs": [
    {
     "data": {
      "text/plain": [
       "     con: array([], dtype=float64)\n",
       "     fun: -60.0\n",
       " message: 'Optimization terminated successfully.'\n",
       "     nit: 5\n",
       "   slack: array([0., 0., 4.])\n",
       "  status: 0\n",
       " success: True\n",
       "       x: array([4., 2.])"
      ]
     },
     "execution_count": 6,
     "metadata": {},
     "output_type": "execute_result"
    }
   ],
   "source": [
    "optimization"
   ]
  },
  {
   "cell_type": "markdown",
   "id": "726ddc5b",
   "metadata": {},
   "source": [
    "**QUESTION 5**\n",
    "<br>Vertex point of boundary line of feasible region."
   ]
  },
  {
   "cell_type": "markdown",
   "id": "e0fc17cc",
   "metadata": {},
   "source": [
    "**QUESTION 8**\n",
    "<br>Minimize $x^2 - 2x - 6$"
   ]
  },
  {
   "cell_type": "code",
   "execution_count": 7,
   "id": "68fd8eb2",
   "metadata": {},
   "outputs": [
    {
     "data": {
      "text/latex": [
       "$\\displaystyle x^{2} - 2 x - 6$"
      ],
      "text/plain": [
       "x**2 - 2*x - 6"
      ]
     },
     "execution_count": 7,
     "metadata": {},
     "output_type": "execute_result"
    }
   ],
   "source": [
    "import sympy as sp\n",
    "x = sp.symbols('x')\n",
    "func = x**2 - 2*x - 6\n",
    "func"
   ]
  },
  {
   "cell_type": "code",
   "execution_count": 8,
   "id": "fd30caa5",
   "metadata": {},
   "outputs": [
    {
     "data": {
      "text/plain": [
       "[1]"
      ]
     },
     "execution_count": 8,
     "metadata": {},
     "output_type": "execute_result"
    }
   ],
   "source": [
    "sp.solve(sp.Eq(sp.diff(func,x),0))"
   ]
  },
  {
   "cell_type": "code",
   "execution_count": 9,
   "id": "19c649ec",
   "metadata": {},
   "outputs": [
    {
     "data": {
      "text/latex": [
       "$\\displaystyle 2$"
      ],
      "text/plain": [
       "2"
      ]
     },
     "execution_count": 9,
     "metadata": {},
     "output_type": "execute_result"
    }
   ],
   "source": [
    "sp.diff(func,x,2)\n",
    "#As this is positive means 1 is a point of minima. "
   ]
  },
  {
   "cell_type": "markdown",
   "id": "7b7995a6",
   "metadata": {},
   "source": [
    "Minimize F(x,y) = $x^2 + y^2$, subject to:\n",
    "- $x^2 + 2y^2$ = 1"
   ]
  },
  {
   "cell_type": "code",
   "execution_count": 10,
   "id": "1f76d4dd",
   "metadata": {},
   "outputs": [
    {
     "data": {
      "text/plain": [
       "[{x: 0, y: -sqrt(2)/2, lambda: 1/2},\n",
       " {x: 0, y: sqrt(2)/2, lambda: 1/2},\n",
       " {x: -1, y: 0, lambda: 1},\n",
       " {x: 1, y: 0, lambda: 1}]"
      ]
     },
     "execution_count": 10,
     "metadata": {},
     "output_type": "execute_result"
    }
   ],
   "source": [
    "import sympy as sp\n",
    "x,y,lamda = sp.symbols('x y lambda')\n",
    "func = x**2 + y**2\n",
    "g = x**2 + 2*y**2 - 1\n",
    "L = func - lamda*g\n",
    "gradL = [sp.diff(L,var) for var in [x,y]]\n",
    "eqn = gradL + [g]\n",
    "sp.solve(eqn,[x,y,lamda],dict = True)"
   ]
  },
  {
   "cell_type": "code",
   "execution_count": 11,
   "id": "3addc496",
   "metadata": {},
   "outputs": [
    {
     "data": {
      "text/plain": [
       "[1/2, 1/2, 1, 1]"
      ]
     },
     "execution_count": 11,
     "metadata": {},
     "output_type": "execute_result"
    }
   ],
   "source": [
    "[func.subs(p) for p in sp.solve(eqn,[x,y,lamda],dict = True)]"
   ]
  },
  {
   "cell_type": "markdown",
   "id": "e7f74c84",
   "metadata": {},
   "source": [
    "Minimum value is 0.5"
   ]
  },
  {
   "cell_type": "markdown",
   "id": "a2fb2ca1",
   "metadata": {},
   "source": [
    "What is the lagrange multiplier which optimizes $2x^2 + y^2$ subject to:\n",
    "- x + y = 1"
   ]
  },
  {
   "cell_type": "code",
   "execution_count": 12,
   "id": "bdfeb11a",
   "metadata": {},
   "outputs": [
    {
     "data": {
      "text/plain": [
       "[{x: 1/3, y: 2/3, lambda: 4/3}]"
      ]
     },
     "execution_count": 12,
     "metadata": {},
     "output_type": "execute_result"
    }
   ],
   "source": [
    "x,y,lamda = sp.symbols('x y lambda')\n",
    "func = 2*x**2 + y**2\n",
    "g = x + y - 1\n",
    "L = func - lamda*g\n",
    "gradL = [sp.diff(L,var) for var in [x,y]]\n",
    "eqn = gradL + [g]\n",
    "sp.solve(eqn,[x,y,lamda],dict = True)"
   ]
  },
  {
   "cell_type": "markdown",
   "id": "51127a00",
   "metadata": {},
   "source": [
    "Answer - 4/3"
   ]
  },
  {
   "cell_type": "markdown",
   "id": "a0bb3275",
   "metadata": {},
   "source": [
    "**Question 14**:\n",
    "Find the linear regression model determine intercept and slope. \n",
    "\n",
    "- x: [5,8,4,17,12,9]\n",
    "- y: [8,9,12,27,16,13]"
   ]
  },
  {
   "cell_type": "code",
   "execution_count": 20,
   "id": "23e1d597",
   "metadata": {},
   "outputs": [],
   "source": [
    "x = np.array([[1,1,1,1,1,1],[5,8,4,17,12,9]]).T\n",
    "y = np.array([[8,9,12,27,16,13]]).T"
   ]
  },
  {
   "cell_type": "code",
   "execution_count": 21,
   "id": "8c59b93a",
   "metadata": {},
   "outputs": [],
   "source": [
    "a = np.dot(x.T,y)\n",
    "b = np.dot(x.T,x)\n",
    "theta = np.dot(np.linalg.inv(b),a)"
   ]
  },
  {
   "cell_type": "code",
   "execution_count": 22,
   "id": "e6b67f1e",
   "metadata": {},
   "outputs": [
    {
     "data": {
      "text/plain": [
       "array([[2.28592163],\n",
       "       [1.29608128]])"
      ]
     },
     "execution_count": 22,
     "metadata": {},
     "output_type": "execute_result"
    }
   ],
   "source": [
    "theta"
   ]
  },
  {
   "cell_type": "markdown",
   "id": "c3cec80d",
   "metadata": {},
   "source": [
    "The Intercept is 2.29 and slope is 1.29"
   ]
  },
  {
   "cell_type": "code",
   "execution_count": null,
   "id": "6b32f685",
   "metadata": {},
   "outputs": [],
   "source": []
  }
 ],
 "metadata": {
  "kernelspec": {
   "display_name": "Python 3 (ipykernel)",
   "language": "python",
   "name": "python3"
  },
  "language_info": {
   "codemirror_mode": {
    "name": "ipython",
    "version": 3
   },
   "file_extension": ".py",
   "mimetype": "text/x-python",
   "name": "python",
   "nbconvert_exporter": "python",
   "pygments_lexer": "ipython3",
   "version": "3.9.13"
  }
 },
 "nbformat": 4,
 "nbformat_minor": 5
}
