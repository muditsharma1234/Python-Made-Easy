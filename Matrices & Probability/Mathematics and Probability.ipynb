{
 "cells": [
  {
   "cell_type": "markdown",
   "id": "74282e41",
   "metadata": {},
   "source": [
    "#### Checking for linear independence of a set of vectors\n",
    "If you are given say n vectors  ($v_1, v_2, v_3, v_4 ... v_n$) and are asked to check if these vectors are linearly independent. An easy way to do the same is to use the fundamental definition of linear independence:\n",
    "\n",
    "$x_1.v_1 + x_2.v_2 + x_3.v_3 .... x_n.v_n$ = 0, where at-least one of the $x_1, x_2, x_3 ... x_n$ should be non-zero.\n",
    "\n",
    "Writing this in the matrix form becomes:\n",
    "$\\begin{bmatrix} v_{1,1} \\\\ v_{2,1}  \\\\ v_{3,1} \\end{bmatrix}$ . $x_1$ + $\\begin{bmatrix} v_{1,2} \\\\ v_{2,2}  \\\\ v_{3,2} \\end{bmatrix}$ . $x_2$ ... $\\begin{bmatrix} v_{1,n} \\\\ v_{2,n}  \\\\ v_{3,n} \\end{bmatrix}$ . $x_2$ = 0.\n",
    "\n",
    "Where $v_{1,1}, v_{2,1}$ ... etc are elements of vector $v_1$ so on.\n",
    "<br>**Note**: We have used here a 3 elements in each vector this argument can be extended to any length (I Was too lazy to type a nXn vector).  \n",
    "\n",
    "This in form of matrix multiplication can be written as:\n",
    "\n",
    "$\\begin{bmatrix} v_{1,1} & v_{1,2} & ... & v_{1,n} \\\\ v_{2,1} & v_{2,2} & ... & v_{2,n}  \\\\ v_{3,1} & v_{3,2} & ... & v_{3,n} \\end{bmatrix}$ . $\\begin{bmatrix} x_1 \\\\ x_2 \\\\x_3 \\\\... \\\\ x_n \\end{bmatrix}$ \n",
    "\n",
    "<br> This will be a 3X1 matrix and which can be seen to be the equation we wrote above. Now if the determinant of this matrix V is 0 then the vectors are not linearly independent. Let us take an example. \n",
    "\n",
    "Question: To check if 3 vectors $v_1 = \\begin{bmatrix} 1 \\\\ 2  \\\\ 3 \\end{bmatrix}, v_2 = \\begin{bmatrix} 1 \\\\ 3  \\\\ 4 \\end{bmatrix} and  v_3 = \\begin{bmatrix} 3 \\\\ 8  \\\\ 11 \\end{bmatrix}$ are linearly independent or not?\n",
    "\n",
    "Using the argument above we will create a matrix which has columns as the elements above and check for the determinant = 0 or not. \n",
    "<br> Another way of checking the same is if the rank of the matrix is less than min(Rows, Columns) in the matrix. We will explore both the methods in below codes.\n",
    "\n",
    "**Note** This will become fundamental for linear equation solution for us. "
   ]
  },
  {
   "cell_type": "code",
   "execution_count": 29,
   "id": "2a8f159b",
   "metadata": {},
   "outputs": [
    {
     "name": "stdout",
     "output_type": "stream",
     "text": [
      "(3,)\n",
      "(1, 3)\n"
     ]
    }
   ],
   "source": [
    "import numpy as np\n",
    "v1 = np.array([[1,2,3]])\n",
    "v2 = np.array([[1,3,4]])\n",
    "v3 = np.array([[3,8,11]])\n",
    "##Whenever declaring an array in numpy we need to use two brackets otherwise it becomes a row of elements.\n",
    "##This can be checked by using shape argument \n",
    "v4 = np.array([1,2,3])\n",
    "print(v4.shape)\n",
    "print(v1.shape)\n",
    "#v4 is a 3 element 1d Array and v1 is 3X1 vector (which is exactly what we are looking for)"
   ]
  },
  {
   "cell_type": "code",
   "execution_count": 25,
   "id": "8ce186da",
   "metadata": {},
   "outputs": [
    {
     "data": {
      "text/plain": [
       "(3, 3)"
      ]
     },
     "execution_count": 25,
     "metadata": {},
     "output_type": "execute_result"
    }
   ],
   "source": [
    "V_final = np.concatenate((v1.T,v2.T,v3.T),axis = 1)\n",
    "#This gives us the matrix required\n",
    "V_final.shape"
   ]
  },
  {
   "cell_type": "code",
   "execution_count": 28,
   "id": "7cca1d12",
   "metadata": {},
   "outputs": [
    {
     "name": "stdout",
     "output_type": "stream",
     "text": [
      "-1.1102230246251573e-16\n",
      "2\n"
     ]
    }
   ],
   "source": [
    "##Now we compute the determinant of this matrix:\n",
    "print(np.linalg.det(V_final)) \n",
    "##This gives us a result which is ~0 which means the vectors are linearly dependent. Other way to check is via rank\n",
    "print(np.linalg.matrix_rank(V_final))\n",
    "##The rank is < dimension of the array which means that the vectors are linearly dependent. "
   ]
  },
  {
   "cell_type": "code",
   "execution_count": 33,
   "id": "2c97deb4",
   "metadata": {},
   "outputs": [
    {
     "name": "stdout",
     "output_type": "stream",
     "text": [
      "2\n"
     ]
    }
   ],
   "source": [
    "v1 = np.array([[1,1,2,4]])\n",
    "v2 = np.array([[2,1,1,4]])\n",
    "v3 = np.array([[5,3,4,12]])\n",
    "##Whenever declaring an array in numpy we need to use two brackets otherwise it becomes a row of elements.\n",
    "##This can be checked by using shape argument \n",
    "V_final = np.concatenate((v1.T,v2.T,v3.T),axis = 1)\n",
    "#print(np.linalg.det(V_final))\n",
    "#Determinant approach will not work in case of non-square matrices. \n",
    "print(np.linalg.matrix_rank(V_final))\n",
    "#Rank approach will work in every case. "
   ]
  },
  {
   "cell_type": "markdown",
   "id": "2894603b",
   "metadata": {},
   "source": [
    "**Degree of Freedom in a set of linear equations is $N_{variables}$ - $N_{number Of Linearly Independent Equations}$"
   ]
  },
  {
   "cell_type": "markdown",
   "id": "1bdd2998",
   "metadata": {},
   "source": [
    "#### Matrix Multiplication\n",
    "In this section we will be covering matrix multiplication. There is a simple command in ```numpy``` to multiply two matrices. \n",
    "```np.dot(A,B)``` where A and B are two matrices which can be multiplied means number of columns in A is equal to number of rows in B. "
   ]
  },
  {
   "cell_type": "code",
   "execution_count": 40,
   "id": "4c1403ee",
   "metadata": {},
   "outputs": [
    {
     "name": "stdout",
     "output_type": "stream",
     "text": [
      "MATRIX A LOOKS LIKE\n",
      "[[1 2 3]\n",
      " [3 4 5]]\n",
      "MATRIX B LOOKS LIKE\n",
      "[[2 3 4 5 6]\n",
      " [6 4 6 7 5]\n",
      " [5 7 8 4 4]]\n",
      "SHAPE OF MATRIX A AND B ARE\n",
      "(2, 3)\n",
      "(3, 5)\n",
      "PRODUCT OF THESE TWO MATRIX IS\n",
      "[[29 32 40 31 28]\n",
      " [55 60 76 63 58]]\n"
     ]
    }
   ],
   "source": [
    "A = np.array([[1,2,3],[3,4,5]])\n",
    "print(\"MATRIX A LOOKS LIKE\")\n",
    "##Remember when we declare the matrix in above form each bracket contains a row of a matrix !!! \n",
    "print(A)\n",
    "B = np.array([[2,3,4,5,6],[6,4,6,7,5],[5,7,8,4,4]])\n",
    "print(\"MATRIX B LOOKS LIKE\")\n",
    "print(B)\n",
    "print(\"SHAPE OF MATRIX A AND B ARE\")\n",
    "print(A.shape)\n",
    "print(B.shape)\n",
    "print(\"PRODUCT OF THESE TWO MATRIX IS\")\n",
    "print(np.dot(A,B))"
   ]
  },
  {
   "cell_type": "code",
   "execution_count": 52,
   "id": "e57da5b1",
   "metadata": {},
   "outputs": [
    {
     "name": "stdout",
     "output_type": "stream",
     "text": [
      "5.0\n",
      "5.999999999999999\n"
     ]
    },
    {
     "data": {
      "text/plain": [
       "4.123105625617661"
      ]
     },
     "execution_count": 52,
     "metadata": {},
     "output_type": "execute_result"
    }
   ],
   "source": [
    "##THESE ARE TEST CODES NOT TO BE CONSIDERED\n",
    "A = np.array([[1,1],[1,2],[1,3]])\n",
    "B = np.array([[5,0,0]]).T\n",
    "x1 = np.array([[10,-5]]).T\n",
    "x2 = np.array([[7,-3]]).T\n",
    "print(np.linalg.norm(np.dot(A,x1)-B))\n",
    "#Norm computes the scalar value of any vector essentially detailing the squareroot of sum of squares of individual elements\n",
    "print(np.linalg.norm(np.dot(A,x2)-B)**2)\n",
    "np.linalg.norm(A)"
   ]
  },
  {
   "cell_type": "code",
   "execution_count": 56,
   "id": "745226a2",
   "metadata": {},
   "outputs": [
    {
     "name": "stdout",
     "output_type": "stream",
     "text": [
      "5 ---- 2.449489742783178\n",
      "5.333333333333333 ---- 2.23606797749979\n",
      "5.666666666666667 ---- 2.1602468994692865\n",
      "6 ---- 2.23606797749979\n"
     ]
    }
   ],
   "source": [
    "##THESE ARE TEST CODES NOT TO BE CONSIDERED\n",
    "for c in [5,16/3,17/3,6]:\n",
    "    print(f\"{c} ---- {np.linalg.norm(np.dot(A,np.array([[c,-2]]).T)-B)}\")"
   ]
  },
  {
   "cell_type": "markdown",
   "id": "25522e49",
   "metadata": {},
   "source": [
    "#### Solution of Linear Equations\n",
    "In this section we will try to solve linear equations. Let us take an example:\n",
    "<br> x + 2y + 3z = 6\n",
    "<br> 3x + 4y + z = 8\n",
    "<br> 2x - y + z = 2\n",
    "\n",
    "This can be written in matrix form as:\n",
    "$\\begin{bmatrix} 1 & 2 & 3 \\\\ 3 & 4 & 1  \\\\ 2 & -1 & 1 \\end{bmatrix}$ X $\\begin{bmatrix} x \\\\ y  \\\\ z \\end{bmatrix}$ = $\\begin{bmatrix} 6 \\\\ 8  \\\\ 2 \\end{bmatrix}$\n",
    "<br> This is general form for **Ax = b**\n",
    "\n",
    "For solution of linear equations we need to understand two key concepts:\n",
    "1. MATRIX MULTIPLICATION\n",
    "    <br>a. Matrix multiplication AxB is possible only when number of columns in A = number of rows in B. Formula in python is ```np.dot(A,B)```\n",
    "2. MATRIX INVERSION \n",
    "    <br>a. Matrix Inversion is possible only when - i. The matrix is Square and ii. Determinant of matrix is non-zero. Formula in python is ```np.linalg.inv(A)```"
   ]
  },
  {
   "cell_type": "code",
   "execution_count": 57,
   "id": "a6379da9",
   "metadata": {},
   "outputs": [
    {
     "name": "stdout",
     "output_type": "stream",
     "text": [
      "[[2 2]\n",
      " [1 1]]\n",
      "[[3 1]\n",
      " [0 0]]\n"
     ]
    }
   ],
   "source": [
    "##Matrix Multiplication\n",
    "A = np.array([[2,0],[1,1]])\n",
    "B = np.array([[1,1],[0,0]])\n",
    "print(np.dot(A,B))\n",
    "print(np.dot(B,A))\n",
    "##This proves the matrix multiplication is not commutative AxB != BxA"
   ]
  },
  {
   "cell_type": "code",
   "execution_count": null,
   "id": "608179da",
   "metadata": {},
   "outputs": [],
   "source": []
  },
  {
   "cell_type": "markdown",
   "id": "fb886db4",
   "metadata": {},
   "source": [
    "Steps for solving a linear equation:\n",
    "1. Form a matrix with coefficients call it A\n",
    "2. Compute inverse of the coefficient matrix $A^{-1}$\n",
    "3. Create a value matrix (RHS of our equation) call it b\n",
    "4. Multiply $A^{-1}$ with b to arrive at the solution for each of the variables\n",
    "<br> Essentially we are trying to solve the equation Ax = b by solving x = $A^{-1}$.b\n",
    "\n",
    "Let us solve an example in python.\n",
    "Say our equations are:\n",
    "<br> x+2y = 0\n",
    "<br> 2x+5y = -1\n",
    "<br> Here our value of A is $\\begin{bmatrix} 1 & 2 \\\\ 2 & 5 \\end{bmatrix}$ and our b is $\\begin{bmatrix} 0 \\\\ -1 \\end{bmatrix}$\n",
    "<br>Above steps in pythong will look like:\n",
    "1. Declare A by using ```np.array([[1,2],[2,5]])```\n",
    "2. Declare b by using ```np.array([[0,-1]]).T```\n",
    "3. Find inverse of A by using ```np.linalg.inv(A)```\n",
    "4. Multiply $A^{-1}$ by b using ```np.dot(Ainv,b)```\n",
    "5. Get values for x and y"
   ]
  },
  {
   "cell_type": "code",
   "execution_count": 61,
   "id": "e61f95d8",
   "metadata": {},
   "outputs": [
    {
     "name": "stdout",
     "output_type": "stream",
     "text": [
      "[[ 2.]\n",
      " [-1.]]\n"
     ]
    }
   ],
   "source": [
    "#Solution in python\n",
    "A = np.array([[1,2],[2,5]])\n",
    "b = np.array([[0,-1]]).T\n",
    "Ainv = np.linalg.inv(A)\n",
    "soln = np.dot(Ainv,b)\n",
    "print(soln)\n",
    "#Here x = 2 and y = -1"
   ]
  },
  {
   "cell_type": "code",
   "execution_count": 65,
   "id": "4518284f",
   "metadata": {},
   "outputs": [
    {
     "name": "stdout",
     "output_type": "stream",
     "text": [
      "[[1.]\n",
      " [1.]\n",
      " [1.]]\n"
     ]
    }
   ],
   "source": [
    "#Let us try to solve the linear equation in 3 variables we mentioned in the beginning of this section\n",
    "#x + 2y + 3z = 6; 3x + 4y + z = 8; 2x - y + z = 2\n",
    "A = np.array([[1,2,3],[3,4,1],[2,-1,1]])\n",
    "b = np.array([[6,8,2]]).T\n",
    "soln = np.dot(np.linalg.inv(A),b)\n",
    "print(soln)\n",
    "#Here our solution is x= 1 y = 1 and z = 1"
   ]
  },
  {
   "cell_type": "code",
   "execution_count": 67,
   "id": "52186231",
   "metadata": {},
   "outputs": [
    {
     "data": {
      "text/plain": [
       "2"
      ]
     },
     "execution_count": 67,
     "metadata": {},
     "output_type": "execute_result"
    }
   ],
   "source": [
    "A = np.array([[1,2,3,3],[2,0,6,2],[3,4,9,7]]).T\n",
    "np.linalg.matrix_rank(A)"
   ]
  },
  {
   "cell_type": "code",
   "execution_count": 70,
   "id": "e0e0f592",
   "metadata": {},
   "outputs": [
    {
     "name": "stdout",
     "output_type": "stream",
     "text": [
      "2\n",
      "Matrix([[22/3], [-7/3], [1]])\n"
     ]
    }
   ],
   "source": [
    "from sympy import Matrix\n",
    "A = np.array([[2,5,-3],[1,4,2]])\n",
    "print(np.linalg.matrix_rank(A))\n",
    "print(Matrix(Matrix(A).nullspace()))"
   ]
  },
  {
   "cell_type": "markdown",
   "id": "e2cf335a",
   "metadata": {},
   "source": [
    "**NOTE: The above methods work only for non-homogeneous equations where $b \\neq 0$. However, if b = 0 the above methods will fail and they require more advanced solutions - Singular Value Decomposition which are yet to be covered.**"
   ]
  }
 ],
 "metadata": {
  "kernelspec": {
   "display_name": "Python 3 (ipykernel)",
   "language": "python",
   "name": "python3"
  },
  "language_info": {
   "codemirror_mode": {
    "name": "ipython",
    "version": 3
   },
   "file_extension": ".py",
   "mimetype": "text/x-python",
   "name": "python",
   "nbconvert_exporter": "python",
   "pygments_lexer": "ipython3",
   "version": "3.9.7"
  }
 },
 "nbformat": 4,
 "nbformat_minor": 5
}
