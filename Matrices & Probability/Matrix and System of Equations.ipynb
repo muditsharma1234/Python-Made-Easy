{
 "cells": [
  {
   "cell_type": "markdown",
   "id": "1bdd2998",
   "metadata": {},
   "source": [
    "#### Matrix Multiplication\n",
    "In this section we will be covering matrix multiplication. There is a simple command in ```numpy``` to multiply two matrices. \n",
    "```np.dot(A,B)``` where A and B are two matrices which can be multiplied means number of columns in A is equal to number of rows in B. "
   ]
  },
  {
   "cell_type": "code",
   "execution_count": 40,
   "id": "4c1403ee",
   "metadata": {},
   "outputs": [
    {
     "name": "stdout",
     "output_type": "stream",
     "text": [
      "MATRIX A LOOKS LIKE\n",
      "[[1 2 3]\n",
      " [3 4 5]]\n",
      "MATRIX B LOOKS LIKE\n",
      "[[2 3 4 5 6]\n",
      " [6 4 6 7 5]\n",
      " [5 7 8 4 4]]\n",
      "SHAPE OF MATRIX A AND B ARE\n",
      "(2, 3)\n",
      "(3, 5)\n",
      "PRODUCT OF THESE TWO MATRIX IS\n",
      "[[29 32 40 31 28]\n",
      " [55 60 76 63 58]]\n"
     ]
    }
   ],
   "source": [
    "A = np.array([[1,2,3],[3,4,5]])\n",
    "print(\"MATRIX A LOOKS LIKE\")\n",
    "##Remember when we declare the matrix in above form each bracket contains a row of a matrix !!! \n",
    "print(A)\n",
    "B = np.array([[2,3,4,5,6],[6,4,6,7,5],[5,7,8,4,4]])\n",
    "print(\"MATRIX B LOOKS LIKE\")\n",
    "print(B)\n",
    "print(\"SHAPE OF MATRIX A AND B ARE\")\n",
    "print(A.shape)\n",
    "print(B.shape)\n",
    "print(\"PRODUCT OF THESE TWO MATRIX IS\")\n",
    "print(np.dot(A,B))"
   ]
  },
  {
   "cell_type": "markdown",
   "id": "25522e49",
   "metadata": {},
   "source": [
    "#### Solution of Linear Equations\n",
    "In this section we will try to solve linear equations. Let us take an example:\n",
    "<br> x + 2y + 3z = 6\n",
    "<br> 3x + 4y + z = 8\n",
    "<br> 2x - y + z = 2\n",
    "\n",
    "This can be written in matrix form as:\n",
    "$\\begin{bmatrix} 1 & 2 & 3 \\\\ 3 & 4 & 1  \\\\ 2 & -1 & 1 \\end{bmatrix}$ X $\\begin{bmatrix} x \\\\ y  \\\\ z \\end{bmatrix}$ = $\\begin{bmatrix} 6 \\\\ 8  \\\\ 2 \\end{bmatrix}$\n",
    "<br> This is general form for **Ax = b**\n",
    "\n",
    "For solution of linear equations we need to understand two key concepts:\n",
    "1. MATRIX MULTIPLICATION\n",
    "    <br>a. Matrix multiplication AxB is possible only when number of columns in A = number of rows in B. Formula in python is ```np.dot(A,B)```\n",
    "2. MATRIX INVERSION \n",
    "    <br>a. Matrix Inversion is possible only when - i. The matrix is Square and ii. Determinant of matrix is non-zero. Formula in python is ```np.linalg.inv(A)```"
   ]
  },
  {
   "cell_type": "code",
   "execution_count": 57,
   "id": "a6379da9",
   "metadata": {},
   "outputs": [
    {
     "name": "stdout",
     "output_type": "stream",
     "text": [
      "[[2 2]\n",
      " [1 1]]\n",
      "[[3 1]\n",
      " [0 0]]\n"
     ]
    }
   ],
   "source": [
    "##Matrix Multiplication\n",
    "A = np.array([[2,0],[1,1]])\n",
    "B = np.array([[1,1],[0,0]])\n",
    "print(np.dot(A,B))\n",
    "print(np.dot(B,A))\n",
    "##This proves the matrix multiplication is not commutative AxB != BxA"
   ]
  },
  {
   "cell_type": "code",
   "execution_count": null,
   "id": "608179da",
   "metadata": {},
   "outputs": [],
   "source": []
  },
  {
   "cell_type": "markdown",
   "id": "fb886db4",
   "metadata": {},
   "source": [
    "Steps for solving a linear equation:\n",
    "1. Form a matrix with coefficients call it A\n",
    "2. Compute inverse of the coefficient matrix $A^{-1}$\n",
    "3. Create a value matrix (RHS of our equation) call it b\n",
    "4. Multiply $A^{-1}$ with b to arrive at the solution for each of the variables\n",
    "<br> Essentially we are trying to solve the equation Ax = b by solving x = $A^{-1}$.b\n",
    "\n",
    "Let us solve an example in python.\n",
    "Say our equations are:\n",
    "<br> x+2y = 0\n",
    "<br> 2x+5y = -1\n",
    "<br> Here our value of A is $\\begin{bmatrix} 1 & 2 \\\\ 2 & 5 \\end{bmatrix}$ and our b is $\\begin{bmatrix} 0 \\\\ -1 \\end{bmatrix}$\n",
    "<br>Above steps in pythong will look like:\n",
    "1. Declare A by using ```np.array([[1,2],[2,5]])```\n",
    "2. Declare b by using ```np.array([[0,-1]]).T```\n",
    "3. Find inverse of A by using ```np.linalg.inv(A)```\n",
    "4. Multiply $A^{-1}$ by b using ```np.dot(Ainv,b)```\n",
    "5. Get values for x and y"
   ]
  },
  {
   "cell_type": "code",
   "execution_count": 61,
   "id": "e61f95d8",
   "metadata": {},
   "outputs": [
    {
     "name": "stdout",
     "output_type": "stream",
     "text": [
      "[[ 2.]\n",
      " [-1.]]\n"
     ]
    }
   ],
   "source": [
    "#Solution in python\n",
    "A = np.array([[1,2],[2,5]])\n",
    "b = np.array([[0,-1]]).T\n",
    "Ainv = np.linalg.inv(A)\n",
    "soln = np.dot(Ainv,b)\n",
    "print(soln)\n",
    "#Here x = 2 and y = -1"
   ]
  },
  {
   "cell_type": "code",
   "execution_count": 65,
   "id": "4518284f",
   "metadata": {},
   "outputs": [
    {
     "name": "stdout",
     "output_type": "stream",
     "text": [
      "[[1.]\n",
      " [1.]\n",
      " [1.]]\n"
     ]
    }
   ],
   "source": [
    "#Let us try to solve the linear equation in 3 variables we mentioned in the beginning of this section\n",
    "#x + 2y + 3z = 6; 3x + 4y + z = 8; 2x - y + z = 2\n",
    "A = np.array([[1,2,3],[3,4,1],[2,-1,1]])\n",
    "b = np.array([[6,8,2]]).T\n",
    "soln = np.dot(np.linalg.inv(A),b)\n",
    "print(soln)\n",
    "#Here our solution is x= 1 y = 1 and z = 1"
   ]
  },
  {
   "cell_type": "code",
   "execution_count": 67,
   "id": "52186231",
   "metadata": {},
   "outputs": [
    {
     "data": {
      "text/plain": [
       "2"
      ]
     },
     "execution_count": 67,
     "metadata": {},
     "output_type": "execute_result"
    }
   ],
   "source": [
    "A = np.array([[1,2,3,3],[2,0,6,2],[3,4,9,7]]).T\n",
    "np.linalg.matrix_rank(A)"
   ]
  },
  {
   "cell_type": "markdown",
   "id": "e2cf335a",
   "metadata": {},
   "source": [
    "**NOTE: The above methods work only for non-homogeneous equations where $b \\neq 0$. However, if b = 0 the above methods will fail and they require more advanced solutions - Singular Value Decomposition which are yet to be covered.**\n",
    "<br>We will solve two types of equations \n",
    "1. Homogeneous Equations\n",
    "2. Non-Homogeneous Equations\n",
    "\n",
    "<br>We will also evaluate the conditions of consistency and kind of solutions present. \n",
    "\n",
    "##### Homogeneous Systems of Equations\n",
    "Homogeneous systems of equations are ones where the RHS of the equation is Zero. Example:\n",
    "<br>2x + 3y + 5z = 0\n",
    "<br>5x + 4y + 10z = 0\n",
    "<br>7x + 8y + 9z = 0\n",
    "\n",
    "Writing in matrix form we have: $\\begin{bmatrix} 2 & 3 & 5 \\\\ 5 & 4 & 10 \\\\ 7 & 8 & 9 \\end{bmatrix}$. $\\begin{bmatrix} x \\\\ y \\\\z \\end{bmatrix}$ = $\\begin{bmatrix} 0 \\\\ 0 \\\\ 0 \\end{bmatrix}$\n",
    "\n",
    "<br>A few rules to remember here are:\n",
    "1. If the value of the determinant of coefficient matrix is 0 then there is a trivial solution where x=y=z = 0\n",
    "2. If the value of the determinant of the coefficient matrix is non-zero then there will be infinite solutions\n",
    "3. There is no condition where there are no solutions to this equation because x=y=z=0 will always be a solution no matter what happens\n",
    "<br>We will not be solving non-homogeneous equations at this point in time, we will only check for existence of solutions. \n",
    "\n",
    "We can define the solutions in terms of **ranks of the matrices.** The rules for the same are as follows:\n",
    "1. If Rank(Coefficient_Matrix) = Number of Variables then there is only trivial solution i.e. all variables = 0\n",
    "2. If Rank(Coefficient_Matrix) < Number of Variables then there are infinite solutions\n",
    "3. If Number of Equations < Number of Variables then there are infinite solutions (This also implies the Rank of coefficient matrix < Number of Variables)\n",
    "4. Number of Equations = Number of Variables and Coefficient Determinant = 0 then infinite else only Trivial Solutions\n",
    "\n",
    "We will take a few examples:\n",
    "<br>How many solutions following equations will have:\n",
    "<br> x + 3y -2z = 0\n",
    "<br> 2x - y + 4z = 0\n",
    "<br> x - 11y + 14z = 0\n",
    "<br>Now there are 3 equations and 3 variables two ways to check the solution:\n",
    "1. If determinant is 0 then there are infinite solutions\n",
    "2. If rank of coefficient matrix is < min(number of rows or columns) then infinite solutions let us check both"
   ]
  },
  {
   "cell_type": "code",
   "execution_count": 7,
   "id": "be9629fa",
   "metadata": {},
   "outputs": [
    {
     "name": "stdout",
     "output_type": "stream",
     "text": [
      "4.662936703425667e-15\n",
      "2\n"
     ]
    }
   ],
   "source": [
    "A = np.array([[1,3,-2],[2,-1,4],[1,-11,14]])\n",
    "det = np.linalg.det(A)\n",
    "rank = np.linalg.matrix_rank(A)\n",
    "print(det)\n",
    "##The value of determinant is 0\n",
    "print(rank)\n",
    "##The rank is less the number of variables\n",
    "\n",
    "##Both the answers point to infinite solutions"
   ]
  },
  {
   "cell_type": "markdown",
   "id": "7a842c12",
   "metadata": {},
   "source": [
    "##### Solution of non-homogeneous equations\n",
    "Non homogeneous equations we have the RHS $\\neq$ 0. Which means at-least one of the elements in RHS is non-zero. Now there are following possibilities:\n",
    "1. Inconsistent Solutions - No Solutions Exist\n",
    "2. Consistent Solutions - There is a unique solution\n",
    "3. Consistent Solutions - There are infinite solutions possible\n",
    "<br>As with homogeneous equations there are two methods to identify the solution category - (i) Determinant & (ii) Rank.\n",
    "<br>We will discuss each of these methods in this section:\n",
    "\n",
    "**Determinant Method**: This will work only in case of square matrix i.e. when number of variables = number of equations.\n",
    "Let us assume we have an equation:\n",
    "<br>$\\large a_{1}x + b_{1}y = c_1$\n",
    "<br>$\\large a_{2}x + b_{2}y = c_2$\n",
    "\n",
    "When we write this in the matrix form it can be written as:\n",
    "$\\begin{bmatrix} a_1 & b_1 \\\\ a_2 & b_2 \\end{bmatrix}$. $\\begin{bmatrix} x \\\\ y \\end{bmatrix}$ = $\\begin{bmatrix} c_1 \\\\ c_2 \\end{bmatrix}$. Which can also be written as Ax = b.\n",
    "\n",
    "<br>Let us define a few determinants:\n",
    "\n",
    "$\\large\\Delta$ = $\\begin{vmatrix} a_1 & b_1 \\\\ a_2 & b_2 \\end{vmatrix}$ This is the determinant for coefficient matrix. <br>$\\large\\Delta_1$ = $\\begin{vmatrix} c_1 & b_1 \\\\ c_2 & b_2 \\end{vmatrix}$ This is determinant where we replace **a** by RHS values\n",
    "<br>$\\large\\Delta_2$ = $\\begin{vmatrix} a_1 & c_1 \\\\ a_2 & c_2 \\end{vmatrix}$ This is determinant where we replace **b** by RHS values\n",
    "\n",
    "Now we will discuss conditions for solutions:\n",
    "1. If $\\Delta \\neq 0$ then there is a unique solution to the equation\n",
    "2. If $\\Delta = 0$ then there are two conditions:\n",
    "    <br>a. If all $\\Delta_1 = \\Delta_2 = \\Delta_3 = 0$ then the equations are consistent and there are infinite solutions\n",
    "    <br>b. If at-least one of $\\Delta_1$ or $\\Delta_2$ or $\\Delta_3$ is non-zero then the equations are inconsistent and there are no solutions\n",
    "\n",
    "Also note the solution if it exists is given by:\n",
    "x = $\\large\\frac{\\Delta_1}{\\Delta}$ and y = $\\large\\frac{\\Delta_2}{\\Delta}$\n",
    "\n",
    "Let us take following examples. \n",
    "<br>***Example 1:***<br>\n",
    "2x+3y=5 <br>\n",
    "7x+5y=10\n",
    "\n",
    "$\\Delta$ = $\\begin{vmatrix} 2 & 3 \\\\ 7 & 5 \\end{vmatrix}$ <br>\n",
    "$\\Delta_1$ = $\\begin{vmatrix} 5 & 3 \\\\ 10 & 5 \\end{vmatrix}$ <br>\n",
    "$\\Delta_2$ = $\\begin{vmatrix} 2 & 5 \\\\ 7 & 10 \\end{vmatrix}$ \n",
    "\n",
    "<br>Also note if you have $\\Delta \\neq 0$ Then you can compute the inverse of A (Coefficient Matrix). Then you can find the solution also by $A^{-1}$.b.\n",
    "<br>Where A is the matrix of coefficients and b is the vector of RHS values. Again note inverse method works only when the number of equations = number of variables. "
   ]
  },
  {
   "cell_type": "code",
   "execution_count": 38,
   "id": "897da36d",
   "metadata": {},
   "outputs": [
    {
     "name": "stdout",
     "output_type": "stream",
     "text": [
      "[[2 3]\n",
      " [7 5]]\n",
      "[[ 5  3]\n",
      " [10  5]]\n",
      "[[ 2  5]\n",
      " [ 7 10]]\n",
      "Delta =  -11.000000000000002\n",
      "Delta 1 =  -5.000000000000001\n",
      "Delta 2 =  -15.0\n",
      "Value of x =  0.45454545454545453\n",
      "Value of y =  1.3636363636363633\n",
      "LHS of equation 1 evaluates to 4.999999999999999\n",
      "LHS of equation 2 evaluates to 9.999999999999998\n"
     ]
    }
   ],
   "source": [
    "##Solution for example 1\n",
    "coeff_Mat = np.array([[2,3],[7,5]])\n",
    "print(coeff_Mat)\n",
    "delta_1_mat = np.array([[5,3],[10,5]])\n",
    "print(delta_1_mat)\n",
    "delta_2_mat = np.array([[2,5],[7,10]])\n",
    "print(delta_2_mat)\n",
    "##Now we compute value of each of these determinants\n",
    "print(\"Delta = \",np.linalg.det(coeff_Mat))\n",
    "#As the determinant of coefficient matrix is non zero the equation should have unique solutions\n",
    "print(\"Delta 1 = \",np.linalg.det(delta_1_mat))\n",
    "print(\"Delta 2 = \",np.linalg.det(delta_2_mat))\n",
    "x = np.linalg.det(delta_1_mat)/np.linalg.det(coeff_Mat)\n",
    "y = np.linalg.det(delta_2_mat)/np.linalg.det(coeff_Mat)\n",
    "print(\"Value of x = \",x)\n",
    "print(\"Value of y = \",y)\n",
    "\n",
    "##We can check these solutions by putting each of values in x and y\n",
    "print(\"LHS of equation 1 evaluates to\",2*x+3*y)\n",
    "print(\"LHS of equation 2 evaluates to\",7*x+5*y)\n",
    "#This comes equal to the RHS (note Python for that matter any programming language does a floating point computation therefore)\n",
    "#these values of 4.9999999 and 9.999999. \n",
    "#Thus we have proved that these equations have unique solution and computed the solution via determinant method."
   ]
  },
  {
   "cell_type": "markdown",
   "id": "eefd866f",
   "metadata": {},
   "source": [
    "<br>***Example 2:***\n",
    "<br> Test for consistency and solve following system of equations:<br>\n",
    "2x-3y+7z = 5 <br>\n",
    "3x+y-3z = 13 <br>\n",
    "2x+19y-47z = 32 <br>\n",
    "\n",
    "$\\Delta$ = $\\begin{vmatrix} 2 & -3 & 7\\\\ 3 & 1 & -1\\\\ 2 & 19 & -47 \\end{vmatrix}$ <br>\n",
    "$\\Delta_1$ = $\\begin{vmatrix} 5 & -3 & 7\\\\ 13 & 1 & -1\\\\ 32 & 19 & -47 \\end{vmatrix}$ <br>\n",
    "$\\Delta_2$ = $\\begin{vmatrix} 2 & 5 & 7\\\\ 3 & 13 & -1\\\\ 2 & 32 & -47 \\end{vmatrix}$ <br>\n",
    "$\\Delta_3$ = $\\begin{vmatrix} 2 & -3 & 5\\\\ 3 & 1 & 13\\\\ 2 & 19 & 32 \\end{vmatrix}$\n"
   ]
  },
  {
   "cell_type": "code",
   "execution_count": 35,
   "id": "7c15239b",
   "metadata": {},
   "outputs": [
    {
     "name": "stdout",
     "output_type": "stream",
     "text": [
      "COEFFICIENT MATRIX IS\n",
      "[[  2  -3   7]\n",
      " [  3   1  -3]\n",
      " [  2  19 -47]]\n",
      "DELTA 1 IS\n",
      "[[  5  -3   7]\n",
      " [ 13   1  -1]\n",
      " [ 32  19 -47]]\n",
      "DELTA 2 IS\n",
      "[[  2   5   7]\n",
      " [  3  13  -1]\n",
      " [  2  32 -47]]\n",
      "DELTA 3 IS\n",
      "[[ 2 -3  5]\n",
      " [ 3  1 13]\n",
      " [ 2 19 32]]\n",
      "Value of the coefficient matrix determinant is -2.747801985947269e-14\n",
      "Delta 1 = -372.00000000000017, Delta 2 = 27.000000000000096, Delta 3 = 55.000000000000064\n"
     ]
    }
   ],
   "source": [
    "#Solution for Example 2\n",
    "coeff_mat = np.array([[2,-3,7],[3,1,-3],[2,19,-47]])\n",
    "\n",
    "print(\"COEFFICIENT MATRIX IS\")\n",
    "print(coeff_mat)\n",
    "delta_1_mat = np.array([[5,-3,7],[13,1,-1],[32,19,-47]])\n",
    "print(\"DELTA 1 IS\")\n",
    "print(delta_1_mat)\n",
    "delta_2_mat = np.array([[2,5,7],[3,13,-1],[2,32,-47]])\n",
    "print(\"DELTA 2 IS\")\n",
    "print(delta_2_mat)\n",
    "delta_3_mat = np.array([[2,-3,5],[3,1,13],[2,19,32]])\n",
    "print(\"DELTA 3 IS\")\n",
    "print(delta_3_mat)\n",
    "\n",
    "##Now we compute determinants\n",
    "delta = np.linalg.det(coeff_mat)\n",
    "print(\"Value of the coefficient matrix determinant is\",det_coeff_mat)\n",
    "#As the value of determinant of coefficient matrix has turned out to be zero we will check for delta 1 delta 2 and delta 3\n",
    "delta_1 = np.linalg.det(delta_1_mat)\n",
    "delta_2 = np.linalg.det(delta_2_mat)\n",
    "delta_3 = np.linalg.det(delta_3_mat)\n",
    "print(f\"Delta 1 = {delta_1}, Delta 2 = {delta_2}, Delta 3 = {delta_3}\")\n",
    "\n",
    "\n",
    "#All 3 are non-zero and detla is zero means the equations are inconsistent and there is no solution"
   ]
  },
  {
   "cell_type": "markdown",
   "id": "e4d8c731",
   "metadata": {},
   "source": [
    "**Example 3**\n",
    "<br>5x+3y+7z = 4\n",
    "<br>3x+26y+2z =9\n",
    "<br>7x+2y+10z = 5\n",
    "<br>We can straight away jump to the solution."
   ]
  },
  {
   "cell_type": "code",
   "execution_count": 37,
   "id": "28fba391",
   "metadata": {},
   "outputs": [
    {
     "name": "stdout",
     "output_type": "stream",
     "text": [
      "Coefficient matrix is\n",
      " [[ 5  3  7]\n",
      " [ 3 26  2]\n",
      " [ 7  2 10]]\n",
      "Value of determinant of coefficient matrix is -1.7167220026489588e-13\n",
      "Delta 1 = 7.460698725481071e-14, Delta 2 = -5.2910057287850316e-14, Delta 3 = -6.141119359069445e-14\n"
     ]
    }
   ],
   "source": [
    "coeff_mat = np.array([[5,3,7],[3,26,2],[7,2,10]])\n",
    "\n",
    "print(\"Coefficient matrix is\\n\",coeff_mat)\n",
    "delta = np.linalg.det(coeff_mat)\n",
    "print(\"Value of determinant of coefficient matrix is\",delta)\n",
    "\n",
    "#Now we again compute delta 1 delta 2 and delta 3\n",
    "\n",
    "delta_1 = np.linalg.det(np.array([[4,3,7],[9,26,2],[5,2,10]]))\n",
    "\n",
    "#I have shortened the steps here by computing the determinant directly\n",
    "\n",
    "delta_2 = np.linalg.det(np.array([[5,4,7],[3,9,2],[7,5,10]]))\n",
    "\n",
    "delta_3 = np.linalg.det(np.array([[5,3,4],[3,26,9],[7,2,5]]))\n",
    "\n",
    "print(f\"Delta 1 = {delta_1}, Delta 2 = {delta_2}, Delta 3 = {delta_3}\")\n",
    "\n",
    "#All 3 deltas are zero and determinant of coefficient matrix is also zero = the equation has infinite solutions"
   ]
  },
  {
   "cell_type": "markdown",
   "id": "7c6f93e7",
   "metadata": {},
   "source": [
    "**RANK METHOD OF SOLUTION**\n",
    "Rank method for determining the consistency of the system of linear equation will work in all the cases (When number of equations is not equal to number of variables also). We compute two ranks here:\n",
    "1. Rank of Coefficient Matrix A\n",
    "2. Rank of Augmented matrix which is formed by adding columns of Coefficient Matrix and RHS Values.\n",
    "\n",
    "In case of our first example:\n",
    "<br><br>$\\large a_{1}x + b_{1}y = c_1$\n",
    "<br>$\\large a_{2}x + b_{2}y = c_2$\n",
    "<br>Our Coefficient Matrix A = $\\begin{bmatrix} a_1 & b_1 \\\\ a_2 & b_2 \\end{bmatrix}$ and our Augmented Matrix will be $\\begin{bmatrix} a_1 & b_1 & c_1 \\\\ a_2 & b_2 & c_2 \\end{bmatrix}$ let us call it Aug_A.\n",
    "<br> Conditions for solution are:\n",
    "1. If Rank(A) = Rank(Aug_A) then there can be unique solution or infinite solutions:\n",
    "    <br>a. *Unique Solution* when **Rank(A) = Rank(Aug_A) = Number of Variables**\n",
    "    <br>b. *Infinite Solutions* when **Rank(A) = Rank(Aug_A) < Number of Variables**\n",
    "<br>Remember Max of a rank for a mXn matrix is min(m,n) therefore rank can never be greater than number of variables.\n",
    "2. If **Rank(A) $\\neq$ Rank(Aug_A)** then there is *no solution*\n",
    "\n",
    "<br>In order to find the solution we can use any of the approaches by computation of $\\Delta$, $\\Delta_1$,... \n",
    "<br>Or by computation of $A^{-1}$xb.\n",
    "\n",
    "<br>Let us check for the consistency and solve the system of equations we solved using determinant method:\n",
    "<br>***Example 1:***<br>\n",
    "2x+3y=5 <br>\n",
    "7x+5y=10\n",
    "\n",
    "<br>***Example 2:***\n",
    "<br> Test for consistency and solve following system of equations:<br>\n",
    "2x-3y+7z = 5 <br>\n",
    "3x+y-3z = 13 <br>\n",
    "2x+19y-47z = 32 <br>\n",
    "\n",
    "**Example 3**\n",
    "<br>5x+3y+7z = 4\n",
    "<br>3x+26y+2z =9\n",
    "<br>7x+2y+10z = 5\n",
    "<br>We can straight away jump to the solution.\n"
   ]
  },
  {
   "cell_type": "code",
   "execution_count": 43,
   "id": "f08877c8",
   "metadata": {},
   "outputs": [
    {
     "name": "stdout",
     "output_type": "stream",
     "text": [
      "Rank of Coefficient Matrix = 2 & Rank of Augmented Matrix = 2\n"
     ]
    }
   ],
   "source": [
    "#Solution 1\n",
    "coeff_mat = np.array([[2,3],[7,5]])\n",
    "aug_mat = np.array([[2,3,5],[7,5,10]])\n",
    "rank_coeff_mat = np.linalg.matrix_rank(coeff_mat)\n",
    "rank_aug_mat = np.linalg.matrix_rank(aug_mat)\n",
    "print(f\"Rank of Coefficient Matrix = {rank_coeff_mat} & Rank of Augmented Matrix = {rank_aug_mat}\")\n",
    "#This shows that the rank of coefficient matrix and augmented matrix is same and is equal to number of variables,\n",
    "#THE EQUATION HAS UNIQUE SOLUTION"
   ]
  },
  {
   "cell_type": "code",
   "execution_count": 50,
   "id": "c818fcce",
   "metadata": {},
   "outputs": [
    {
     "name": "stdout",
     "output_type": "stream",
     "text": [
      "[[  2  -3   7   5]\n",
      " [  3   1  -3  13]\n",
      " [  2  19 -47  32]]\n",
      "Rank of Coefficient Matrix = 2 & Rank of Augmented Matrix = 3\n"
     ]
    }
   ],
   "source": [
    "#Solution 2\n",
    "coeff_mat = np.array([[2,-3,7],[3,1,-3],[2,19,-47]])\n",
    "b = np.array([[5,13,32]]).T\n",
    "aug_mat = np.concatenate((coeff_mat,b),axis=1)\n",
    "#Instead of typing the matrix again we can concatenate to create augmented matrix\n",
    "print(aug_mat)\n",
    "rank_coeff_mat = np.linalg.matrix_rank(coeff_mat)\n",
    "rank_aug_mat = np.linalg.matrix_rank(aug_mat)\n",
    "print(f\"Rank of Coefficient Matrix = {rank_coeff_mat} & Rank of Augmented Matrix = {rank_aug_mat}\")\n",
    "#Here rank of Coefficient matrix is not equal to rank of augmented matrix => No solution exists"
   ]
  },
  {
   "cell_type": "code",
   "execution_count": 59,
   "id": "082f95e6",
   "metadata": {},
   "outputs": [
    {
     "name": "stdout",
     "output_type": "stream",
     "text": [
      "Rank of Coefficient Matrix = 2 & Rank of Augmented Matrix = 2\n"
     ]
    }
   ],
   "source": [
    "#Solution 3\n",
    "coeff_mat = np.array([[5,3,7],[3,26,2],[7,2,10]])\n",
    "b = np.array([[4,9,5]]).T\n",
    "aug_mat = np.concatenate((coeff_mat,b),axis = 1)\n",
    "rank_coeff_mat = np.linalg.matrix_rank(coeff_mat)\n",
    "rank_aug_mat = np.linalg.matrix_rank(aug_mat)\n",
    "print(f\"Rank of Coefficient Matrix = {rank_coeff_mat} & Rank of Augmented Matrix = {rank_aug_mat}\")\n",
    "#Here the rank of Coefficient Matrix = Rank of Augmented matrix < Number of Variables => Infinite Solutions"
   ]
  },
  {
   "cell_type": "markdown",
   "id": "617f0b73",
   "metadata": {},
   "source": [
    "Let us take one more example of system of equations where we have more equations than variables:\n",
    "<br>3x+3y+2z = 1\n",
    "<br>x+2y=4\n",
    "<br>10y+3z = -2\n",
    "<br>2x-3y-z = 5\n",
    "<br>Here we will not be able to use determinant method because the augmented and coefficient matrix are not square. "
   ]
  },
  {
   "cell_type": "code",
   "execution_count": 54,
   "id": "ecf9291c",
   "metadata": {},
   "outputs": [
    {
     "name": "stdout",
     "output_type": "stream",
     "text": [
      "Rank of Coefficient Matrix = 3 & Rank of Augmented Matrix = 3\n"
     ]
    }
   ],
   "source": [
    "coeff_mat = np.array([[3,3,2],[1,2,0],[0,10,3],[2,-3,-1]])\n",
    "b = np.array([[1,4,-2,5]]).T\n",
    "aug_mat = np.concatenate((coeff_mat,b),axis = 1)\n",
    "rank_coeff_mat = np.linalg.matrix_rank(coeff_mat)\n",
    "rank_aug_mat = np.linalg.matrix_rank(aug_mat)\n",
    "print(f\"Rank of Coefficient Matrix = {rank_coeff_mat} & Rank of Augmented Matrix = {rank_aug_mat}\")\n",
    "#As the rank of Coefficient MAtrix = Rank of Augmented Matrix = Number of Variables => There is a unique solution.\n",
    "#To solve this equation we need to use advanced matrix computation which is penrose-pseudo inverse or we can use sympy package"
   ]
  },
  {
   "cell_type": "code",
   "execution_count": 57,
   "id": "f725c892",
   "metadata": {},
   "outputs": [
    {
     "name": "stdout",
     "output_type": "stream",
     "text": [
      "(Matrix([\n",
      "[1, 0, 0],\n",
      "[0, 1, 0],\n",
      "[0, 0, 1],\n",
      "[0, 0, 0]]), (0, 1, 2))\n",
      "(Matrix([\n",
      "[1, 0, 0,  2],\n",
      "[0, 1, 0,  1],\n",
      "[0, 0, 1, -4],\n",
      "[0, 0, 0,  0]]), (0, 1, 2))\n"
     ]
    }
   ],
   "source": [
    "from sympy import *\n",
    "coeff_matrix = Matrix(coeff_mat)\n",
    "aug_matrix = Matrix(aug_mat)\n",
    "print(coeff_matrix.rref())\n",
    "print(aug_matrix.rref())\n",
    "#Here look at the last column of the reduced row-echelon form of augmented matrix\n",
    "#z = -4\n",
    "#y = 1\n",
    "#x = 2"
   ]
  },
  {
   "cell_type": "markdown",
   "id": "cf9a458b",
   "metadata": {},
   "source": [
    "Note: You will see a tuple along with RREF output (0,1,2) that is the detail of the pivots and is not relevant for our solution.\n",
    "\n",
    "This completes our discussion on solution of linear equations using python.\n",
    "\n",
    "-----"
   ]
  },
  {
   "cell_type": "markdown",
   "id": "da503b2d",
   "metadata": {},
   "source": [
    "### Read this section for topic of linear independence of vectors\n",
    "#### Checking for linear independence of a set of vectors\n",
    "If you are given say n vectors  ($v_1, v_2, v_3, v_4 ... v_n$) and are asked to check if these vectors are linearly independent. An easy way to do the same is to use the fundamental definition of linear independence:\n",
    "\n",
    "$x_1.v_1 + x_2.v_2 + x_3.v_3 .... x_n.v_n$ = 0, where at-least one of the $x_1, x_2, x_3 ... x_n$ should be non-zero.\n",
    "\n",
    "Writing this in the matrix form becomes:\n",
    "$\\begin{bmatrix} v_{1,1} \\\\ v_{2,1}  \\\\ v_{3,1} \\end{bmatrix}$ . $x_1$ + $\\begin{bmatrix} v_{1,2} \\\\ v_{2,2}  \\\\ v_{3,2} \\end{bmatrix}$ . $x_2$ ... $\\begin{bmatrix} v_{1,n} \\\\ v_{2,n}  \\\\ v_{3,n} \\end{bmatrix}$ . $x_2$ = 0.\n",
    "\n",
    "Where $v_{1,1}, v_{2,1}$ ... etc are elements of vector $v_1$ so on.\n",
    "<br>**Note**: We have used here a 3 elements in each vector this argument can be extended to any length (I Was too lazy to type a nXn vector).  \n",
    "\n",
    "This in form of matrix multiplication can be written as:\n",
    "\n",
    "$\\begin{bmatrix} v_{1,1} & v_{1,2} & ... & v_{1,n} \\\\ v_{2,1} & v_{2,2} & ... & v_{2,n}  \\\\ v_{3,1} & v_{3,2} & ... & v_{3,n} \\end{bmatrix}$ . $\\begin{bmatrix} x_1 \\\\ x_2 \\\\x_3 \\\\... \\\\ x_n \\end{bmatrix}$ \n",
    "\n",
    "<br> This will be a 3X1 matrix and which can be seen to be the equation we wrote above. Now if the determinant of this matrix V is 0 then the vectors are not linearly independent. Let us take an example. \n",
    "\n",
    "Question: To check if 3 vectors $v_1 = \\begin{bmatrix} 1 \\\\ 2  \\\\ 3 \\end{bmatrix}, v_2 = \\begin{bmatrix} 1 \\\\ 3  \\\\ 4 \\end{bmatrix} and  v_3 = \\begin{bmatrix} 3 \\\\ 8  \\\\ 11 \\end{bmatrix}$ are linearly independent or not?\n",
    "\n",
    "Using the argument above we will create a matrix which has columns as the elements above and check for the determinant = 0 or not. \n",
    "<br> Another way of checking the same is if the rank of the matrix is less than min(Rows, Columns) in the matrix. We will explore both the methods in below codes.\n",
    "\n",
    "**Note** This will become fundamental for linear equation solution for us. "
   ]
  },
  {
   "cell_type": "code",
   "execution_count": 21,
   "id": "6c92aaae",
   "metadata": {},
   "outputs": [
    {
     "name": "stdout",
     "output_type": "stream",
     "text": [
      "(3,)\n",
      "(1, 3)\n"
     ]
    }
   ],
   "source": [
    "import numpy as np\n",
    "v1 = np.array([[1,2,3]])\n",
    "v2 = np.array([[1,3,4]])\n",
    "v3 = np.array([[3,8,11]])\n",
    "##Whenever declaring an array in numpy we need to use two brackets otherwise it becomes a row of elements.\n",
    "##This can be checked by using shape argument \n",
    "v4 = np.array([1,2,3])\n",
    "print(v4.shape)\n",
    "print(v1.shape)\n",
    "#v4 is a 3 element 1d Array and v1 is 3X1 vector (which is exactly what we are looking for)"
   ]
  },
  {
   "cell_type": "code",
   "execution_count": 23,
   "id": "38546baa",
   "metadata": {},
   "outputs": [
    {
     "data": {
      "text/plain": [
       "(3, 3)"
      ]
     },
     "execution_count": 23,
     "metadata": {},
     "output_type": "execute_result"
    }
   ],
   "source": [
    "V_final = np.concatenate((v1.T,v2.T,v3.T),axis = 1)\n",
    "#This gives us the matrix required\n",
    "V_final.shape"
   ]
  },
  {
   "cell_type": "code",
   "execution_count": 24,
   "id": "d4606451",
   "metadata": {},
   "outputs": [
    {
     "name": "stdout",
     "output_type": "stream",
     "text": [
      "-1.1102230246251573e-16\n",
      "2\n"
     ]
    }
   ],
   "source": [
    "##Now we compute the determinant of this matrix:\n",
    "print(np.linalg.det(V_final)) \n",
    "##This gives us a result which is ~0 which means the vectors are linearly dependent. Other way to check is via rank\n",
    "print(np.linalg.matrix_rank(V_final))\n",
    "##The rank is < dimension of the array which means that the vectors are linearly dependent. "
   ]
  },
  {
   "cell_type": "code",
   "execution_count": 25,
   "id": "6caf8af5",
   "metadata": {},
   "outputs": [
    {
     "name": "stdout",
     "output_type": "stream",
     "text": [
      "2\n"
     ]
    }
   ],
   "source": [
    "v1 = np.array([[1,1,2,4]])\n",
    "v2 = np.array([[2,1,1,4]])\n",
    "v3 = np.array([[5,3,4,12]])\n",
    "##Whenever declaring an array in numpy we need to use two brackets otherwise it becomes a row of elements.\n",
    "##This can be checked by using shape argument \n",
    "V_final = np.concatenate((v1.T,v2.T,v3.T),axis = 1)\n",
    "#print(np.linalg.det(V_final))\n",
    "#Determinant approach will not work in case of non-square matrices. \n",
    "print(np.linalg.matrix_rank(V_final))\n",
    "#Rank approach will work in every case. "
   ]
  },
  {
   "cell_type": "markdown",
   "id": "e359e871",
   "metadata": {},
   "source": [
    "**Degree of Freedom in a set of linear equations is $N_{variables}$ - $N_{number Of Linearly Independent Equations}$**"
   ]
  },
  {
   "cell_type": "code",
   "execution_count": null,
   "id": "57722fb8",
   "metadata": {},
   "outputs": [],
   "source": []
  }
 ],
 "metadata": {
  "kernelspec": {
   "display_name": "Python 3 (ipykernel)",
   "language": "python",
   "name": "python3"
  },
  "language_info": {
   "codemirror_mode": {
    "name": "ipython",
    "version": 3
   },
   "file_extension": ".py",
   "mimetype": "text/x-python",
   "name": "python",
   "nbconvert_exporter": "python",
   "pygments_lexer": "ipython3",
   "version": "3.9.7"
  }
 },
 "nbformat": 4,
 "nbformat_minor": 5
}
