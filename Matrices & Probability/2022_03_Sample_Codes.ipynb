{
 "cells": [
  {
   "cell_type": "code",
   "execution_count": 1,
   "id": "8c8edf35",
   "metadata": {},
   "outputs": [],
   "source": [
    "import numpy as np"
   ]
  },
  {
   "cell_type": "code",
   "execution_count": 3,
   "id": "45b21659",
   "metadata": {},
   "outputs": [],
   "source": [
    "A = np.array([[1,1,0,0],[0,1,1,0],[0,0,1,1],[1,0,0,1]])\n",
    "B = np.array([[1,1,1,1],[0,1,1,1],[0,0,1,1],[0,0,0,1]])"
   ]
  },
  {
   "cell_type": "code",
   "execution_count": 6,
   "id": "15b290d0",
   "metadata": {},
   "outputs": [
    {
     "name": "stdout",
     "output_type": "stream",
     "text": [
      "[[ 1. -1.  0.  0.]\n",
      " [ 0.  1. -1.  0.]\n",
      " [ 0.  0.  1. -1.]\n",
      " [ 0.  0.  0.  1.]]\n"
     ]
    }
   ],
   "source": [
    "print(np.linalg.inv(B))\n"
   ]
  },
  {
   "cell_type": "code",
   "execution_count": 10,
   "id": "398045ea",
   "metadata": {},
   "outputs": [
    {
     "data": {
      "text/plain": [
       "array([[ 1.,  0., -1.,  0.],\n",
       "       [ 0.,  1.,  0., -1.],\n",
       "       [ 0.,  0.,  1.,  0.],\n",
       "       [ 1., -1.,  0.,  1.]])"
      ]
     },
     "execution_count": 10,
     "metadata": {},
     "output_type": "execute_result"
    }
   ],
   "source": [
    "np.dot(A,np.linalg.inv(B))"
   ]
  },
  {
   "cell_type": "code",
   "execution_count": 16,
   "id": "d630df40",
   "metadata": {},
   "outputs": [
    {
     "data": {
      "text/plain": [
       "(array([0.+1.j, 0.-1.j]),\n",
       " array([[0.70710678+0.j        , 0.70710678-0.j        ],\n",
       "        [0.        +0.70710678j, 0.        -0.70710678j]]))"
      ]
     },
     "execution_count": 16,
     "metadata": {},
     "output_type": "execute_result"
    }
   ],
   "source": [
    "A = np.array([[0,1],[-1,0]])\n",
    "np.linalg.eig(A)"
   ]
  },
  {
   "cell_type": "code",
   "execution_count": 19,
   "id": "116f2e00",
   "metadata": {},
   "outputs": [
    {
     "data": {
      "text/plain": [
       "(array([1., 5., 3.]),\n",
       " array([[-8.01783726e-01, -8.01783726e-01, -7.07106781e-01],\n",
       "        [ 5.34522484e-01, -5.34522484e-01, -2.15949179e-16],\n",
       "        [-2.67261242e-01, -2.67261242e-01,  7.07106781e-01]]))"
      ]
     },
     "execution_count": 19,
     "metadata": {},
     "output_type": "execute_result"
    }
   ],
   "source": [
    "A = np.array([[3,3,0],[1,3,1],[0,1,3]])\n",
    "np.linalg.eig(A)"
   ]
  },
  {
   "cell_type": "code",
   "execution_count": 24,
   "id": "7f5f5e22",
   "metadata": {},
   "outputs": [
    {
     "data": {
      "text/plain": [
       "10.0"
      ]
     },
     "execution_count": 24,
     "metadata": {},
     "output_type": "execute_result"
    }
   ],
   "source": [
    "A = np.array([[1,2,1,0],[2,2,3,3],[0,0,3,0],[-1,2,3,4]])\n",
    "sum(np.linalg.eig(A)[0])"
   ]
  },
  {
   "cell_type": "code",
   "execution_count": 26,
   "id": "aac152cb",
   "metadata": {},
   "outputs": [
    {
     "data": {
      "text/plain": [
       "(array([0., 0.]),\n",
       " array([[ 1.00000000e+000, -1.00000000e+000],\n",
       "        [ 0.00000000e+000,  2.00416836e-292]]))"
      ]
     },
     "execution_count": 26,
     "metadata": {},
     "output_type": "execute_result"
    }
   ],
   "source": [
    "A = np.array([[0,1],[0,0]])\n",
    "np.linalg.eig(A)"
   ]
  },
  {
   "cell_type": "code",
   "execution_count": 28,
   "id": "fdf4bea5",
   "metadata": {},
   "outputs": [
    {
     "data": {
      "text/plain": [
       "(array([ 1.61803399, -0.61803399]),\n",
       " array([[ 0.85065081, -0.52573111],\n",
       "        [ 0.52573111,  0.85065081]]))"
      ]
     },
     "execution_count": 28,
     "metadata": {},
     "output_type": "execute_result"
    }
   ],
   "source": [
    "A = np.array([[1,1],[1,0]])\n",
    "np.linalg.eig(A)"
   ]
  },
  {
   "cell_type": "code",
   "execution_count": 46,
   "id": "dc1fade1",
   "metadata": {},
   "outputs": [
    {
     "name": "stdout",
     "output_type": "stream",
     "text": [
      "[[0.  0.  0.5 0.  1. ]\n",
      " [0.5 0.  0.  0.  0. ]\n",
      " [0.5 0.5 0.  0.  0. ]\n",
      " [0.  0.  0.5 0.  0. ]\n",
      " [0.  0.5 0.  1.  0. ]]\n"
     ]
    }
   ],
   "source": [
    "A = np.array([[0,0,0.5,0,1],[0.5,0,0,0,0],[0.5,0.5,0,0,0],[0,0,0.5,0,0],[0,0.5,0,1,0]])\n",
    "print(A)\n",
    "v,w = np.linalg.eig(A)"
   ]
  },
  {
   "cell_type": "code",
   "execution_count": 47,
   "id": "1e33f667",
   "metadata": {},
   "outputs": [
    {
     "name": "stdout",
     "output_type": "stream",
     "text": [
      "[ 1.        +0.j         -0.02165772+0.61359282j -0.02165772-0.61359282j\n",
      " -0.47834228+0.32059983j -0.47834228-0.32059983j]\n"
     ]
    }
   ],
   "source": [
    "print(v)"
   ]
  },
  {
   "cell_type": "code",
   "execution_count": 48,
   "id": "1ddbca48",
   "metadata": {},
   "outputs": [
    {
     "name": "stdout",
     "output_type": "stream",
     "text": [
      "[[ 0.65319726+0.j          0.1449275 -0.44675181j  0.1449275 +0.44675181j\n",
      "   0.66234864+0.j          0.66234864-0.j        ]\n",
      " [ 0.32659863+0.j         -0.36775609-0.10511693j -0.36775609+0.10511693j\n",
      "  -0.47773458-0.32019253j -0.47773458+0.32019253j]\n",
      " [ 0.48989795+0.j         -0.4427421 +0.19720419j -0.4427421 -0.19720419j\n",
      "  -0.28794469+0.1417003j  -0.28794469-0.1417003j ]\n",
      " [ 0.24494897+0.j          0.17321474+0.35466454j  0.17321474-0.35466454j\n",
      "   0.27618765+0.03699352j  0.27618765-0.03699352j]\n",
      " [ 0.40824829+0.j          0.49235595+0.j          0.49235595-0.j\n",
      "  -0.17285702+0.14149871j -0.17285702-0.14149871j]]\n"
     ]
    }
   ],
   "source": [
    "print(w)"
   ]
  },
  {
   "cell_type": "code",
   "execution_count": 54,
   "id": "a25ac92d",
   "metadata": {},
   "outputs": [
    {
     "name": "stdout",
     "output_type": "stream",
     "text": [
      "[0.65319726+0.j 0.32659863+0.j 0.48989795+0.j 0.24494897+0.j\n",
      " 0.40824829+0.j]\n",
      "[[1.6 0.8 1.2 0.6 1. ]]\n"
     ]
    }
   ],
   "source": [
    "B = w[:,0]\n",
    "C = np.array([[1.6,0.8,1.2,0.6,1]])\n",
    "B/C\n",
    "print(B)\n",
    "print(C)"
   ]
  },
  {
   "cell_type": "code",
   "execution_count": 59,
   "id": "ea2b1688",
   "metadata": {},
   "outputs": [
    {
     "name": "stdout",
     "output_type": "stream",
     "text": [
      "-450.00000000000006\n",
      "-3599.999999999998\n"
     ]
    }
   ],
   "source": [
    "A = np.array([[10,21,30],[25,35,45],[15,30,45]])\n",
    "np.dot(A,2)\n",
    "print(np.linalg.det(A))\n",
    "print(np.linalg.det(np.dot(A,2)))"
   ]
  },
  {
   "cell_type": "code",
   "execution_count": 61,
   "id": "3e733a9b",
   "metadata": {},
   "outputs": [
    {
     "data": {
      "text/plain": [
       "7.999999999999995"
      ]
     },
     "execution_count": 61,
     "metadata": {},
     "output_type": "execute_result"
    }
   ],
   "source": [
    "np.linalg.det(np.dot(A,2))/np.linalg.det(A)"
   ]
  },
  {
   "cell_type": "code",
   "execution_count": 74,
   "id": "2f632d19",
   "metadata": {},
   "outputs": [
    {
     "name": "stdout",
     "output_type": "stream",
     "text": [
      "[[ 698 1019 1246]\n",
      " [1019 1489 1843]\n",
      " [1246 1843 2642]]\n",
      "-2.3288627468067387e-08\n"
     ]
    }
   ],
   "source": [
    "A = np.array([[23,33,31],[13,20,41]])\n",
    "print(np.dot(A.T,A))\n",
    "C = np.dot(A.T,A)\n",
    "print(np.linalg.det(C))"
   ]
  },
  {
   "cell_type": "code",
   "execution_count": 77,
   "id": "a01cf664",
   "metadata": {},
   "outputs": [
    {
     "name": "stdout",
     "output_type": "stream",
     "text": [
      "16.000000000000078\n"
     ]
    }
   ],
   "source": [
    "A = np.array([[5,3],[7,5]])\n",
    "B = A.T\n",
    "C = np.dot(B,A)\n",
    "print(np.linalg.det(C))"
   ]
  },
  {
   "cell_type": "code",
   "execution_count": null,
   "id": "7d1961ad",
   "metadata": {},
   "outputs": [],
   "source": []
  }
 ],
 "metadata": {
  "kernelspec": {
   "display_name": "Python 3 (ipykernel)",
   "language": "python",
   "name": "python3"
  },
  "language_info": {
   "codemirror_mode": {
    "name": "ipython",
    "version": 3
   },
   "file_extension": ".py",
   "mimetype": "text/x-python",
   "name": "python",
   "nbconvert_exporter": "python",
   "pygments_lexer": "ipython3",
   "version": "3.9.7"
  }
 },
 "nbformat": 4,
 "nbformat_minor": 5
}
